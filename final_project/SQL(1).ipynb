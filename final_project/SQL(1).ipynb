{
 "cells": [
  {
   "cell_type": "markdown",
   "metadata": {},
   "source": [
    "# Анализ данных сервиса для чтения книг по подписке"
   ]
  },
  {
   "cell_type": "markdown",
   "metadata": {},
   "source": [
    "Цель проекта: проанализировать базу данных сервиса, чтобы сформулировать ценностное предложение для нового продукта.\n",
    "\n",
    "План: \n",
    "\n",
    "\n",
    "    Выгрузить данные;\n",
    "    Посчитать, сколько книг вышло после 1 января 2000 года;\n",
    "    Для каждой книги посчитать количество обзоров и среднюю оценку;\n",
    "    Определить издательство, которое выпустило наибольшее число книг толще 50 страниц — так вы исключите из анализа брошюры;\n",
    "    Определить автора с самой высокой средней оценкой книг — учитывайте только книги с 50 и более оценками;\n",
    "    Посчитайть среднее количество обзоров от пользователей, которые поставили больше 48 оценок."
   ]
  },
  {
   "cell_type": "markdown",
   "metadata": {},
   "source": [
    "**Шаг1. Подключение к базе данных.**"
   ]
  },
  {
   "cell_type": "code",
   "execution_count": 12,
   "metadata": {},
   "outputs": [],
   "source": [
    "# импортируем библиотеки\n",
    "import pandas as pd\n",
    "import sqlalchemy as sa\n",
    "# устанавливаем параметры\n",
    "db_config = {\n",
    "'user': '...', # имя пользователя\n",
    "'pwd': '...', # пароль\n",
    "'host': '...',\n",
    "'port': ..., # порт подключения\n",
    "'db': '...' # название базы данных\n",
    "}\n",
    "connection_string = 'postgresql://{user}:{pwd}@{host}:{port}/{db}'.format(**db_config)\n",
    "# сохраняем коннектор\n",
    "engine = sa.create_engine(connection_string, connect_args={'sslmode':'require'})\n",
    "def get_sql_data(query:str, engine:sa.engine.base.Engine=engine) -> pd.DataFrame:\n",
    "    '''Открываем соединение, получаем данные из sql, закрываем соединение'''\n",
    "    with engine.connect() as con:\n",
    "        return pd.read_sql(sql=sa.text(query), con = con)"
   ]
  },
  {
   "cell_type": "markdown",
   "metadata": {},
   "source": [
    "Рассмотрю первую базу данных book."
   ]
  },
  {
   "cell_type": "code",
   "execution_count": 13,
   "metadata": {},
   "outputs": [
    {
     "data": {
      "text/html": [
       "<div>\n",
       "<style scoped>\n",
       "    .dataframe tbody tr th:only-of-type {\n",
       "        vertical-align: middle;\n",
       "    }\n",
       "\n",
       "    .dataframe tbody tr th {\n",
       "        vertical-align: top;\n",
       "    }\n",
       "\n",
       "    .dataframe thead th {\n",
       "        text-align: right;\n",
       "    }\n",
       "</style>\n",
       "<table border=\"1\" class=\"dataframe\">\n",
       "  <thead>\n",
       "    <tr style=\"text-align: right;\">\n",
       "      <th></th>\n",
       "      <th>book_id</th>\n",
       "      <th>author_id</th>\n",
       "      <th>title</th>\n",
       "      <th>num_pages</th>\n",
       "      <th>publication_date</th>\n",
       "      <th>publisher_id</th>\n",
       "    </tr>\n",
       "  </thead>\n",
       "  <tbody>\n",
       "    <tr>\n",
       "      <th>0</th>\n",
       "      <td>1</td>\n",
       "      <td>546</td>\n",
       "      <td>'Salem's Lot</td>\n",
       "      <td>594</td>\n",
       "      <td>2005-11-01</td>\n",
       "      <td>93</td>\n",
       "    </tr>\n",
       "    <tr>\n",
       "      <th>1</th>\n",
       "      <td>2</td>\n",
       "      <td>465</td>\n",
       "      <td>1 000 Places to See Before You Die</td>\n",
       "      <td>992</td>\n",
       "      <td>2003-05-22</td>\n",
       "      <td>336</td>\n",
       "    </tr>\n",
       "    <tr>\n",
       "      <th>2</th>\n",
       "      <td>3</td>\n",
       "      <td>407</td>\n",
       "      <td>13 Little Blue Envelopes (Little Blue Envelope...</td>\n",
       "      <td>322</td>\n",
       "      <td>2010-12-21</td>\n",
       "      <td>135</td>\n",
       "    </tr>\n",
       "    <tr>\n",
       "      <th>3</th>\n",
       "      <td>4</td>\n",
       "      <td>82</td>\n",
       "      <td>1491: New Revelations of the Americas Before C...</td>\n",
       "      <td>541</td>\n",
       "      <td>2006-10-10</td>\n",
       "      <td>309</td>\n",
       "    </tr>\n",
       "    <tr>\n",
       "      <th>4</th>\n",
       "      <td>5</td>\n",
       "      <td>125</td>\n",
       "      <td>1776</td>\n",
       "      <td>386</td>\n",
       "      <td>2006-07-04</td>\n",
       "      <td>268</td>\n",
       "    </tr>\n",
       "  </tbody>\n",
       "</table>\n",
       "</div>"
      ],
      "text/plain": [
       "   book_id  author_id                                              title  \\\n",
       "0        1        546                                       'Salem's Lot   \n",
       "1        2        465                 1 000 Places to See Before You Die   \n",
       "2        3        407  13 Little Blue Envelopes (Little Blue Envelope...   \n",
       "3        4         82  1491: New Revelations of the Americas Before C...   \n",
       "4        5        125                                               1776   \n",
       "\n",
       "   num_pages publication_date  publisher_id  \n",
       "0        594       2005-11-01            93  \n",
       "1        992       2003-05-22           336  \n",
       "2        322       2010-12-21           135  \n",
       "3        541       2006-10-10           309  \n",
       "4        386       2006-07-04           268  "
      ]
     },
     "execution_count": 13,
     "metadata": {},
     "output_type": "execute_result"
    }
   ],
   "source": [
    "query = '''SELECT * \n",
    "        FROM books \n",
    "        LIMIT 5'''\n",
    "get_sql_data(query)"
   ]
  },
  {
   "cell_type": "markdown",
   "metadata": {},
   "source": [
    "База данных books содержит информацию об айди книги(book_id), айди автора(author_id), название книги(title), количество страниц(num_pages), дата публикации(publication_date), айди издательства(publisher_id)."
   ]
  },
  {
   "cell_type": "code",
   "execution_count": 14,
   "metadata": {},
   "outputs": [
    {
     "data": {
      "text/html": [
       "<div>\n",
       "<style scoped>\n",
       "    .dataframe tbody tr th:only-of-type {\n",
       "        vertical-align: middle;\n",
       "    }\n",
       "\n",
       "    .dataframe tbody tr th {\n",
       "        vertical-align: top;\n",
       "    }\n",
       "\n",
       "    .dataframe thead th {\n",
       "        text-align: right;\n",
       "    }\n",
       "</style>\n",
       "<table border=\"1\" class=\"dataframe\">\n",
       "  <thead>\n",
       "    <tr style=\"text-align: right;\">\n",
       "      <th></th>\n",
       "      <th>author_id</th>\n",
       "      <th>author</th>\n",
       "    </tr>\n",
       "  </thead>\n",
       "  <tbody>\n",
       "    <tr>\n",
       "      <th>0</th>\n",
       "      <td>1</td>\n",
       "      <td>A.S. Byatt</td>\n",
       "    </tr>\n",
       "    <tr>\n",
       "      <th>1</th>\n",
       "      <td>2</td>\n",
       "      <td>Aesop/Laura Harris/Laura Gibbs</td>\n",
       "    </tr>\n",
       "    <tr>\n",
       "      <th>2</th>\n",
       "      <td>3</td>\n",
       "      <td>Agatha Christie</td>\n",
       "    </tr>\n",
       "    <tr>\n",
       "      <th>3</th>\n",
       "      <td>4</td>\n",
       "      <td>Alan Brennert</td>\n",
       "    </tr>\n",
       "    <tr>\n",
       "      <th>4</th>\n",
       "      <td>5</td>\n",
       "      <td>Alan Moore/David   Lloyd</td>\n",
       "    </tr>\n",
       "  </tbody>\n",
       "</table>\n",
       "</div>"
      ],
      "text/plain": [
       "   author_id                          author\n",
       "0          1                      A.S. Byatt\n",
       "1          2  Aesop/Laura Harris/Laura Gibbs\n",
       "2          3                 Agatha Christie\n",
       "3          4                   Alan Brennert\n",
       "4          5        Alan Moore/David   Lloyd"
      ]
     },
     "execution_count": 14,
     "metadata": {},
     "output_type": "execute_result"
    }
   ],
   "source": [
    "query = \"\"\"SELECT *\n",
    "           FROM authors\n",
    "           LIMIT 5;\n",
    "        \"\"\"\n",
    "\n",
    "# выводим результат\n",
    "get_sql_data(query)"
   ]
  },
  {
   "cell_type": "markdown",
   "metadata": {},
   "source": [
    "Датасет authors содержит информацию об айди автора(author_id) и имя автора(author). "
   ]
  },
  {
   "cell_type": "code",
   "execution_count": 15,
   "metadata": {},
   "outputs": [
    {
     "data": {
      "text/html": [
       "<div>\n",
       "<style scoped>\n",
       "    .dataframe tbody tr th:only-of-type {\n",
       "        vertical-align: middle;\n",
       "    }\n",
       "\n",
       "    .dataframe tbody tr th {\n",
       "        vertical-align: top;\n",
       "    }\n",
       "\n",
       "    .dataframe thead th {\n",
       "        text-align: right;\n",
       "    }\n",
       "</style>\n",
       "<table border=\"1\" class=\"dataframe\">\n",
       "  <thead>\n",
       "    <tr style=\"text-align: right;\">\n",
       "      <th></th>\n",
       "      <th>rating_id</th>\n",
       "      <th>book_id</th>\n",
       "      <th>username</th>\n",
       "      <th>rating</th>\n",
       "    </tr>\n",
       "  </thead>\n",
       "  <tbody>\n",
       "    <tr>\n",
       "      <th>0</th>\n",
       "      <td>1</td>\n",
       "      <td>1</td>\n",
       "      <td>ryanfranco</td>\n",
       "      <td>4</td>\n",
       "    </tr>\n",
       "    <tr>\n",
       "      <th>1</th>\n",
       "      <td>2</td>\n",
       "      <td>1</td>\n",
       "      <td>grantpatricia</td>\n",
       "      <td>2</td>\n",
       "    </tr>\n",
       "    <tr>\n",
       "      <th>2</th>\n",
       "      <td>3</td>\n",
       "      <td>1</td>\n",
       "      <td>brandtandrea</td>\n",
       "      <td>5</td>\n",
       "    </tr>\n",
       "    <tr>\n",
       "      <th>3</th>\n",
       "      <td>4</td>\n",
       "      <td>2</td>\n",
       "      <td>lorichen</td>\n",
       "      <td>3</td>\n",
       "    </tr>\n",
       "    <tr>\n",
       "      <th>4</th>\n",
       "      <td>5</td>\n",
       "      <td>2</td>\n",
       "      <td>mariokeller</td>\n",
       "      <td>2</td>\n",
       "    </tr>\n",
       "  </tbody>\n",
       "</table>\n",
       "</div>"
      ],
      "text/plain": [
       "   rating_id  book_id       username  rating\n",
       "0          1        1     ryanfranco       4\n",
       "1          2        1  grantpatricia       2\n",
       "2          3        1   brandtandrea       5\n",
       "3          4        2       lorichen       3\n",
       "4          5        2    mariokeller       2"
      ]
     },
     "execution_count": 15,
     "metadata": {},
     "output_type": "execute_result"
    }
   ],
   "source": [
    "query = \"\"\"SELECT *\n",
    "           FROM ratings\n",
    "           LIMIT 5;\n",
    "        \"\"\"\n",
    "\n",
    "# выводим результат\n",
    "get_sql_data(query)"
   ]
  },
  {
   "cell_type": "markdown",
   "metadata": {},
   "source": [
    "База данных ratings содержит информацию об айди оценки(rating_id), айди книги(book_id), имя пользователя, оставившего оценку(username), оценка книги(rating)."
   ]
  },
  {
   "cell_type": "code",
   "execution_count": 16,
   "metadata": {},
   "outputs": [
    {
     "data": {
      "text/html": [
       "<div>\n",
       "<style scoped>\n",
       "    .dataframe tbody tr th:only-of-type {\n",
       "        vertical-align: middle;\n",
       "    }\n",
       "\n",
       "    .dataframe tbody tr th {\n",
       "        vertical-align: top;\n",
       "    }\n",
       "\n",
       "    .dataframe thead th {\n",
       "        text-align: right;\n",
       "    }\n",
       "</style>\n",
       "<table border=\"1\" class=\"dataframe\">\n",
       "  <thead>\n",
       "    <tr style=\"text-align: right;\">\n",
       "      <th></th>\n",
       "      <th>review_id</th>\n",
       "      <th>book_id</th>\n",
       "      <th>username</th>\n",
       "      <th>text</th>\n",
       "    </tr>\n",
       "  </thead>\n",
       "  <tbody>\n",
       "    <tr>\n",
       "      <th>0</th>\n",
       "      <td>1</td>\n",
       "      <td>1</td>\n",
       "      <td>brandtandrea</td>\n",
       "      <td>Mention society tell send professor analysis. ...</td>\n",
       "    </tr>\n",
       "    <tr>\n",
       "      <th>1</th>\n",
       "      <td>2</td>\n",
       "      <td>1</td>\n",
       "      <td>ryanfranco</td>\n",
       "      <td>Foot glass pretty audience hit themselves. Amo...</td>\n",
       "    </tr>\n",
       "    <tr>\n",
       "      <th>2</th>\n",
       "      <td>3</td>\n",
       "      <td>2</td>\n",
       "      <td>lorichen</td>\n",
       "      <td>Listen treat keep worry. Miss husband tax but ...</td>\n",
       "    </tr>\n",
       "    <tr>\n",
       "      <th>3</th>\n",
       "      <td>4</td>\n",
       "      <td>3</td>\n",
       "      <td>johnsonamanda</td>\n",
       "      <td>Finally month interesting blue could nature cu...</td>\n",
       "    </tr>\n",
       "    <tr>\n",
       "      <th>4</th>\n",
       "      <td>5</td>\n",
       "      <td>3</td>\n",
       "      <td>scotttamara</td>\n",
       "      <td>Nation purpose heavy give wait song will. List...</td>\n",
       "    </tr>\n",
       "  </tbody>\n",
       "</table>\n",
       "</div>"
      ],
      "text/plain": [
       "   review_id  book_id       username  \\\n",
       "0          1        1   brandtandrea   \n",
       "1          2        1     ryanfranco   \n",
       "2          3        2       lorichen   \n",
       "3          4        3  johnsonamanda   \n",
       "4          5        3    scotttamara   \n",
       "\n",
       "                                                text  \n",
       "0  Mention society tell send professor analysis. ...  \n",
       "1  Foot glass pretty audience hit themselves. Amo...  \n",
       "2  Listen treat keep worry. Miss husband tax but ...  \n",
       "3  Finally month interesting blue could nature cu...  \n",
       "4  Nation purpose heavy give wait song will. List...  "
      ]
     },
     "execution_count": 16,
     "metadata": {},
     "output_type": "execute_result"
    }
   ],
   "source": [
    "query = \"\"\"SELECT *\n",
    "           FROM reviews\n",
    "           LIMIT 5;\n",
    "        \"\"\"\n",
    "\n",
    "# выводим результат\n",
    "get_sql_data(query)"
   ]
  },
  {
   "cell_type": "markdown",
   "metadata": {},
   "source": [
    "База данных reviews содержит информацию об идентификатор обзора(review_id), идентификатор книги(book_id),  имя пользователя, написавшего обзор(username) и текст обзора(text)."
   ]
  },
  {
   "cell_type": "code",
   "execution_count": 17,
   "metadata": {},
   "outputs": [
    {
     "data": {
      "text/html": [
       "<div>\n",
       "<style scoped>\n",
       "    .dataframe tbody tr th:only-of-type {\n",
       "        vertical-align: middle;\n",
       "    }\n",
       "\n",
       "    .dataframe tbody tr th {\n",
       "        vertical-align: top;\n",
       "    }\n",
       "\n",
       "    .dataframe thead th {\n",
       "        text-align: right;\n",
       "    }\n",
       "</style>\n",
       "<table border=\"1\" class=\"dataframe\">\n",
       "  <thead>\n",
       "    <tr style=\"text-align: right;\">\n",
       "      <th></th>\n",
       "      <th>publisher_id</th>\n",
       "      <th>publisher</th>\n",
       "    </tr>\n",
       "  </thead>\n",
       "  <tbody>\n",
       "    <tr>\n",
       "      <th>0</th>\n",
       "      <td>1</td>\n",
       "      <td>Ace</td>\n",
       "    </tr>\n",
       "    <tr>\n",
       "      <th>1</th>\n",
       "      <td>2</td>\n",
       "      <td>Ace Book</td>\n",
       "    </tr>\n",
       "    <tr>\n",
       "      <th>2</th>\n",
       "      <td>3</td>\n",
       "      <td>Ace Books</td>\n",
       "    </tr>\n",
       "    <tr>\n",
       "      <th>3</th>\n",
       "      <td>4</td>\n",
       "      <td>Ace Hardcover</td>\n",
       "    </tr>\n",
       "    <tr>\n",
       "      <th>4</th>\n",
       "      <td>5</td>\n",
       "      <td>Addison Wesley Publishing Company</td>\n",
       "    </tr>\n",
       "  </tbody>\n",
       "</table>\n",
       "</div>"
      ],
      "text/plain": [
       "   publisher_id                          publisher\n",
       "0             1                                Ace\n",
       "1             2                           Ace Book\n",
       "2             3                          Ace Books\n",
       "3             4                      Ace Hardcover\n",
       "4             5  Addison Wesley Publishing Company"
      ]
     },
     "execution_count": 17,
     "metadata": {},
     "output_type": "execute_result"
    }
   ],
   "source": [
    "query = \"\"\"SELECT *\n",
    "           FROM publishers\n",
    "           LIMIT 5;\n",
    "        \"\"\"\n",
    "\n",
    "# выводим результат\n",
    "get_sql_data(query)"
   ]
  },
  {
   "cell_type": "markdown",
   "metadata": {},
   "source": [
    "База данных содержит идентификатор издательства(publisher_id) и  название издательства(publisher)."
   ]
  },
  {
   "cell_type": "markdown",
   "metadata": {},
   "source": [
    "**Шаг2. Анализ данных.**"
   ]
  },
  {
   "cell_type": "code",
   "execution_count": 18,
   "metadata": {},
   "outputs": [
    {
     "data": {
      "text/html": [
       "<div>\n",
       "<style scoped>\n",
       "    .dataframe tbody tr th:only-of-type {\n",
       "        vertical-align: middle;\n",
       "    }\n",
       "\n",
       "    .dataframe tbody tr th {\n",
       "        vertical-align: top;\n",
       "    }\n",
       "\n",
       "    .dataframe thead th {\n",
       "        text-align: right;\n",
       "    }\n",
       "</style>\n",
       "<table border=\"1\" class=\"dataframe\">\n",
       "  <thead>\n",
       "    <tr style=\"text-align: right;\">\n",
       "      <th></th>\n",
       "      <th>count</th>\n",
       "    </tr>\n",
       "  </thead>\n",
       "  <tbody>\n",
       "    <tr>\n",
       "      <th>0</th>\n",
       "      <td>819</td>\n",
       "    </tr>\n",
       "  </tbody>\n",
       "</table>\n",
       "</div>"
      ],
      "text/plain": [
       "   count\n",
       "0    819"
      ]
     },
     "execution_count": 18,
     "metadata": {},
     "output_type": "execute_result"
    }
   ],
   "source": [
    "query = \"\"\"SELECT COUNT(book_id)\n",
    "           FROM books\n",
    "           WHERE publication_date > '2000-01-01';\n",
    "        \"\"\"\n",
    "\n",
    "# выводим результат\n",
    "get_sql_data(query)"
   ]
  },
  {
   "cell_type": "markdown",
   "metadata": {},
   "source": [
    "Количество книг выпущенных после 01 января 2000 равно 819.\n",
    "\n",
    "Посчитаю количество обзоров и среднюю оценку каждой книги. Выведеи первые 5 строк."
   ]
  },
  {
   "cell_type": "code",
   "execution_count": 16,
   "metadata": {
    "scrolled": false
   },
   "outputs": [
    {
     "data": {
      "text/html": [
       "<div>\n",
       "<style scoped>\n",
       "    .dataframe tbody tr th:only-of-type {\n",
       "        vertical-align: middle;\n",
       "    }\n",
       "\n",
       "    .dataframe tbody tr th {\n",
       "        vertical-align: top;\n",
       "    }\n",
       "\n",
       "    .dataframe thead th {\n",
       "        text-align: right;\n",
       "    }\n",
       "</style>\n",
       "<table border=\"1\" class=\"dataframe\">\n",
       "  <thead>\n",
       "    <tr style=\"text-align: right;\">\n",
       "      <th></th>\n",
       "      <th>book_title</th>\n",
       "      <th>num_reviews</th>\n",
       "      <th>average_rating</th>\n",
       "    </tr>\n",
       "  </thead>\n",
       "  <tbody>\n",
       "    <tr>\n",
       "      <th>0</th>\n",
       "      <td>Twilight (Twilight  #1)</td>\n",
       "      <td>7</td>\n",
       "      <td>3.662500</td>\n",
       "    </tr>\n",
       "    <tr>\n",
       "      <th>1</th>\n",
       "      <td>Water for Elephants</td>\n",
       "      <td>6</td>\n",
       "      <td>3.977273</td>\n",
       "    </tr>\n",
       "    <tr>\n",
       "      <th>2</th>\n",
       "      <td>The Glass Castle</td>\n",
       "      <td>6</td>\n",
       "      <td>4.206897</td>\n",
       "    </tr>\n",
       "    <tr>\n",
       "      <th>3</th>\n",
       "      <td>Harry Potter and the Prisoner of Azkaban (Harr...</td>\n",
       "      <td>6</td>\n",
       "      <td>4.414634</td>\n",
       "    </tr>\n",
       "    <tr>\n",
       "      <th>4</th>\n",
       "      <td>The Curious Incident of the Dog in the Night-Time</td>\n",
       "      <td>6</td>\n",
       "      <td>4.081081</td>\n",
       "    </tr>\n",
       "    <tr>\n",
       "      <th>...</th>\n",
       "      <td>...</td>\n",
       "      <td>...</td>\n",
       "      <td>...</td>\n",
       "    </tr>\n",
       "    <tr>\n",
       "      <th>995</th>\n",
       "      <td>Anne Rice's The Vampire Lestat: A Graphic Novel</td>\n",
       "      <td>0</td>\n",
       "      <td>3.666667</td>\n",
       "    </tr>\n",
       "    <tr>\n",
       "      <th>996</th>\n",
       "      <td>The Natural Way to Draw</td>\n",
       "      <td>0</td>\n",
       "      <td>3.000000</td>\n",
       "    </tr>\n",
       "    <tr>\n",
       "      <th>997</th>\n",
       "      <td>The Cat in the Hat and Other Dr. Seuss Favorites</td>\n",
       "      <td>0</td>\n",
       "      <td>5.000000</td>\n",
       "    </tr>\n",
       "    <tr>\n",
       "      <th>998</th>\n",
       "      <td>Essential Tales and Poems</td>\n",
       "      <td>0</td>\n",
       "      <td>4.000000</td>\n",
       "    </tr>\n",
       "    <tr>\n",
       "      <th>999</th>\n",
       "      <td>Disney's Beauty and the Beast (A Little Golden...</td>\n",
       "      <td>0</td>\n",
       "      <td>4.000000</td>\n",
       "    </tr>\n",
       "  </tbody>\n",
       "</table>\n",
       "<p>1000 rows × 3 columns</p>\n",
       "</div>"
      ],
      "text/plain": [
       "                                            book_title  num_reviews  \\\n",
       "0                              Twilight (Twilight  #1)            7   \n",
       "1                                  Water for Elephants            6   \n",
       "2                                     The Glass Castle            6   \n",
       "3    Harry Potter and the Prisoner of Azkaban (Harr...            6   \n",
       "4    The Curious Incident of the Dog in the Night-Time            6   \n",
       "..                                                 ...          ...   \n",
       "995    Anne Rice's The Vampire Lestat: A Graphic Novel            0   \n",
       "996                            The Natural Way to Draw            0   \n",
       "997   The Cat in the Hat and Other Dr. Seuss Favorites            0   \n",
       "998                          Essential Tales and Poems            0   \n",
       "999  Disney's Beauty and the Beast (A Little Golden...            0   \n",
       "\n",
       "     average_rating  \n",
       "0          3.662500  \n",
       "1          3.977273  \n",
       "2          4.206897  \n",
       "3          4.414634  \n",
       "4          4.081081  \n",
       "..              ...  \n",
       "995        3.666667  \n",
       "996        3.000000  \n",
       "997        5.000000  \n",
       "998        4.000000  \n",
       "999        4.000000  \n",
       "\n",
       "[1000 rows x 3 columns]"
      ]
     },
     "execution_count": 16,
     "metadata": {},
     "output_type": "execute_result"
    }
   ],
   "source": [
    "query = \"\"\"SELECT r.book_title,\n",
    "                  r.num_reviews,\n",
    "                  r.average_rating\n",
    "                  FROM (SELECT b.title AS book_title,\n",
    "                 b.book_id as id,\n",
    "       COUNT(DISTINCT r.review_id) AS num_reviews,\n",
    "       COALESCE(AVG(rt.rating), 0) AS average_rating\n",
    "       FROM books b\n",
    "       LEFT JOIN reviews r ON b.book_id = r.book_id\n",
    "       LEFT JOIN ratings rt ON b.book_id = rt.book_id\n",
    "       GROUP BY id\n",
    "       ORDER BY num_reviews DESC) AS r\n",
    "       \n",
    " ;\n",
    "        \"\"\"\n",
    "\n",
    "# выводим результат\n",
    "get_sql_data(query)"
   ]
  },
  {
   "cell_type": "markdown",
   "metadata": {},
   "source": [
    "Мы видим что книги с большим количеством отзывов не гарантируют высокую оценку, так как книги в топ 5 по рейтингу не превышают оценку 4.2 балла. Максимальное количество обзоров на книге-7, такая книга одна и далее идут книги с 6 и менее количеством отзывов.\n",
    "\n",
    "Определим издательство, которое выпустило наибольшее число книг толще 50 страниц."
   ]
  },
  {
   "cell_type": "code",
   "execution_count": 20,
   "metadata": {},
   "outputs": [
    {
     "data": {
      "text/html": [
       "<div>\n",
       "<style scoped>\n",
       "    .dataframe tbody tr th:only-of-type {\n",
       "        vertical-align: middle;\n",
       "    }\n",
       "\n",
       "    .dataframe tbody tr th {\n",
       "        vertical-align: top;\n",
       "    }\n",
       "\n",
       "    .dataframe thead th {\n",
       "        text-align: right;\n",
       "    }\n",
       "</style>\n",
       "<table border=\"1\" class=\"dataframe\">\n",
       "  <thead>\n",
       "    <tr style=\"text-align: right;\">\n",
       "      <th></th>\n",
       "      <th>publisher_name</th>\n",
       "      <th>book_count</th>\n",
       "    </tr>\n",
       "  </thead>\n",
       "  <tbody>\n",
       "    <tr>\n",
       "      <th>0</th>\n",
       "      <td>Penguin Books</td>\n",
       "      <td>42</td>\n",
       "    </tr>\n",
       "  </tbody>\n",
       "</table>\n",
       "</div>"
      ],
      "text/plain": [
       "  publisher_name  book_count\n",
       "0  Penguin Books          42"
      ]
     },
     "execution_count": 20,
     "metadata": {},
     "output_type": "execute_result"
    }
   ],
   "source": [
    "query = \"\"\"SELECT p.publisher AS publisher_name,\n",
    "                  COUNT(b.book_id) AS book_count\n",
    "        FROM books b\n",
    "        JOIN publishers p ON b.publisher_id = p.publisher_id\n",
    "        WHERE b.num_pages > 50\n",
    "        GROUP BY p.publisher\n",
    "        ORDER BY book_count DESC\n",
    "        LIMIT 1;\n",
    "        \"\"\"\n",
    "\n",
    "# выводим результат\n",
    "get_sql_data(query)"
   ]
  },
  {
   "cell_type": "markdown",
   "metadata": {},
   "source": [
    "В базе данных издательство с максимальныи количеством выпущенных книг это Penguin Books.\n",
    "\n",
    "Определим автора с самой высокой средней оценкой книг — учитывать будем только книги с 50 и более оценками."
   ]
  },
  {
   "cell_type": "code",
   "execution_count": 21,
   "metadata": {},
   "outputs": [
    {
     "data": {
      "text/html": [
       "<div>\n",
       "<style scoped>\n",
       "    .dataframe tbody tr th:only-of-type {\n",
       "        vertical-align: middle;\n",
       "    }\n",
       "\n",
       "    .dataframe tbody tr th {\n",
       "        vertical-align: top;\n",
       "    }\n",
       "\n",
       "    .dataframe thead th {\n",
       "        text-align: right;\n",
       "    }\n",
       "</style>\n",
       "<table border=\"1\" class=\"dataframe\">\n",
       "  <thead>\n",
       "    <tr style=\"text-align: right;\">\n",
       "      <th></th>\n",
       "      <th>author_name</th>\n",
       "      <th>average_rate</th>\n",
       "    </tr>\n",
       "  </thead>\n",
       "  <tbody>\n",
       "    <tr>\n",
       "      <th>0</th>\n",
       "      <td>J.K. Rowling/Mary GrandPré</td>\n",
       "      <td>4.28</td>\n",
       "    </tr>\n",
       "  </tbody>\n",
       "</table>\n",
       "</div>"
      ],
      "text/plain": [
       "                  author_name  average_rate\n",
       "0  J.K. Rowling/Mary GrandPré          4.28"
      ]
     },
     "execution_count": 21,
     "metadata": {},
     "output_type": "execute_result"
    }
   ],
   "source": [
    "query = \"\"\"SELECT authors.author AS author_name,\n",
    "                  round(AVG(r.average_rating), 2) AS average_rate    \n",
    "           FROM books\n",
    "           LEFT JOIN (SELECT book_id,\n",
    "                          COUNT(rating) AS count,\n",
    "                          AVG(rating) AS average_rating\n",
    "                   FROM ratings\n",
    "                   GROUP BY book_id) AS r\n",
    "                ON r.book_id = books.book_id\n",
    "           LEFT JOIN authors ON authors.author_id = books.author_id\n",
    "           WHERE r.count >= 50\n",
    "           GROUP BY author_name\n",
    "           ORDER BY average_rate DESC\n",
    "           LIMIT 1\n",
    "        \"\"\"\n",
    "\n",
    "# выводим результат\n",
    "get_sql_data(query)"
   ]
  },
  {
   "cell_type": "markdown",
   "metadata": {},
   "source": [
    "Наибольшая средняя оценка у автора J.K. Rowling.\n",
    "\n",
    "Посчитаем среднее количество обзоров от пользователей, которые поставили больше 48 оценок."
   ]
  },
  {
   "cell_type": "markdown",
   "metadata": {},
   "source": []
  },
  {
   "cell_type": "code",
   "execution_count": 22,
   "metadata": {},
   "outputs": [
    {
     "data": {
      "text/html": [
       "<div>\n",
       "<style scoped>\n",
       "    .dataframe tbody tr th:only-of-type {\n",
       "        vertical-align: middle;\n",
       "    }\n",
       "\n",
       "    .dataframe tbody tr th {\n",
       "        vertical-align: top;\n",
       "    }\n",
       "\n",
       "    .dataframe thead th {\n",
       "        text-align: right;\n",
       "    }\n",
       "</style>\n",
       "<table border=\"1\" class=\"dataframe\">\n",
       "  <thead>\n",
       "    <tr style=\"text-align: right;\">\n",
       "      <th></th>\n",
       "      <th>avg_review_count</th>\n",
       "    </tr>\n",
       "  </thead>\n",
       "  <tbody>\n",
       "    <tr>\n",
       "      <th>0</th>\n",
       "      <td>24.0</td>\n",
       "    </tr>\n",
       "  </tbody>\n",
       "</table>\n",
       "</div>"
      ],
      "text/plain": [
       "   avg_review_count\n",
       "0              24.0"
      ]
     },
     "execution_count": 22,
     "metadata": {},
     "output_type": "execute_result"
    }
   ],
   "source": [
    "query = \"\"\"SELECT AVG(r.review_count) AS avg_review_count\n",
    "           FROM ( SELECT username, COUNT(review_id) AS review_count\n",
    "                  FROM reviews\n",
    "                  GROUP BY username) r\n",
    "           JOIN (SELECT username, COUNT(*) AS rating_count\n",
    "                 FROM ratings\n",
    "                 GROUP BY username\n",
    "                 HAVING COUNT(*) > 48) rr ON r.username = rr.username;\n",
    "\n",
    "   \"\"\"\n",
    "# выводим результат\n",
    "get_sql_data(query)"
   ]
  },
  {
   "cell_type": "markdown",
   "metadata": {},
   "source": [
    "Среднее количество обзоров на пользователя - 24."
   ]
  },
  {
   "cell_type": "markdown",
   "metadata": {},
   "source": [
    "**Вывод**\n",
    "\n",
    "\n",
    "Книг выпущенных после 2000 - 819. Книги с большим количеством отзывов не гарантируют высокую оценку, так как книги в топ 5 по рейтингу не превышают оценку 4.2 балла.Самый рейтинговый автор - J.K. Rowling. В базе данных издательство с максимальныи количеством выпущенных книг это Penguin Books.Среднее количество обзоров на пользователя - 24."
   ]
  }
 ],
 "metadata": {
  "ExecuteTimeLog": [
   {
    "duration": 90,
    "start_time": "2023-11-09T16:44:53.894Z"
   },
   {
    "duration": 11927,
    "start_time": "2023-11-09T16:46:01.989Z"
   },
   {
    "duration": 79,
    "start_time": "2023-11-09T16:47:15.801Z"
   },
   {
    "duration": 4,
    "start_time": "2023-11-09T16:48:20.152Z"
   },
   {
    "duration": 5,
    "start_time": "2023-11-09T16:48:28.381Z"
   },
   {
    "duration": 231,
    "start_time": "2023-11-09T16:48:41.375Z"
   },
   {
    "duration": 53,
    "start_time": "2023-11-09T16:49:27.452Z"
   },
   {
    "duration": 75,
    "start_time": "2023-11-09T16:57:09.771Z"
   },
   {
    "duration": 51,
    "start_time": "2023-11-09T16:57:26.555Z"
   },
   {
    "duration": 51,
    "start_time": "2023-11-09T16:57:32.609Z"
   },
   {
    "duration": 52,
    "start_time": "2023-11-09T16:59:44.885Z"
   },
   {
    "duration": 51,
    "start_time": "2023-11-09T17:02:15.266Z"
   },
   {
    "duration": 51,
    "start_time": "2023-11-09T17:05:10.514Z"
   },
   {
    "duration": 67,
    "start_time": "2023-11-09T17:10:42.229Z"
   },
   {
    "duration": 50,
    "start_time": "2023-11-09T17:11:04.045Z"
   },
   {
    "duration": 98,
    "start_time": "2023-11-09T17:27:48.170Z"
   },
   {
    "duration": 67,
    "start_time": "2023-11-09T17:28:33.010Z"
   },
   {
    "duration": 68,
    "start_time": "2023-11-09T17:29:21.272Z"
   },
   {
    "duration": 122,
    "start_time": "2023-11-09T17:45:54.012Z"
   },
   {
    "duration": 52,
    "start_time": "2023-11-09T17:46:16.557Z"
   },
   {
    "duration": 82,
    "start_time": "2023-11-09T17:58:13.594Z"
   },
   {
    "duration": 65,
    "start_time": "2023-11-09T17:58:27.710Z"
   },
   {
    "duration": 78,
    "start_time": "2023-11-09T18:01:04.060Z"
   },
   {
    "duration": 53,
    "start_time": "2023-11-09T18:01:37.434Z"
   },
   {
    "duration": 52,
    "start_time": "2023-11-09T18:04:37.699Z"
   },
   {
    "duration": 61,
    "start_time": "2023-11-09T18:13:19.274Z"
   },
   {
    "duration": 56,
    "start_time": "2023-11-09T18:17:31.701Z"
   },
   {
    "duration": 55,
    "start_time": "2023-11-09T18:17:51.541Z"
   },
   {
    "duration": 66,
    "start_time": "2023-11-09T18:18:06.632Z"
   },
   {
    "duration": 54,
    "start_time": "2023-11-09T18:20:18.184Z"
   },
   {
    "duration": 53,
    "start_time": "2023-11-09T18:26:00.006Z"
   },
   {
    "duration": 10053,
    "start_time": "2023-11-09T21:19:21.860Z"
   },
   {
    "duration": 227,
    "start_time": "2023-11-09T21:19:31.915Z"
   },
   {
    "duration": 51,
    "start_time": "2023-11-09T21:19:32.145Z"
   },
   {
    "duration": 66,
    "start_time": "2023-11-09T21:19:32.198Z"
   },
   {
    "duration": 51,
    "start_time": "2023-11-09T21:19:32.266Z"
   },
   {
    "duration": 50,
    "start_time": "2023-11-09T21:19:32.319Z"
   },
   {
    "duration": 50,
    "start_time": "2023-11-09T21:19:32.371Z"
   },
   {
    "duration": 69,
    "start_time": "2023-11-09T21:19:32.422Z"
   },
   {
    "duration": 52,
    "start_time": "2023-11-09T21:19:32.492Z"
   },
   {
    "duration": 57,
    "start_time": "2023-11-09T21:19:32.546Z"
   },
   {
    "duration": 53,
    "start_time": "2023-11-09T21:19:32.605Z"
   },
   {
    "duration": 92,
    "start_time": "2023-11-09T21:20:07.333Z"
   },
   {
    "duration": 48,
    "start_time": "2023-11-09T23:38:28.401Z"
   },
   {
    "duration": 9217,
    "start_time": "2023-11-09T23:38:33.691Z"
   },
   {
    "duration": 227,
    "start_time": "2023-11-09T23:38:42.910Z"
   },
   {
    "duration": 52,
    "start_time": "2023-11-09T23:38:43.139Z"
   },
   {
    "duration": 51,
    "start_time": "2023-11-09T23:38:43.193Z"
   },
   {
    "duration": 52,
    "start_time": "2023-11-09T23:38:43.246Z"
   },
   {
    "duration": 51,
    "start_time": "2023-11-09T23:38:43.299Z"
   },
   {
    "duration": 50,
    "start_time": "2023-11-09T23:38:43.352Z"
   },
   {
    "duration": 96,
    "start_time": "2023-11-09T23:38:43.404Z"
   },
   {
    "duration": 77,
    "start_time": "2023-11-09T23:38:43.502Z"
   },
   {
    "duration": 51,
    "start_time": "2023-11-09T23:38:43.582Z"
   },
   {
    "duration": 56,
    "start_time": "2023-11-09T23:38:43.634Z"
   },
   {
    "duration": 53,
    "start_time": "2023-11-09T23:38:43.692Z"
   },
   {
    "duration": 161,
    "start_time": "2023-11-09T23:39:26.576Z"
   },
   {
    "duration": 63,
    "start_time": "2023-11-09T23:39:36.258Z"
   },
   {
    "duration": 63,
    "start_time": "2023-11-09T23:40:13.708Z"
   },
   {
    "duration": 98,
    "start_time": "2023-11-09T23:40:34.259Z"
   },
   {
    "duration": 67,
    "start_time": "2023-11-09T23:54:39.600Z"
   },
   {
    "duration": 56,
    "start_time": "2023-11-09T23:54:48.429Z"
   },
   {
    "duration": 56,
    "start_time": "2023-11-09T23:55:25.842Z"
   },
   {
    "duration": 54,
    "start_time": "2023-11-09T23:56:36.078Z"
   },
   {
    "duration": 9889,
    "start_time": "2023-11-10T16:07:16.110Z"
   },
   {
    "duration": 247,
    "start_time": "2023-11-10T16:07:26.001Z"
   },
   {
    "duration": 98,
    "start_time": "2023-11-10T16:41:00.636Z"
   },
   {
    "duration": 91,
    "start_time": "2023-11-10T16:50:33.480Z"
   },
   {
    "duration": 6,
    "start_time": "2023-11-10T16:52:38.584Z"
   },
   {
    "duration": 229,
    "start_time": "2023-11-10T16:52:38.592Z"
   },
   {
    "duration": 52,
    "start_time": "2023-11-10T16:52:38.822Z"
   },
   {
    "duration": 52,
    "start_time": "2023-11-10T16:52:38.875Z"
   },
   {
    "duration": 53,
    "start_time": "2023-11-10T16:52:38.929Z"
   },
   {
    "duration": 51,
    "start_time": "2023-11-10T16:52:38.984Z"
   },
   {
    "duration": 51,
    "start_time": "2023-11-10T16:52:39.037Z"
   },
   {
    "duration": 89,
    "start_time": "2023-11-10T16:52:39.089Z"
   },
   {
    "duration": 53,
    "start_time": "2023-11-10T16:52:39.179Z"
   },
   {
    "duration": 54,
    "start_time": "2023-11-10T16:52:39.234Z"
   },
   {
    "duration": 54,
    "start_time": "2023-11-10T16:52:39.290Z"
   },
   {
    "duration": 59,
    "start_time": "2023-11-10T17:05:35.324Z"
   },
   {
    "duration": 131,
    "start_time": "2023-11-10T17:12:28.133Z"
   },
   {
    "duration": 89,
    "start_time": "2023-11-10T17:12:38.064Z"
   },
   {
    "duration": 87,
    "start_time": "2023-11-10T17:14:26.887Z"
   },
   {
    "duration": 86,
    "start_time": "2023-11-10T17:15:47.713Z"
   }
  ],
  "kernelspec": {
   "display_name": "Python 3 (ipykernel)",
   "language": "python",
   "name": "python3"
  },
  "language_info": {
   "codemirror_mode": {
    "name": "ipython",
    "version": 3
   },
   "file_extension": ".py",
   "mimetype": "text/x-python",
   "name": "python",
   "nbconvert_exporter": "python",
   "pygments_lexer": "ipython3",
   "version": "3.9.13"
  },
  "toc": {
   "base_numbering": 1,
   "nav_menu": {},
   "number_sections": true,
   "sideBar": true,
   "skip_h1_title": true,
   "title_cell": "Table of Contents",
   "title_sidebar": "Contents",
   "toc_cell": false,
   "toc_position": {},
   "toc_section_display": true,
   "toc_window_display": true
  }
 },
 "nbformat": 4,
 "nbformat_minor": 2
}
