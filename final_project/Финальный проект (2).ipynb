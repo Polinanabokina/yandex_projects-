{
 "cells": [
  {
   "cell_type": "markdown",
   "metadata": {},
   "source": [
    "# Анализ оттока клиентов банка \"Метанпром\""
   ]
  },
  {
   "cell_type": "markdown",
   "metadata": {},
   "source": [
    "**Цель исследования: провести анализ оттока клиентов, выявить сигменты склонные к оттоку, дать рекомендации по их удержанию.**  \n",
    "\n",
    "**Задачи исследования: выгрузить и подготовить данные, исследовательский анализ, проверка гипотез, сегментация клиентов, составление рекомендаций по удержанию клиентов из кадого сегмента**\n",
    "\n",
    "Презентация: https://drive.google.com/drive/folders/1ZhmBBdCz_ptTvNmvIVH3olmFCi3neKhp?usp=sharing\n",
    "\n",
    "\n",
    "**Описание данных**\n",
    "\n",
    "Датасет содержит данные о клиентах банка «Метанпром». Банк располагается в Ярославле и областных городах: Ростов Великий и Рыбинск.\n",
    "\n",
    "**План работы:**\n",
    "\n",
    "1. [Выгрузка и изучение данных](#start)\n",
    "2. [Обработка данных](#2)\n",
    "3. [Исследовательский анализ данных](#3)\n",
    "4. [Статистический анализ](#5)\n",
    "5. [Сегментация и приоритизация](#4)\n",
    "6. [Вывод и рекомендации](#6)"
   ]
  },
  {
   "cell_type": "markdown",
   "metadata": {},
   "source": [
    "***Шаг 1. Выгрузка и изучение данных.***\n",
    "<a id=\"start\"></a>"
   ]
  },
  {
   "cell_type": "code",
   "execution_count": 1,
   "metadata": {},
   "outputs": [
    {
     "name": "stdout",
     "output_type": "stream",
     "text": [
      "Collecting phik\n",
      "  Downloading phik-0.12.3-cp39-cp39-manylinux_2_17_x86_64.manylinux2014_x86_64.whl (679 kB)\n",
      "\u001b[K     |████████████████████████████████| 679 kB 1.1 MB/s eta 0:00:01\n",
      "\u001b[?25hRequirement already satisfied: pandas>=0.25.1 in /opt/conda/lib/python3.9/site-packages (from phik) (1.2.4)\n",
      "Requirement already satisfied: joblib>=0.14.1 in /opt/conda/lib/python3.9/site-packages (from phik) (1.1.0)\n",
      "Requirement already satisfied: scipy>=1.5.2 in /opt/conda/lib/python3.9/site-packages (from phik) (1.9.1)\n",
      "Requirement already satisfied: numpy>=1.18.0 in /opt/conda/lib/python3.9/site-packages (from phik) (1.21.1)\n",
      "Requirement already satisfied: matplotlib>=2.2.3 in /opt/conda/lib/python3.9/site-packages (from phik) (3.3.4)\n",
      "Requirement already satisfied: pyparsing!=2.0.4,!=2.1.2,!=2.1.6,>=2.0.3 in /opt/conda/lib/python3.9/site-packages (from matplotlib>=2.2.3->phik) (2.4.7)\n",
      "Requirement already satisfied: kiwisolver>=1.0.1 in /opt/conda/lib/python3.9/site-packages (from matplotlib>=2.2.3->phik) (1.4.4)\n",
      "Requirement already satisfied: cycler>=0.10 in /opt/conda/lib/python3.9/site-packages (from matplotlib>=2.2.3->phik) (0.11.0)\n",
      "Requirement already satisfied: python-dateutil>=2.1 in /opt/conda/lib/python3.9/site-packages (from matplotlib>=2.2.3->phik) (2.8.1)\n",
      "Requirement already satisfied: pillow>=6.2.0 in /opt/conda/lib/python3.9/site-packages (from matplotlib>=2.2.3->phik) (8.4.0)\n",
      "Requirement already satisfied: pytz>=2017.3 in /opt/conda/lib/python3.9/site-packages (from pandas>=0.25.1->phik) (2021.1)\n",
      "Requirement already satisfied: six>=1.5 in /opt/conda/lib/python3.9/site-packages (from python-dateutil>=2.1->matplotlib>=2.2.3->phik) (1.16.0)\n",
      "Installing collected packages: phik\n",
      "Successfully installed phik-0.12.3\n"
     ]
    }
   ],
   "source": [
    "#выгрузка всех необходимых библиотек \n",
    "import pandas as pd\n",
    "import numpy as np\n",
    "import plotly.express as px\n",
    "import seaborn as sns\n",
    "import matplotlib.pyplot as plt\n",
    "!pip install phik\n",
    "import phik\n",
    "from phik import resources, report\n",
    "import warnings\n",
    "warnings.simplefilter('ignore') "
   ]
  },
  {
   "cell_type": "code",
   "execution_count": 2,
   "metadata": {},
   "outputs": [
    {
     "data": {
      "text/html": [
       "<div>\n",
       "<style scoped>\n",
       "    .dataframe tbody tr th:only-of-type {\n",
       "        vertical-align: middle;\n",
       "    }\n",
       "\n",
       "    .dataframe tbody tr th {\n",
       "        vertical-align: top;\n",
       "    }\n",
       "\n",
       "    .dataframe thead th {\n",
       "        text-align: right;\n",
       "    }\n",
       "</style>\n",
       "<table border=\"1\" class=\"dataframe\">\n",
       "  <thead>\n",
       "    <tr style=\"text-align: right;\">\n",
       "      <th></th>\n",
       "      <th>USERID</th>\n",
       "      <th>score</th>\n",
       "      <th>city</th>\n",
       "      <th>gender</th>\n",
       "      <th>age</th>\n",
       "      <th>equity</th>\n",
       "      <th>balance</th>\n",
       "      <th>products</th>\n",
       "      <th>credit_card</th>\n",
       "      <th>last_activity</th>\n",
       "      <th>EST_SALARY</th>\n",
       "      <th>churn</th>\n",
       "    </tr>\n",
       "  </thead>\n",
       "  <tbody>\n",
       "    <tr>\n",
       "      <th>0</th>\n",
       "      <td>183012</td>\n",
       "      <td>850.0</td>\n",
       "      <td>Рыбинск</td>\n",
       "      <td>Ж</td>\n",
       "      <td>25.0</td>\n",
       "      <td>1</td>\n",
       "      <td>59214.82</td>\n",
       "      <td>2</td>\n",
       "      <td>0</td>\n",
       "      <td>1</td>\n",
       "      <td>75719.14</td>\n",
       "      <td>1</td>\n",
       "    </tr>\n",
       "    <tr>\n",
       "      <th>1</th>\n",
       "      <td>146556</td>\n",
       "      <td>861.0</td>\n",
       "      <td>Рыбинск</td>\n",
       "      <td>Ж</td>\n",
       "      <td>37.0</td>\n",
       "      <td>5</td>\n",
       "      <td>850594.33</td>\n",
       "      <td>3</td>\n",
       "      <td>1</td>\n",
       "      <td>0</td>\n",
       "      <td>86621.77</td>\n",
       "      <td>0</td>\n",
       "    </tr>\n",
       "    <tr>\n",
       "      <th>2</th>\n",
       "      <td>120722</td>\n",
       "      <td>892.0</td>\n",
       "      <td>Рыбинск</td>\n",
       "      <td>Ж</td>\n",
       "      <td>30.0</td>\n",
       "      <td>0</td>\n",
       "      <td>NaN</td>\n",
       "      <td>1</td>\n",
       "      <td>1</td>\n",
       "      <td>1</td>\n",
       "      <td>107683.34</td>\n",
       "      <td>0</td>\n",
       "    </tr>\n",
       "    <tr>\n",
       "      <th>3</th>\n",
       "      <td>225363</td>\n",
       "      <td>866.0</td>\n",
       "      <td>Ярославль</td>\n",
       "      <td>Ж</td>\n",
       "      <td>51.0</td>\n",
       "      <td>5</td>\n",
       "      <td>1524746.26</td>\n",
       "      <td>2</td>\n",
       "      <td>0</td>\n",
       "      <td>1</td>\n",
       "      <td>174423.53</td>\n",
       "      <td>1</td>\n",
       "    </tr>\n",
       "    <tr>\n",
       "      <th>4</th>\n",
       "      <td>157978</td>\n",
       "      <td>730.0</td>\n",
       "      <td>Ярославль</td>\n",
       "      <td>М</td>\n",
       "      <td>34.0</td>\n",
       "      <td>5</td>\n",
       "      <td>174.00</td>\n",
       "      <td>1</td>\n",
       "      <td>1</td>\n",
       "      <td>0</td>\n",
       "      <td>67353.16</td>\n",
       "      <td>1</td>\n",
       "    </tr>\n",
       "  </tbody>\n",
       "</table>\n",
       "</div>"
      ],
      "text/plain": [
       "   USERID  score       city gender   age  equity     balance  products  \\\n",
       "0  183012  850.0    Рыбинск      Ж  25.0       1    59214.82         2   \n",
       "1  146556  861.0    Рыбинск      Ж  37.0       5   850594.33         3   \n",
       "2  120722  892.0    Рыбинск      Ж  30.0       0         NaN         1   \n",
       "3  225363  866.0  Ярославль      Ж  51.0       5  1524746.26         2   \n",
       "4  157978  730.0  Ярославль      М  34.0       5      174.00         1   \n",
       "\n",
       "   credit_card  last_activity  EST_SALARY  churn  \n",
       "0            0              1    75719.14      1  \n",
       "1            1              0    86621.77      0  \n",
       "2            1              1   107683.34      0  \n",
       "3            0              1   174423.53      1  \n",
       "4            1              0    67353.16      1  "
      ]
     },
     "execution_count": 2,
     "metadata": {},
     "output_type": "execute_result"
    }
   ],
   "source": [
    "data = pd.read_csv('...')\n",
    "data.head()"
   ]
  },
  {
   "cell_type": "code",
   "execution_count": 3,
   "metadata": {},
   "outputs": [
    {
     "name": "stdout",
     "output_type": "stream",
     "text": [
      "<class 'pandas.core.frame.DataFrame'>\n",
      "RangeIndex: 10000 entries, 0 to 9999\n",
      "Data columns (total 12 columns):\n",
      " #   Column         Non-Null Count  Dtype  \n",
      "---  ------         --------------  -----  \n",
      " 0   USERID         10000 non-null  int64  \n",
      " 1   score          10000 non-null  float64\n",
      " 2   city           10000 non-null  object \n",
      " 3   gender         10000 non-null  object \n",
      " 4   age            9974 non-null   float64\n",
      " 5   equity         10000 non-null  int64  \n",
      " 6   balance        7705 non-null   float64\n",
      " 7   products       10000 non-null  int64  \n",
      " 8   credit_card    10000 non-null  int64  \n",
      " 9   last_activity  10000 non-null  int64  \n",
      " 10  EST_SALARY     10000 non-null  float64\n",
      " 11  churn          10000 non-null  int64  \n",
      "dtypes: float64(4), int64(6), object(2)\n",
      "memory usage: 937.6+ KB\n"
     ]
    }
   ],
   "source": [
    "data.info()"
   ]
  },
  {
   "cell_type": "code",
   "execution_count": 4,
   "metadata": {},
   "outputs": [
    {
     "data": {
      "text/plain": [
       "USERID            0.00\n",
       "score             0.00\n",
       "city              0.00\n",
       "gender            0.00\n",
       "age               0.26\n",
       "equity            0.00\n",
       "balance          22.95\n",
       "products          0.00\n",
       "credit_card       0.00\n",
       "last_activity     0.00\n",
       "EST_SALARY        0.00\n",
       "churn             0.00\n",
       "dtype: float64"
      ]
     },
     "execution_count": 4,
     "metadata": {},
     "output_type": "execute_result"
    }
   ],
   "source": [
    "#рассмотрю отсутвующие данные в каждой категории\n",
    "data.isnull().sum()*100/len(data)"
   ]
  },
  {
   "cell_type": "markdown",
   "metadata": {},
   "source": [
    "Анализируемая таблица содержит 12 колонок с данными о клиентах банка. Данные 4 столбцов из датасета содержат данные типа float64, 6 int64 и 2 object. В данных присутсвуют пропущенные значения, почти 23 процента в столбце balance и 0.26 процента age. Таблица содержит следующие данные:\n",
    "\n",
    "    userid — идентификатор пользователя,\n",
    "    score — баллы кредитного скоринга,\n",
    "    City — город,\n",
    "    Gender — пол,\n",
    "    Age — возраст,\n",
    "    Objects — количество баллов в собственности,\n",
    "    Balance — баланс на счёте,\n",
    "    Products — количество продуктов, которыми пользуется клиент,\n",
    "    CreditCard — есть ли кредитная карта,\n",
    "    Loyalty — активный клиент,\n",
    "    estimated_salary — оценочный доход клиента,\n",
    "    Churn — признак оттока "
   ]
  },
  {
   "cell_type": "markdown",
   "metadata": {},
   "source": [
    "**Шаг 2. Обработка данных**\n",
    "<a id=\"2\"></a>"
   ]
  },
  {
   "cell_type": "code",
   "execution_count": 5,
   "metadata": {},
   "outputs": [],
   "source": [
    "#приведу названия столбцов к змеиному регистру \n",
    "data.columns = data.columns.str.lower()"
   ]
  },
  {
   "cell_type": "code",
   "execution_count": 6,
   "metadata": {
    "scrolled": true
   },
   "outputs": [
    {
     "data": {
      "text/html": [
       "<div>\n",
       "<style scoped>\n",
       "    .dataframe tbody tr th:only-of-type {\n",
       "        vertical-align: middle;\n",
       "    }\n",
       "\n",
       "    .dataframe tbody tr th {\n",
       "        vertical-align: top;\n",
       "    }\n",
       "\n",
       "    .dataframe thead th {\n",
       "        text-align: right;\n",
       "    }\n",
       "</style>\n",
       "<table border=\"1\" class=\"dataframe\">\n",
       "  <thead>\n",
       "    <tr style=\"text-align: right;\">\n",
       "      <th></th>\n",
       "      <th>userid</th>\n",
       "      <th>score</th>\n",
       "      <th>city</th>\n",
       "      <th>gender</th>\n",
       "      <th>age</th>\n",
       "      <th>equity</th>\n",
       "      <th>balance</th>\n",
       "      <th>products</th>\n",
       "      <th>credit_card</th>\n",
       "      <th>last_activity</th>\n",
       "      <th>est_salary</th>\n",
       "      <th>churn</th>\n",
       "    </tr>\n",
       "  </thead>\n",
       "  <tbody>\n",
       "    <tr>\n",
       "      <th>0</th>\n",
       "      <td>183012</td>\n",
       "      <td>850.0</td>\n",
       "      <td>Рыбинск</td>\n",
       "      <td>Ж</td>\n",
       "      <td>25.0</td>\n",
       "      <td>1</td>\n",
       "      <td>59214.82</td>\n",
       "      <td>2</td>\n",
       "      <td>0</td>\n",
       "      <td>1</td>\n",
       "      <td>75719.14</td>\n",
       "      <td>1</td>\n",
       "    </tr>\n",
       "    <tr>\n",
       "      <th>1</th>\n",
       "      <td>146556</td>\n",
       "      <td>861.0</td>\n",
       "      <td>Рыбинск</td>\n",
       "      <td>Ж</td>\n",
       "      <td>37.0</td>\n",
       "      <td>5</td>\n",
       "      <td>850594.33</td>\n",
       "      <td>3</td>\n",
       "      <td>1</td>\n",
       "      <td>0</td>\n",
       "      <td>86621.77</td>\n",
       "      <td>0</td>\n",
       "    </tr>\n",
       "    <tr>\n",
       "      <th>2</th>\n",
       "      <td>120722</td>\n",
       "      <td>892.0</td>\n",
       "      <td>Рыбинск</td>\n",
       "      <td>Ж</td>\n",
       "      <td>30.0</td>\n",
       "      <td>0</td>\n",
       "      <td>NaN</td>\n",
       "      <td>1</td>\n",
       "      <td>1</td>\n",
       "      <td>1</td>\n",
       "      <td>107683.34</td>\n",
       "      <td>0</td>\n",
       "    </tr>\n",
       "    <tr>\n",
       "      <th>3</th>\n",
       "      <td>225363</td>\n",
       "      <td>866.0</td>\n",
       "      <td>Ярославль</td>\n",
       "      <td>Ж</td>\n",
       "      <td>51.0</td>\n",
       "      <td>5</td>\n",
       "      <td>1524746.26</td>\n",
       "      <td>2</td>\n",
       "      <td>0</td>\n",
       "      <td>1</td>\n",
       "      <td>174423.53</td>\n",
       "      <td>1</td>\n",
       "    </tr>\n",
       "    <tr>\n",
       "      <th>4</th>\n",
       "      <td>157978</td>\n",
       "      <td>730.0</td>\n",
       "      <td>Ярославль</td>\n",
       "      <td>М</td>\n",
       "      <td>34.0</td>\n",
       "      <td>5</td>\n",
       "      <td>174.00</td>\n",
       "      <td>1</td>\n",
       "      <td>1</td>\n",
       "      <td>0</td>\n",
       "      <td>67353.16</td>\n",
       "      <td>1</td>\n",
       "    </tr>\n",
       "    <tr>\n",
       "      <th>...</th>\n",
       "      <td>...</td>\n",
       "      <td>...</td>\n",
       "      <td>...</td>\n",
       "      <td>...</td>\n",
       "      <td>...</td>\n",
       "      <td>...</td>\n",
       "      <td>...</td>\n",
       "      <td>...</td>\n",
       "      <td>...</td>\n",
       "      <td>...</td>\n",
       "      <td>...</td>\n",
       "      <td>...</td>\n",
       "    </tr>\n",
       "    <tr>\n",
       "      <th>9995</th>\n",
       "      <td>120553</td>\n",
       "      <td>814.0</td>\n",
       "      <td>Рыбинск</td>\n",
       "      <td>М</td>\n",
       "      <td>27.0</td>\n",
       "      <td>1</td>\n",
       "      <td>78144.65</td>\n",
       "      <td>1</td>\n",
       "      <td>0</td>\n",
       "      <td>1</td>\n",
       "      <td>18943.64</td>\n",
       "      <td>0</td>\n",
       "    </tr>\n",
       "    <tr>\n",
       "      <th>9996</th>\n",
       "      <td>139170</td>\n",
       "      <td>894.0</td>\n",
       "      <td>Ярославль</td>\n",
       "      <td>М</td>\n",
       "      <td>46.0</td>\n",
       "      <td>0</td>\n",
       "      <td>NaN</td>\n",
       "      <td>1</td>\n",
       "      <td>1</td>\n",
       "      <td>0</td>\n",
       "      <td>196898.29</td>\n",
       "      <td>0</td>\n",
       "    </tr>\n",
       "    <tr>\n",
       "      <th>9997</th>\n",
       "      <td>115639</td>\n",
       "      <td>903.0</td>\n",
       "      <td>Ярославль</td>\n",
       "      <td>М</td>\n",
       "      <td>24.0</td>\n",
       "      <td>0</td>\n",
       "      <td>NaN</td>\n",
       "      <td>2</td>\n",
       "      <td>1</td>\n",
       "      <td>1</td>\n",
       "      <td>108905.09</td>\n",
       "      <td>0</td>\n",
       "    </tr>\n",
       "    <tr>\n",
       "      <th>9998</th>\n",
       "      <td>148700</td>\n",
       "      <td>777.0</td>\n",
       "      <td>Ярославль</td>\n",
       "      <td>Ж</td>\n",
       "      <td>68.0</td>\n",
       "      <td>3</td>\n",
       "      <td>865457.97</td>\n",
       "      <td>3</td>\n",
       "      <td>0</td>\n",
       "      <td>1</td>\n",
       "      <td>86874.90</td>\n",
       "      <td>0</td>\n",
       "    </tr>\n",
       "    <tr>\n",
       "      <th>9999</th>\n",
       "      <td>96267</td>\n",
       "      <td>828.0</td>\n",
       "      <td>Рыбинск</td>\n",
       "      <td>Ж</td>\n",
       "      <td>58.0</td>\n",
       "      <td>3</td>\n",
       "      <td>1180886.70</td>\n",
       "      <td>4</td>\n",
       "      <td>0</td>\n",
       "      <td>1</td>\n",
       "      <td>21422.37</td>\n",
       "      <td>0</td>\n",
       "    </tr>\n",
       "  </tbody>\n",
       "</table>\n",
       "<p>10000 rows × 12 columns</p>\n",
       "</div>"
      ],
      "text/plain": [
       "      userid  score       city gender   age  equity     balance  products  \\\n",
       "0     183012  850.0    Рыбинск      Ж  25.0       1    59214.82         2   \n",
       "1     146556  861.0    Рыбинск      Ж  37.0       5   850594.33         3   \n",
       "2     120722  892.0    Рыбинск      Ж  30.0       0         NaN         1   \n",
       "3     225363  866.0  Ярославль      Ж  51.0       5  1524746.26         2   \n",
       "4     157978  730.0  Ярославль      М  34.0       5      174.00         1   \n",
       "...      ...    ...        ...    ...   ...     ...         ...       ...   \n",
       "9995  120553  814.0    Рыбинск      М  27.0       1    78144.65         1   \n",
       "9996  139170  894.0  Ярославль      М  46.0       0         NaN         1   \n",
       "9997  115639  903.0  Ярославль      М  24.0       0         NaN         2   \n",
       "9998  148700  777.0  Ярославль      Ж  68.0       3   865457.97         3   \n",
       "9999   96267  828.0    Рыбинск      Ж  58.0       3  1180886.70         4   \n",
       "\n",
       "      credit_card  last_activity  est_salary  churn  \n",
       "0               0              1    75719.14      1  \n",
       "1               1              0    86621.77      0  \n",
       "2               1              1   107683.34      0  \n",
       "3               0              1   174423.53      1  \n",
       "4               1              0    67353.16      1  \n",
       "...           ...            ...         ...    ...  \n",
       "9995            0              1    18943.64      0  \n",
       "9996            1              0   196898.29      0  \n",
       "9997            1              1   108905.09      0  \n",
       "9998            0              1    86874.90      0  \n",
       "9999            0              1    21422.37      0  \n",
       "\n",
       "[10000 rows x 12 columns]"
      ]
     },
     "execution_count": 6,
     "metadata": {},
     "output_type": "execute_result"
    }
   ],
   "source": [
    "#проверю налачие явных дубликатов\n",
    "data.duplicated().sum()\n",
    "data"
   ]
  },
  {
   "cell_type": "markdown",
   "metadata": {},
   "source": [
    "Проверим датафрейм на неявные дубликаты. Буду считать дубликатами те строки, где айди клиента повторяется, так как он должен быть уникальным у каждого пользователя."
   ]
  },
  {
   "cell_type": "code",
   "execution_count": 7,
   "metadata": {},
   "outputs": [
    {
     "data": {
      "text/plain": [
       "73"
      ]
     },
     "execution_count": 7,
     "metadata": {},
     "output_type": "execute_result"
    }
   ],
   "source": [
    "#проверяю неявные дубликаты\n",
    "data['userid'].duplicated().sum()"
   ]
  },
  {
   "cell_type": "code",
   "execution_count": 8,
   "metadata": {},
   "outputs": [
    {
     "data": {
      "text/html": [
       "<div>\n",
       "<style scoped>\n",
       "    .dataframe tbody tr th:only-of-type {\n",
       "        vertical-align: middle;\n",
       "    }\n",
       "\n",
       "    .dataframe tbody tr th {\n",
       "        vertical-align: top;\n",
       "    }\n",
       "\n",
       "    .dataframe thead th {\n",
       "        text-align: right;\n",
       "    }\n",
       "</style>\n",
       "<table border=\"1\" class=\"dataframe\">\n",
       "  <thead>\n",
       "    <tr style=\"text-align: right;\">\n",
       "      <th></th>\n",
       "      <th>userid</th>\n",
       "      <th>score</th>\n",
       "      <th>city</th>\n",
       "      <th>gender</th>\n",
       "      <th>age</th>\n",
       "      <th>equity</th>\n",
       "      <th>balance</th>\n",
       "      <th>products</th>\n",
       "      <th>credit_card</th>\n",
       "      <th>last_activity</th>\n",
       "      <th>est_salary</th>\n",
       "      <th>churn</th>\n",
       "    </tr>\n",
       "  </thead>\n",
       "  <tbody>\n",
       "    <tr>\n",
       "      <th>7</th>\n",
       "      <td>218868</td>\n",
       "      <td>825.0</td>\n",
       "      <td>Ярославль</td>\n",
       "      <td>Ж</td>\n",
       "      <td>38.0</td>\n",
       "      <td>4</td>\n",
       "      <td>458145.40</td>\n",
       "      <td>2</td>\n",
       "      <td>1</td>\n",
       "      <td>1</td>\n",
       "      <td>68085.48</td>\n",
       "      <td>0</td>\n",
       "    </tr>\n",
       "    <tr>\n",
       "      <th>58</th>\n",
       "      <td>164676</td>\n",
       "      <td>860.0</td>\n",
       "      <td>Ярославль</td>\n",
       "      <td>М</td>\n",
       "      <td>37.0</td>\n",
       "      <td>5</td>\n",
       "      <td>648594.03</td>\n",
       "      <td>2</td>\n",
       "      <td>1</td>\n",
       "      <td>1</td>\n",
       "      <td>213586.86</td>\n",
       "      <td>1</td>\n",
       "    </tr>\n",
       "    <tr>\n",
       "      <th>150</th>\n",
       "      <td>185748</td>\n",
       "      <td>850.0</td>\n",
       "      <td>Рыбинск</td>\n",
       "      <td>М</td>\n",
       "      <td>36.0</td>\n",
       "      <td>5</td>\n",
       "      <td>1203376.67</td>\n",
       "      <td>2</td>\n",
       "      <td>0</td>\n",
       "      <td>1</td>\n",
       "      <td>89401.82</td>\n",
       "      <td>1</td>\n",
       "    </tr>\n",
       "    <tr>\n",
       "      <th>161</th>\n",
       "      <td>197364</td>\n",
       "      <td>928.0</td>\n",
       "      <td>Рыбинск</td>\n",
       "      <td>Ж</td>\n",
       "      <td>53.0</td>\n",
       "      <td>6</td>\n",
       "      <td>1347183.86</td>\n",
       "      <td>2</td>\n",
       "      <td>0</td>\n",
       "      <td>1</td>\n",
       "      <td>168189.49</td>\n",
       "      <td>1</td>\n",
       "    </tr>\n",
       "    <tr>\n",
       "      <th>231</th>\n",
       "      <td>190253</td>\n",
       "      <td>823.0</td>\n",
       "      <td>Рыбинск</td>\n",
       "      <td>М</td>\n",
       "      <td>37.0</td>\n",
       "      <td>4</td>\n",
       "      <td>373348.39</td>\n",
       "      <td>2</td>\n",
       "      <td>0</td>\n",
       "      <td>1</td>\n",
       "      <td>131947.92</td>\n",
       "      <td>1</td>\n",
       "    </tr>\n",
       "  </tbody>\n",
       "</table>\n",
       "</div>"
      ],
      "text/plain": [
       "     userid  score       city gender   age  equity     balance  products  \\\n",
       "7    218868  825.0  Ярославль      Ж  38.0       4   458145.40         2   \n",
       "58   164676  860.0  Ярославль      М  37.0       5   648594.03         2   \n",
       "150  185748  850.0    Рыбинск      М  36.0       5  1203376.67         2   \n",
       "161  197364  928.0    Рыбинск      Ж  53.0       6  1347183.86         2   \n",
       "231  190253  823.0    Рыбинск      М  37.0       4   373348.39         2   \n",
       "\n",
       "     credit_card  last_activity  est_salary  churn  \n",
       "7              1              1    68085.48      0  \n",
       "58             1              1   213586.86      1  \n",
       "150            0              1    89401.82      1  \n",
       "161            0              1   168189.49      1  \n",
       "231            0              1   131947.92      1  "
      ]
     },
     "execution_count": 8,
     "metadata": {},
     "output_type": "execute_result"
    }
   ],
   "source": [
    "#рассмотрю эти строки \n",
    "duplicates = data[data.duplicated(['userid'], keep=False)]\n",
    "duplicates.head(5)"
   ]
  },
  {
   "cell_type": "code",
   "execution_count": 9,
   "metadata": {},
   "outputs": [
    {
     "data": {
      "text/html": [
       "<div>\n",
       "<style scoped>\n",
       "    .dataframe tbody tr th:only-of-type {\n",
       "        vertical-align: middle;\n",
       "    }\n",
       "\n",
       "    .dataframe tbody tr th {\n",
       "        vertical-align: top;\n",
       "    }\n",
       "\n",
       "    .dataframe thead th {\n",
       "        text-align: right;\n",
       "    }\n",
       "</style>\n",
       "<table border=\"1\" class=\"dataframe\">\n",
       "  <thead>\n",
       "    <tr style=\"text-align: right;\">\n",
       "      <th></th>\n",
       "      <th>userid</th>\n",
       "      <th>score</th>\n",
       "      <th>city</th>\n",
       "      <th>gender</th>\n",
       "      <th>age</th>\n",
       "      <th>equity</th>\n",
       "      <th>balance</th>\n",
       "      <th>products</th>\n",
       "      <th>credit_card</th>\n",
       "      <th>last_activity</th>\n",
       "      <th>est_salary</th>\n",
       "      <th>churn</th>\n",
       "    </tr>\n",
       "  </thead>\n",
       "  <tbody>\n",
       "    <tr>\n",
       "      <th>7</th>\n",
       "      <td>218868</td>\n",
       "      <td>825.0</td>\n",
       "      <td>Ярославль</td>\n",
       "      <td>Ж</td>\n",
       "      <td>38.0</td>\n",
       "      <td>4</td>\n",
       "      <td>458145.40</td>\n",
       "      <td>2</td>\n",
       "      <td>1</td>\n",
       "      <td>1</td>\n",
       "      <td>68085.48</td>\n",
       "      <td>0</td>\n",
       "    </tr>\n",
       "    <tr>\n",
       "      <th>5470</th>\n",
       "      <td>218868</td>\n",
       "      <td>827.0</td>\n",
       "      <td>Рыбинск</td>\n",
       "      <td>Ж</td>\n",
       "      <td>NaN</td>\n",
       "      <td>4</td>\n",
       "      <td>448959.07</td>\n",
       "      <td>2</td>\n",
       "      <td>1</td>\n",
       "      <td>1</td>\n",
       "      <td>67835.95</td>\n",
       "      <td>0</td>\n",
       "    </tr>\n",
       "  </tbody>\n",
       "</table>\n",
       "</div>"
      ],
      "text/plain": [
       "      userid  score       city gender   age  equity    balance  products  \\\n",
       "7     218868  825.0  Ярославль      Ж  38.0       4  458145.40         2   \n",
       "5470  218868  827.0    Рыбинск      Ж   NaN       4  448959.07         2   \n",
       "\n",
       "      credit_card  last_activity  est_salary  churn  \n",
       "7               1              1    68085.48      0  \n",
       "5470            1              1    67835.95      0  "
      ]
     },
     "execution_count": 9,
     "metadata": {},
     "output_type": "execute_result"
    }
   ],
   "source": [
    "#рассмотрим пример одного из дубликатов\n",
    "filtered_data = data.loc[data['userid'] == 218868]\n",
    "filtered_data"
   ]
  },
  {
   "cell_type": "markdown",
   "metadata": {},
   "source": [
    "Вижу две строки с одинаковым айди, могу предложить, что это один и тот же человек, переехавший в другой город, и которому в новом пункте банка обновили данные, поэтому создались дубликаты. Проверим гипотезу на следующем примере дубликатов."
   ]
  },
  {
   "cell_type": "code",
   "execution_count": 10,
   "metadata": {},
   "outputs": [
    {
     "data": {
      "text/html": [
       "<div>\n",
       "<style scoped>\n",
       "    .dataframe tbody tr th:only-of-type {\n",
       "        vertical-align: middle;\n",
       "    }\n",
       "\n",
       "    .dataframe tbody tr th {\n",
       "        vertical-align: top;\n",
       "    }\n",
       "\n",
       "    .dataframe thead th {\n",
       "        text-align: right;\n",
       "    }\n",
       "</style>\n",
       "<table border=\"1\" class=\"dataframe\">\n",
       "  <thead>\n",
       "    <tr style=\"text-align: right;\">\n",
       "      <th></th>\n",
       "      <th>userid</th>\n",
       "      <th>score</th>\n",
       "      <th>city</th>\n",
       "      <th>gender</th>\n",
       "      <th>age</th>\n",
       "      <th>equity</th>\n",
       "      <th>balance</th>\n",
       "      <th>products</th>\n",
       "      <th>credit_card</th>\n",
       "      <th>last_activity</th>\n",
       "      <th>est_salary</th>\n",
       "      <th>churn</th>\n",
       "    </tr>\n",
       "  </thead>\n",
       "  <tbody>\n",
       "    <tr>\n",
       "      <th>161</th>\n",
       "      <td>197364</td>\n",
       "      <td>928.0</td>\n",
       "      <td>Рыбинск</td>\n",
       "      <td>Ж</td>\n",
       "      <td>53.0</td>\n",
       "      <td>6</td>\n",
       "      <td>1347183.86</td>\n",
       "      <td>2</td>\n",
       "      <td>0</td>\n",
       "      <td>1</td>\n",
       "      <td>168189.49</td>\n",
       "      <td>1</td>\n",
       "    </tr>\n",
       "    <tr>\n",
       "      <th>4870</th>\n",
       "      <td>197364</td>\n",
       "      <td>889.0</td>\n",
       "      <td>Ярославль</td>\n",
       "      <td>М</td>\n",
       "      <td>33.0</td>\n",
       "      <td>0</td>\n",
       "      <td>NaN</td>\n",
       "      <td>2</td>\n",
       "      <td>1</td>\n",
       "      <td>1</td>\n",
       "      <td>96173.48</td>\n",
       "      <td>0</td>\n",
       "    </tr>\n",
       "  </tbody>\n",
       "</table>\n",
       "</div>"
      ],
      "text/plain": [
       "      userid  score       city gender   age  equity     balance  products  \\\n",
       "161   197364  928.0    Рыбинск      Ж  53.0       6  1347183.86         2   \n",
       "4870  197364  889.0  Ярославль      М  33.0       0         NaN         2   \n",
       "\n",
       "      credit_card  last_activity  est_salary  churn  \n",
       "161             0              1   168189.49      1  \n",
       "4870            1              1    96173.48      0  "
      ]
     },
     "execution_count": 10,
     "metadata": {},
     "output_type": "execute_result"
    }
   ],
   "source": [
    "filtered_data = data.loc[data['userid'] == 197364]\n",
    "filtered_data"
   ]
  },
  {
   "cell_type": "markdown",
   "metadata": {},
   "source": [
    "На этом примере данное предположение не работает, так как тут отличается несколько параметров сразу, так что мы можем считать что это разные люди. Также есть теория о том, что в некоторых случаях один и тот же клиент может иметь несколько банковских счетов или кредитных карт, которые будут отображаться как разные записи в датасете, также разбивается примером дубликатов выше. Дубликаты могли стать следствием ошибки при заполнении данных или технической проблемы. Не буду удалять эти строки, так как они несут информацию о клиентах, а также  из-за того что эти строки несущественны относительно объемов датасета и не смогут сильно исказить выводы.\n",
    "\n",
    "\n",
    "**Перехожу к обработке пропусков.**"
   ]
  },
  {
   "cell_type": "code",
   "execution_count": 11,
   "metadata": {},
   "outputs": [
    {
     "data": {
      "text/plain": [
       "userid            0.00\n",
       "score             0.00\n",
       "city              0.00\n",
       "gender            0.00\n",
       "age               0.26\n",
       "equity            0.00\n",
       "balance          22.95\n",
       "products          0.00\n",
       "credit_card       0.00\n",
       "last_activity     0.00\n",
       "est_salary        0.00\n",
       "churn             0.00\n",
       "dtype: float64"
      ]
     },
     "execution_count": 11,
     "metadata": {},
     "output_type": "execute_result"
    }
   ],
   "source": [
    "data.isnull().sum()*100/len(data)"
   ]
  },
  {
   "cell_type": "code",
   "execution_count": 12,
   "metadata": {},
   "outputs": [],
   "source": [
    "data[data['age'].isna()].head()\n",
    "data = data.dropna(subset=['age'])\n"
   ]
  },
  {
   "cell_type": "markdown",
   "metadata": {},
   "source": [
    "Пропуск типа MAR. Можем удалить данные, так как 0.26 процентов не смогут существенно исказить выводы по датасету.\n",
    "\n",
    "(*изначально хотела сделать так подскажи пожалуйста было лучше сотавить или удалить* Удалять эти строки нет необходимости, так как они содержат информацию о других показателях разных пользователей, также 0.26 процентов не смогут существенно исказить показатели. )\n",
    "\n",
    "Переходим к пропускам в балансе. Заполнение пропусков в почти 23 процентов искуственными данными(средние или медианные значения) могут направить исследование по ложному направлению, поэтому прибегнуть к такому мы не можем. "
   ]
  },
  {
   "cell_type": "code",
   "execution_count": 13,
   "metadata": {
    "scrolled": true
   },
   "outputs": [
    {
     "data": {
      "image/png": "[encoded data removed]",
      "text/plain": [
       "<Figure size 360x360 with 1 Axes>"
      ]
     },
     "metadata": {
      "needs_background": "light"
     },
     "output_type": "display_data"
    },
    {
     "data": {
      "text/plain": [
       "119113552.01"
      ]
     },
     "execution_count": 13,
     "metadata": {},
     "output_type": "execute_result"
    }
   ],
   "source": [
    "data['balance'].hist(figsize=(5, 5), range=(0, 6000000))\n",
    "plt.title(\"Гистограмма распределения остатков на счете\")\n",
    "plt.show()\n",
    "data['balance'].max()"
   ]
  },
  {
   "cell_type": "markdown",
   "metadata": {},
   "source": [
    "В распределении осотатков на счете не замечено никаких ошибок на первый взгляд, значения начинаются с 0 и растут до 119 113 552рублей."
   ]
  },
  {
   "cell_type": "code",
   "execution_count": 14,
   "metadata": {
    "scrolled": true
   },
   "outputs": [
    {
     "data": {
      "text/html": [
       "<div>\n",
       "<style scoped>\n",
       "    .dataframe tbody tr th:only-of-type {\n",
       "        vertical-align: middle;\n",
       "    }\n",
       "\n",
       "    .dataframe tbody tr th {\n",
       "        vertical-align: top;\n",
       "    }\n",
       "\n",
       "    .dataframe thead th {\n",
       "        text-align: right;\n",
       "    }\n",
       "</style>\n",
       "<table border=\"1\" class=\"dataframe\">\n",
       "  <thead>\n",
       "    <tr style=\"text-align: right;\">\n",
       "      <th></th>\n",
       "      <th>userid</th>\n",
       "      <th>score</th>\n",
       "      <th>city</th>\n",
       "      <th>gender</th>\n",
       "      <th>age</th>\n",
       "      <th>equity</th>\n",
       "      <th>balance</th>\n",
       "      <th>products</th>\n",
       "      <th>credit_card</th>\n",
       "      <th>last_activity</th>\n",
       "      <th>est_salary</th>\n",
       "      <th>churn</th>\n",
       "    </tr>\n",
       "  </thead>\n",
       "  <tbody>\n",
       "    <tr>\n",
       "      <th>0</th>\n",
       "      <td>183012</td>\n",
       "      <td>850.0</td>\n",
       "      <td>Рыбинск</td>\n",
       "      <td>Ж</td>\n",
       "      <td>25.0</td>\n",
       "      <td>1</td>\n",
       "      <td>59214.82</td>\n",
       "      <td>2</td>\n",
       "      <td>0</td>\n",
       "      <td>1</td>\n",
       "      <td>75719.14</td>\n",
       "      <td>1</td>\n",
       "    </tr>\n",
       "    <tr>\n",
       "      <th>1</th>\n",
       "      <td>146556</td>\n",
       "      <td>861.0</td>\n",
       "      <td>Рыбинск</td>\n",
       "      <td>Ж</td>\n",
       "      <td>37.0</td>\n",
       "      <td>5</td>\n",
       "      <td>850594.33</td>\n",
       "      <td>3</td>\n",
       "      <td>1</td>\n",
       "      <td>0</td>\n",
       "      <td>86621.77</td>\n",
       "      <td>0</td>\n",
       "    </tr>\n",
       "    <tr>\n",
       "      <th>3</th>\n",
       "      <td>225363</td>\n",
       "      <td>866.0</td>\n",
       "      <td>Ярославль</td>\n",
       "      <td>Ж</td>\n",
       "      <td>51.0</td>\n",
       "      <td>5</td>\n",
       "      <td>1524746.26</td>\n",
       "      <td>2</td>\n",
       "      <td>0</td>\n",
       "      <td>1</td>\n",
       "      <td>174423.53</td>\n",
       "      <td>1</td>\n",
       "    </tr>\n",
       "    <tr>\n",
       "      <th>4</th>\n",
       "      <td>157978</td>\n",
       "      <td>730.0</td>\n",
       "      <td>Ярославль</td>\n",
       "      <td>М</td>\n",
       "      <td>34.0</td>\n",
       "      <td>5</td>\n",
       "      <td>174.00</td>\n",
       "      <td>1</td>\n",
       "      <td>1</td>\n",
       "      <td>0</td>\n",
       "      <td>67353.16</td>\n",
       "      <td>1</td>\n",
       "    </tr>\n",
       "    <tr>\n",
       "      <th>5</th>\n",
       "      <td>202305</td>\n",
       "      <td>856.0</td>\n",
       "      <td>Рыбинск</td>\n",
       "      <td>М</td>\n",
       "      <td>56.0</td>\n",
       "      <td>4</td>\n",
       "      <td>863687.24</td>\n",
       "      <td>3</td>\n",
       "      <td>1</td>\n",
       "      <td>0</td>\n",
       "      <td>156619.80</td>\n",
       "      <td>0</td>\n",
       "    </tr>\n",
       "  </tbody>\n",
       "</table>\n",
       "</div>"
      ],
      "text/plain": [
       "   userid  score       city gender   age  equity     balance  products  \\\n",
       "0  183012  850.0    Рыбинск      Ж  25.0       1    59214.82         2   \n",
       "1  146556  861.0    Рыбинск      Ж  37.0       5   850594.33         3   \n",
       "3  225363  866.0  Ярославль      Ж  51.0       5  1524746.26         2   \n",
       "4  157978  730.0  Ярославль      М  34.0       5      174.00         1   \n",
       "5  202305  856.0    Рыбинск      М  56.0       4   863687.24         3   \n",
       "\n",
       "   credit_card  last_activity  est_salary  churn  \n",
       "0            0              1    75719.14      1  \n",
       "1            1              0    86621.77      0  \n",
       "3            0              1   174423.53      1  \n",
       "4            1              0    67353.16      1  \n",
       "5            1              0   156619.80      0  "
      ]
     },
     "execution_count": 14,
     "metadata": {},
     "output_type": "execute_result"
    }
   ],
   "source": [
    "#создам датасет с пустым балансом \n",
    "data_null = data[data['balance'].isna()]\n",
    "#создадим датасет где нет пропусков по балансу \n",
    "data_without_na = data.dropna(subset=[\"balance\"])\n",
    "data_without_na.head()"
   ]
  },
  {
   "cell_type": "code",
   "execution_count": 15,
   "metadata": {},
   "outputs": [],
   "source": [
    "#создам датасет с пустым балансом \n",
    "data_null = data[data['balance'].isna()]\n",
    "#создадим датасет где нет пропусков по балансу \n",
    "data_without_na = data.dropna(subset=[\"balance\"])"
   ]
  },
  {
   "cell_type": "code",
   "execution_count": 16,
   "metadata": {
    "scrolled": true
   },
   "outputs": [
    {
     "data": {
      "text/html": [
       "<div>\n",
       "<style scoped>\n",
       "    .dataframe tbody tr th:only-of-type {\n",
       "        vertical-align: middle;\n",
       "    }\n",
       "\n",
       "    .dataframe tbody tr th {\n",
       "        vertical-align: top;\n",
       "    }\n",
       "\n",
       "    .dataframe thead th {\n",
       "        text-align: right;\n",
       "    }\n",
       "</style>\n",
       "<table border=\"1\" class=\"dataframe\">\n",
       "  <thead>\n",
       "    <tr style=\"text-align: right;\">\n",
       "      <th></th>\n",
       "      <th>userid</th>\n",
       "      <th>score</th>\n",
       "      <th>age</th>\n",
       "      <th>equity</th>\n",
       "      <th>balance</th>\n",
       "      <th>products</th>\n",
       "      <th>credit_card</th>\n",
       "      <th>last_activity</th>\n",
       "      <th>est_salary</th>\n",
       "      <th>churn</th>\n",
       "    </tr>\n",
       "  </thead>\n",
       "  <tbody>\n",
       "    <tr>\n",
       "      <th>count</th>\n",
       "      <td>2279.000000</td>\n",
       "      <td>2279.000000</td>\n",
       "      <td>2279.000000</td>\n",
       "      <td>2279.000000</td>\n",
       "      <td>0.0</td>\n",
       "      <td>2279.000000</td>\n",
       "      <td>2279.000000</td>\n",
       "      <td>2279.000000</td>\n",
       "      <td>2.279000e+03</td>\n",
       "      <td>2279.000000</td>\n",
       "    </tr>\n",
       "    <tr>\n",
       "      <th>mean</th>\n",
       "      <td>171904.885915</td>\n",
       "      <td>865.357174</td>\n",
       "      <td>42.093023</td>\n",
       "      <td>0.051338</td>\n",
       "      <td>NaN</td>\n",
       "      <td>1.163229</td>\n",
       "      <td>0.815270</td>\n",
       "      <td>0.548925</td>\n",
       "      <td>2.263454e+05</td>\n",
       "      <td>0.005704</td>\n",
       "    </tr>\n",
       "    <tr>\n",
       "      <th>std</th>\n",
       "      <td>33303.215270</td>\n",
       "      <td>89.553735</td>\n",
       "      <td>11.941551</td>\n",
       "      <td>0.226623</td>\n",
       "      <td>NaN</td>\n",
       "      <td>0.403713</td>\n",
       "      <td>0.388164</td>\n",
       "      <td>0.497710</td>\n",
       "      <td>1.998256e+05</td>\n",
       "      <td>0.075327</td>\n",
       "    </tr>\n",
       "    <tr>\n",
       "      <th>min</th>\n",
       "      <td>114182.000000</td>\n",
       "      <td>642.000000</td>\n",
       "      <td>18.000000</td>\n",
       "      <td>0.000000</td>\n",
       "      <td>NaN</td>\n",
       "      <td>0.000000</td>\n",
       "      <td>0.000000</td>\n",
       "      <td>0.000000</td>\n",
       "      <td>2.027403e+04</td>\n",
       "      <td>0.000000</td>\n",
       "    </tr>\n",
       "    <tr>\n",
       "      <th>25%</th>\n",
       "      <td>142992.500000</td>\n",
       "      <td>871.000000</td>\n",
       "      <td>33.000000</td>\n",
       "      <td>0.000000</td>\n",
       "      <td>NaN</td>\n",
       "      <td>1.000000</td>\n",
       "      <td>1.000000</td>\n",
       "      <td>0.000000</td>\n",
       "      <td>1.202174e+05</td>\n",
       "      <td>0.000000</td>\n",
       "    </tr>\n",
       "    <tr>\n",
       "      <th>50%</th>\n",
       "      <td>172304.000000</td>\n",
       "      <td>903.000000</td>\n",
       "      <td>40.000000</td>\n",
       "      <td>0.000000</td>\n",
       "      <td>NaN</td>\n",
       "      <td>1.000000</td>\n",
       "      <td>1.000000</td>\n",
       "      <td>1.000000</td>\n",
       "      <td>1.743479e+05</td>\n",
       "      <td>0.000000</td>\n",
       "    </tr>\n",
       "    <tr>\n",
       "      <th>75%</th>\n",
       "      <td>201257.000000</td>\n",
       "      <td>922.000000</td>\n",
       "      <td>49.000000</td>\n",
       "      <td>0.000000</td>\n",
       "      <td>NaN</td>\n",
       "      <td>1.000000</td>\n",
       "      <td>1.000000</td>\n",
       "      <td>1.000000</td>\n",
       "      <td>2.403728e+05</td>\n",
       "      <td>0.000000</td>\n",
       "    </tr>\n",
       "    <tr>\n",
       "      <th>max</th>\n",
       "      <td>229145.000000</td>\n",
       "      <td>990.000000</td>\n",
       "      <td>86.000000</td>\n",
       "      <td>3.000000</td>\n",
       "      <td>NaN</td>\n",
       "      <td>3.000000</td>\n",
       "      <td>1.000000</td>\n",
       "      <td>1.000000</td>\n",
       "      <td>1.333687e+06</td>\n",
       "      <td>1.000000</td>\n",
       "    </tr>\n",
       "  </tbody>\n",
       "</table>\n",
       "</div>"
      ],
      "text/plain": [
       "              userid        score          age       equity  balance  \\\n",
       "count    2279.000000  2279.000000  2279.000000  2279.000000      0.0   \n",
       "mean   171904.885915   865.357174    42.093023     0.051338      NaN   \n",
       "std     33303.215270    89.553735    11.941551     0.226623      NaN   \n",
       "min    114182.000000   642.000000    18.000000     0.000000      NaN   \n",
       "25%    142992.500000   871.000000    33.000000     0.000000      NaN   \n",
       "50%    172304.000000   903.000000    40.000000     0.000000      NaN   \n",
       "75%    201257.000000   922.000000    49.000000     0.000000      NaN   \n",
       "max    229145.000000   990.000000    86.000000     3.000000      NaN   \n",
       "\n",
       "          products  credit_card  last_activity    est_salary        churn  \n",
       "count  2279.000000  2279.000000    2279.000000  2.279000e+03  2279.000000  \n",
       "mean      1.163229     0.815270       0.548925  2.263454e+05     0.005704  \n",
       "std       0.403713     0.388164       0.497710  1.998256e+05     0.075327  \n",
       "min       0.000000     0.000000       0.000000  2.027403e+04     0.000000  \n",
       "25%       1.000000     1.000000       0.000000  1.202174e+05     0.000000  \n",
       "50%       1.000000     1.000000       1.000000  1.743479e+05     0.000000  \n",
       "75%       1.000000     1.000000       1.000000  2.403728e+05     0.000000  \n",
       "max       3.000000     1.000000       1.000000  1.333687e+06     1.000000  "
      ]
     },
     "metadata": {},
     "output_type": "display_data"
    },
    {
     "data": {
      "text/html": [
       "<div>\n",
       "<style scoped>\n",
       "    .dataframe tbody tr th:only-of-type {\n",
       "        vertical-align: middle;\n",
       "    }\n",
       "\n",
       "    .dataframe tbody tr th {\n",
       "        vertical-align: top;\n",
       "    }\n",
       "\n",
       "    .dataframe thead th {\n",
       "        text-align: right;\n",
       "    }\n",
       "</style>\n",
       "<table border=\"1\" class=\"dataframe\">\n",
       "  <thead>\n",
       "    <tr style=\"text-align: right;\">\n",
       "      <th></th>\n",
       "      <th>userid</th>\n",
       "      <th>score</th>\n",
       "      <th>age</th>\n",
       "      <th>equity</th>\n",
       "      <th>balance</th>\n",
       "      <th>products</th>\n",
       "      <th>credit_card</th>\n",
       "      <th>last_activity</th>\n",
       "      <th>est_salary</th>\n",
       "      <th>churn</th>\n",
       "    </tr>\n",
       "  </thead>\n",
       "  <tbody>\n",
       "    <tr>\n",
       "      <th>count</th>\n",
       "      <td>7695.000000</td>\n",
       "      <td>7695.000000</td>\n",
       "      <td>7695.000000</td>\n",
       "      <td>7695.000000</td>\n",
       "      <td>7.695000e+03</td>\n",
       "      <td>7695.000000</td>\n",
       "      <td>7695.000000</td>\n",
       "      <td>7695.000000</td>\n",
       "      <td>7.695000e+03</td>\n",
       "      <td>7695.000000</td>\n",
       "    </tr>\n",
       "    <tr>\n",
       "      <th>mean</th>\n",
       "      <td>171710.892268</td>\n",
       "      <td>843.744120</td>\n",
       "      <td>42.924366</td>\n",
       "      <td>3.394802</td>\n",
       "      <td>8.272456e+05</td>\n",
       "      <td>2.081222</td>\n",
       "      <td>0.640156</td>\n",
       "      <td>0.515140</td>\n",
       "      <td>1.245204e+05</td>\n",
       "      <td>0.234698</td>\n",
       "    </tr>\n",
       "    <tr>\n",
       "      <th>std</th>\n",
       "      <td>33812.862444</td>\n",
       "      <td>55.342539</td>\n",
       "      <td>12.244010</td>\n",
       "      <td>1.584817</td>\n",
       "      <td>1.980327e+06</td>\n",
       "      <td>0.757446</td>\n",
       "      <td>0.479986</td>\n",
       "      <td>0.499803</td>\n",
       "      <td>1.046671e+05</td>\n",
       "      <td>0.423837</td>\n",
       "    </tr>\n",
       "    <tr>\n",
       "      <th>min</th>\n",
       "      <td>94561.000000</td>\n",
       "      <td>689.000000</td>\n",
       "      <td>18.000000</td>\n",
       "      <td>0.000000</td>\n",
       "      <td>0.000000e+00</td>\n",
       "      <td>1.000000</td>\n",
       "      <td>0.000000</td>\n",
       "      <td>0.000000</td>\n",
       "      <td>2.546300e+03</td>\n",
       "      <td>0.000000</td>\n",
       "    </tr>\n",
       "    <tr>\n",
       "      <th>25%</th>\n",
       "      <td>142638.000000</td>\n",
       "      <td>801.000000</td>\n",
       "      <td>33.000000</td>\n",
       "      <td>2.000000</td>\n",
       "      <td>2.956987e+05</td>\n",
       "      <td>2.000000</td>\n",
       "      <td>0.000000</td>\n",
       "      <td>0.000000</td>\n",
       "      <td>6.755698e+04</td>\n",
       "      <td>0.000000</td>\n",
       "    </tr>\n",
       "    <tr>\n",
       "      <th>50%</th>\n",
       "      <td>172710.000000</td>\n",
       "      <td>840.000000</td>\n",
       "      <td>40.000000</td>\n",
       "      <td>4.000000</td>\n",
       "      <td>5.242953e+05</td>\n",
       "      <td>2.000000</td>\n",
       "      <td>1.000000</td>\n",
       "      <td>1.000000</td>\n",
       "      <td>1.062502e+05</td>\n",
       "      <td>0.000000</td>\n",
       "    </tr>\n",
       "    <tr>\n",
       "      <th>75%</th>\n",
       "      <td>201145.500000</td>\n",
       "      <td>882.000000</td>\n",
       "      <td>52.000000</td>\n",
       "      <td>5.000000</td>\n",
       "      <td>9.800512e+05</td>\n",
       "      <td>2.000000</td>\n",
       "      <td>1.000000</td>\n",
       "      <td>1.000000</td>\n",
       "      <td>1.551446e+05</td>\n",
       "      <td>0.000000</td>\n",
       "    </tr>\n",
       "    <tr>\n",
       "      <th>max</th>\n",
       "      <td>229136.000000</td>\n",
       "      <td>1000.000000</td>\n",
       "      <td>86.000000</td>\n",
       "      <td>9.000000</td>\n",
       "      <td>1.191136e+08</td>\n",
       "      <td>5.000000</td>\n",
       "      <td>1.000000</td>\n",
       "      <td>1.000000</td>\n",
       "      <td>1.395064e+06</td>\n",
       "      <td>1.000000</td>\n",
       "    </tr>\n",
       "  </tbody>\n",
       "</table>\n",
       "</div>"
      ],
      "text/plain": [
       "              userid        score          age       equity       balance  \\\n",
       "count    7695.000000  7695.000000  7695.000000  7695.000000  7.695000e+03   \n",
       "mean   171710.892268   843.744120    42.924366     3.394802  8.272456e+05   \n",
       "std     33812.862444    55.342539    12.244010     1.584817  1.980327e+06   \n",
       "min     94561.000000   689.000000    18.000000     0.000000  0.000000e+00   \n",
       "25%    142638.000000   801.000000    33.000000     2.000000  2.956987e+05   \n",
       "50%    172710.000000   840.000000    40.000000     4.000000  5.242953e+05   \n",
       "75%    201145.500000   882.000000    52.000000     5.000000  9.800512e+05   \n",
       "max    229136.000000  1000.000000    86.000000     9.000000  1.191136e+08   \n",
       "\n",
       "          products  credit_card  last_activity    est_salary        churn  \n",
       "count  7695.000000  7695.000000    7695.000000  7.695000e+03  7695.000000  \n",
       "mean      2.081222     0.640156       0.515140  1.245204e+05     0.234698  \n",
       "std       0.757446     0.479986       0.499803  1.046671e+05     0.423837  \n",
       "min       1.000000     0.000000       0.000000  2.546300e+03     0.000000  \n",
       "25%       2.000000     0.000000       0.000000  6.755698e+04     0.000000  \n",
       "50%       2.000000     1.000000       1.000000  1.062502e+05     0.000000  \n",
       "75%       2.000000     1.000000       1.000000  1.551446e+05     0.000000  \n",
       "max       5.000000     1.000000       1.000000  1.395064e+06     1.000000  "
      ]
     },
     "metadata": {},
     "output_type": "display_data"
    }
   ],
   "source": [
    "#сравню показатели по двум датасетам \n",
    "display(data_null.describe())\n",
    "\n",
    "display(data_without_na.describe())"
   ]
  },
  {
   "cell_type": "markdown",
   "metadata": {},
   "source": [
    "Мы можем заметить, что группа клиентов с пропусками в балансе отличается от группы с отсутсвием пропусков по этому параметру. \n",
    "Скоринг и оценочный доход первой группы выше, чем у второй, однако группа без пропусков в балансе использует в среднем больше продуктов и имеет выше балл собственности. Что касается параметра оттока, среднее у первой группы намного ближе 0(0.0057), чем у второй группы (0.235), а значит в первой группе подавляющее большинство клиентов неотточные. Можно выдвинуть предположение о том, что это новые пользователи которые еще не внесли какую-то сумму на свой баланс, или ,например, клиент пользуется таким банконвский товаром как ипотека или кредит, когда баланс на счете отсутсивует.\n",
    "\n",
    "Нужно поговорить с представителей банка, чтобы определить точно какое предположение верное, поэтому до этого момента пропуски нужно оставить чтобы проанализировать другие параметры клиента."
   ]
  },
  {
   "cell_type": "markdown",
   "metadata": {},
   "source": [
    "Пропуск типа MNAR. \n",
    "Так как природу пропусков выявить не удалось, я принимаю решение оставить пропуски на месте для сохранение данных по другим параметрам.\n",
    "\n",
    "**Проверю аномалии. Рассмотрю количественные показатели.**"
   ]
  },
  {
   "cell_type": "code",
   "execution_count": 17,
   "metadata": {},
   "outputs": [
    {
     "data": {
      "image/png": "[encoded data removed]",
      "text/plain": [
       "<Figure size 360x360 with 1 Axes>"
      ]
     },
     "metadata": {
      "needs_background": "light"
     },
     "output_type": "display_data"
    },
    {
     "data": {
      "text/plain": [
       "642.0"
      ]
     },
     "execution_count": 17,
     "metadata": {},
     "output_type": "execute_result"
    }
   ],
   "source": [
    "data['score'].hist(figsize=(5, 5), range=(600, 1010))\n",
    "plt.title(\"Гистограмма распределения баллов скоринга по клиентам\")\n",
    "plt.xlabel('Баллы скоринга')\n",
    "plt.ylabel('Количество клиентов')\n",
    "plt.show()\n",
    "data['score'].min()"
   ]
  },
  {
   "cell_type": "markdown",
   "metadata": {},
   "source": [
    "В столбце со скорингом баллы распределены внутри 1000 бальной системы, ошибок нет."
   ]
  },
  {
   "cell_type": "code",
   "execution_count": 18,
   "metadata": {},
   "outputs": [
    {
     "data": {
      "image/png": "[encoded data removed]",
      "text/plain": [
       "<Figure size 360x360 with 1 Axes>"
      ]
     },
     "metadata": {
      "needs_background": "light"
     },
     "output_type": "display_data"
    }
   ],
   "source": [
    "data['age'].hist(figsize=(5, 5), range=(0, 100))\n",
    "plt.title(\"Распределение клиентов по возрасту \")\n",
    "plt.xlabel('Возраст ')\n",
    "plt.ylabel('Количество клиентов')\n",
    "plt.show()"
   ]
  },
  {
   "cell_type": "markdown",
   "metadata": {},
   "source": [
    "Распределение внутри столбца с возрастом клиентов информация не нуждается в редактировании."
   ]
  },
  {
   "cell_type": "code",
   "execution_count": 19,
   "metadata": {},
   "outputs": [
    {
     "data": {
      "image/png": "[encoded data removed]",
      "text/plain": [
       "<Figure size 360x360 with 1 Axes>"
      ]
     },
     "metadata": {
      "needs_background": "light"
     },
     "output_type": "display_data"
    }
   ],
   "source": [
    "data['est_salary'].hist(figsize=(5, 5), range=(0, 1500000))\n",
    "plt.title(\"Распределение клиентов по доходу\")\n",
    "plt.xlabel('Доход')\n",
    "plt.ylabel('Количество клиентов')\n",
    "plt.show()"
   ]
  },
  {
   "cell_type": "markdown",
   "metadata": {},
   "source": [
    "Распределение информации о доходе клиентов имеет выделяющиеся от основной массы значения, однако мы не можем воспринимать их как выбросы и очистиить, так как особо обеспеченные клиенты могут существенно влиять на результаты банка и составлять большую долю операций и прибыли, поэтому этот столбец оставляем без изменений.\n",
    "\n",
    "**Кодирование данных**"
   ]
  },
  {
   "cell_type": "code",
   "execution_count": 20,
   "metadata": {},
   "outputs": [
    {
     "data": {
      "text/html": [
       "<div>\n",
       "<style scoped>\n",
       "    .dataframe tbody tr th:only-of-type {\n",
       "        vertical-align: middle;\n",
       "    }\n",
       "\n",
       "    .dataframe tbody tr th {\n",
       "        vertical-align: top;\n",
       "    }\n",
       "\n",
       "    .dataframe thead th {\n",
       "        text-align: right;\n",
       "    }\n",
       "</style>\n",
       "<table border=\"1\" class=\"dataframe\">\n",
       "  <thead>\n",
       "    <tr style=\"text-align: right;\">\n",
       "      <th></th>\n",
       "      <th>userid</th>\n",
       "      <th>score</th>\n",
       "      <th>city</th>\n",
       "      <th>gender</th>\n",
       "      <th>age</th>\n",
       "      <th>equity</th>\n",
       "      <th>balance</th>\n",
       "      <th>products</th>\n",
       "      <th>credit_card</th>\n",
       "      <th>last_activity</th>\n",
       "      <th>est_salary</th>\n",
       "      <th>churn</th>\n",
       "      <th>sex_Ж</th>\n",
       "      <th>sex_М</th>\n",
       "    </tr>\n",
       "  </thead>\n",
       "  <tbody>\n",
       "    <tr>\n",
       "      <th>0</th>\n",
       "      <td>183012</td>\n",
       "      <td>850.0</td>\n",
       "      <td>Рыбинск</td>\n",
       "      <td>Ж</td>\n",
       "      <td>25.0</td>\n",
       "      <td>1</td>\n",
       "      <td>59214.82</td>\n",
       "      <td>2</td>\n",
       "      <td>0</td>\n",
       "      <td>1</td>\n",
       "      <td>75719.14</td>\n",
       "      <td>1</td>\n",
       "      <td>1</td>\n",
       "      <td>0</td>\n",
       "    </tr>\n",
       "    <tr>\n",
       "      <th>1</th>\n",
       "      <td>146556</td>\n",
       "      <td>861.0</td>\n",
       "      <td>Рыбинск</td>\n",
       "      <td>Ж</td>\n",
       "      <td>37.0</td>\n",
       "      <td>5</td>\n",
       "      <td>850594.33</td>\n",
       "      <td>3</td>\n",
       "      <td>1</td>\n",
       "      <td>0</td>\n",
       "      <td>86621.77</td>\n",
       "      <td>0</td>\n",
       "      <td>1</td>\n",
       "      <td>0</td>\n",
       "    </tr>\n",
       "    <tr>\n",
       "      <th>2</th>\n",
       "      <td>120722</td>\n",
       "      <td>892.0</td>\n",
       "      <td>Рыбинск</td>\n",
       "      <td>Ж</td>\n",
       "      <td>30.0</td>\n",
       "      <td>0</td>\n",
       "      <td>NaN</td>\n",
       "      <td>1</td>\n",
       "      <td>1</td>\n",
       "      <td>1</td>\n",
       "      <td>107683.34</td>\n",
       "      <td>0</td>\n",
       "      <td>1</td>\n",
       "      <td>0</td>\n",
       "    </tr>\n",
       "    <tr>\n",
       "      <th>3</th>\n",
       "      <td>225363</td>\n",
       "      <td>866.0</td>\n",
       "      <td>Ярославль</td>\n",
       "      <td>Ж</td>\n",
       "      <td>51.0</td>\n",
       "      <td>5</td>\n",
       "      <td>1524746.26</td>\n",
       "      <td>2</td>\n",
       "      <td>0</td>\n",
       "      <td>1</td>\n",
       "      <td>174423.53</td>\n",
       "      <td>1</td>\n",
       "      <td>1</td>\n",
       "      <td>0</td>\n",
       "    </tr>\n",
       "    <tr>\n",
       "      <th>4</th>\n",
       "      <td>157978</td>\n",
       "      <td>730.0</td>\n",
       "      <td>Ярославль</td>\n",
       "      <td>М</td>\n",
       "      <td>34.0</td>\n",
       "      <td>5</td>\n",
       "      <td>174.00</td>\n",
       "      <td>1</td>\n",
       "      <td>1</td>\n",
       "      <td>0</td>\n",
       "      <td>67353.16</td>\n",
       "      <td>1</td>\n",
       "      <td>0</td>\n",
       "      <td>1</td>\n",
       "    </tr>\n",
       "    <tr>\n",
       "      <th>...</th>\n",
       "      <td>...</td>\n",
       "      <td>...</td>\n",
       "      <td>...</td>\n",
       "      <td>...</td>\n",
       "      <td>...</td>\n",
       "      <td>...</td>\n",
       "      <td>...</td>\n",
       "      <td>...</td>\n",
       "      <td>...</td>\n",
       "      <td>...</td>\n",
       "      <td>...</td>\n",
       "      <td>...</td>\n",
       "      <td>...</td>\n",
       "      <td>...</td>\n",
       "    </tr>\n",
       "    <tr>\n",
       "      <th>9995</th>\n",
       "      <td>120553</td>\n",
       "      <td>814.0</td>\n",
       "      <td>Рыбинск</td>\n",
       "      <td>М</td>\n",
       "      <td>27.0</td>\n",
       "      <td>1</td>\n",
       "      <td>78144.65</td>\n",
       "      <td>1</td>\n",
       "      <td>0</td>\n",
       "      <td>1</td>\n",
       "      <td>18943.64</td>\n",
       "      <td>0</td>\n",
       "      <td>0</td>\n",
       "      <td>1</td>\n",
       "    </tr>\n",
       "    <tr>\n",
       "      <th>9996</th>\n",
       "      <td>139170</td>\n",
       "      <td>894.0</td>\n",
       "      <td>Ярославль</td>\n",
       "      <td>М</td>\n",
       "      <td>46.0</td>\n",
       "      <td>0</td>\n",
       "      <td>NaN</td>\n",
       "      <td>1</td>\n",
       "      <td>1</td>\n",
       "      <td>0</td>\n",
       "      <td>196898.29</td>\n",
       "      <td>0</td>\n",
       "      <td>0</td>\n",
       "      <td>1</td>\n",
       "    </tr>\n",
       "    <tr>\n",
       "      <th>9997</th>\n",
       "      <td>115639</td>\n",
       "      <td>903.0</td>\n",
       "      <td>Ярославль</td>\n",
       "      <td>М</td>\n",
       "      <td>24.0</td>\n",
       "      <td>0</td>\n",
       "      <td>NaN</td>\n",
       "      <td>2</td>\n",
       "      <td>1</td>\n",
       "      <td>1</td>\n",
       "      <td>108905.09</td>\n",
       "      <td>0</td>\n",
       "      <td>0</td>\n",
       "      <td>1</td>\n",
       "    </tr>\n",
       "    <tr>\n",
       "      <th>9998</th>\n",
       "      <td>148700</td>\n",
       "      <td>777.0</td>\n",
       "      <td>Ярославль</td>\n",
       "      <td>Ж</td>\n",
       "      <td>68.0</td>\n",
       "      <td>3</td>\n",
       "      <td>865457.97</td>\n",
       "      <td>3</td>\n",
       "      <td>0</td>\n",
       "      <td>1</td>\n",
       "      <td>86874.90</td>\n",
       "      <td>0</td>\n",
       "      <td>1</td>\n",
       "      <td>0</td>\n",
       "    </tr>\n",
       "    <tr>\n",
       "      <th>9999</th>\n",
       "      <td>96267</td>\n",
       "      <td>828.0</td>\n",
       "      <td>Рыбинск</td>\n",
       "      <td>Ж</td>\n",
       "      <td>58.0</td>\n",
       "      <td>3</td>\n",
       "      <td>1180886.70</td>\n",
       "      <td>4</td>\n",
       "      <td>0</td>\n",
       "      <td>1</td>\n",
       "      <td>21422.37</td>\n",
       "      <td>0</td>\n",
       "      <td>1</td>\n",
       "      <td>0</td>\n",
       "    </tr>\n",
       "  </tbody>\n",
       "</table>\n",
       "<p>9974 rows × 14 columns</p>\n",
       "</div>"
      ],
      "text/plain": [
       "      userid  score       city gender   age  equity     balance  products  \\\n",
       "0     183012  850.0    Рыбинск      Ж  25.0       1    59214.82         2   \n",
       "1     146556  861.0    Рыбинск      Ж  37.0       5   850594.33         3   \n",
       "2     120722  892.0    Рыбинск      Ж  30.0       0         NaN         1   \n",
       "3     225363  866.0  Ярославль      Ж  51.0       5  1524746.26         2   \n",
       "4     157978  730.0  Ярославль      М  34.0       5      174.00         1   \n",
       "...      ...    ...        ...    ...   ...     ...         ...       ...   \n",
       "9995  120553  814.0    Рыбинск      М  27.0       1    78144.65         1   \n",
       "9996  139170  894.0  Ярославль      М  46.0       0         NaN         1   \n",
       "9997  115639  903.0  Ярославль      М  24.0       0         NaN         2   \n",
       "9998  148700  777.0  Ярославль      Ж  68.0       3   865457.97         3   \n",
       "9999   96267  828.0    Рыбинск      Ж  58.0       3  1180886.70         4   \n",
       "\n",
       "      credit_card  last_activity  est_salary  churn  sex_Ж  sex_М  \n",
       "0               0              1    75719.14      1      1      0  \n",
       "1               1              0    86621.77      0      1      0  \n",
       "2               1              1   107683.34      0      1      0  \n",
       "3               0              1   174423.53      1      1      0  \n",
       "4               1              0    67353.16      1      0      1  \n",
       "...           ...            ...         ...    ...    ...    ...  \n",
       "9995            0              1    18943.64      0      0      1  \n",
       "9996            1              0   196898.29      0      0      1  \n",
       "9997            1              1   108905.09      0      0      1  \n",
       "9998            0              1    86874.90      0      1      0  \n",
       "9999            0              1    21422.37      0      1      0  \n",
       "\n",
       "[9974 rows x 14 columns]"
      ]
     },
     "execution_count": 20,
     "metadata": {},
     "output_type": "execute_result"
    }
   ],
   "source": [
    "data['sex'] = data['gender']\n",
    "data = pd.get_dummies(data, columns=['sex'])\n",
    "data"
   ]
  },
  {
   "cell_type": "code",
   "execution_count": 21,
   "metadata": {
    "scrolled": true
   },
   "outputs": [
    {
     "data": {
      "text/html": [
       "<div>\n",
       "<style scoped>\n",
       "    .dataframe tbody tr th:only-of-type {\n",
       "        vertical-align: middle;\n",
       "    }\n",
       "\n",
       "    .dataframe tbody tr th {\n",
       "        vertical-align: top;\n",
       "    }\n",
       "\n",
       "    .dataframe thead th {\n",
       "        text-align: right;\n",
       "    }\n",
       "</style>\n",
       "<table border=\"1\" class=\"dataframe\">\n",
       "  <thead>\n",
       "    <tr style=\"text-align: right;\">\n",
       "      <th></th>\n",
       "      <th>userid</th>\n",
       "      <th>score</th>\n",
       "      <th>city</th>\n",
       "      <th>gender</th>\n",
       "      <th>age</th>\n",
       "      <th>equity</th>\n",
       "      <th>balance</th>\n",
       "      <th>products</th>\n",
       "      <th>credit_card</th>\n",
       "      <th>last_activity</th>\n",
       "      <th>est_salary</th>\n",
       "      <th>churn</th>\n",
       "      <th>female</th>\n",
       "      <th>male</th>\n",
       "      <th>Ростов</th>\n",
       "      <th>Рыбинск</th>\n",
       "      <th>Ярославль</th>\n",
       "    </tr>\n",
       "  </thead>\n",
       "  <tbody>\n",
       "    <tr>\n",
       "      <th>0</th>\n",
       "      <td>183012</td>\n",
       "      <td>850.0</td>\n",
       "      <td>Рыбинск</td>\n",
       "      <td>Ж</td>\n",
       "      <td>25.0</td>\n",
       "      <td>1</td>\n",
       "      <td>59214.82</td>\n",
       "      <td>2</td>\n",
       "      <td>0</td>\n",
       "      <td>1</td>\n",
       "      <td>75719.14</td>\n",
       "      <td>1</td>\n",
       "      <td>1</td>\n",
       "      <td>0</td>\n",
       "      <td>0</td>\n",
       "      <td>1</td>\n",
       "      <td>0</td>\n",
       "    </tr>\n",
       "    <tr>\n",
       "      <th>1</th>\n",
       "      <td>146556</td>\n",
       "      <td>861.0</td>\n",
       "      <td>Рыбинск</td>\n",
       "      <td>Ж</td>\n",
       "      <td>37.0</td>\n",
       "      <td>5</td>\n",
       "      <td>850594.33</td>\n",
       "      <td>3</td>\n",
       "      <td>1</td>\n",
       "      <td>0</td>\n",
       "      <td>86621.77</td>\n",
       "      <td>0</td>\n",
       "      <td>1</td>\n",
       "      <td>0</td>\n",
       "      <td>0</td>\n",
       "      <td>1</td>\n",
       "      <td>0</td>\n",
       "    </tr>\n",
       "    <tr>\n",
       "      <th>2</th>\n",
       "      <td>120722</td>\n",
       "      <td>892.0</td>\n",
       "      <td>Рыбинск</td>\n",
       "      <td>Ж</td>\n",
       "      <td>30.0</td>\n",
       "      <td>0</td>\n",
       "      <td>NaN</td>\n",
       "      <td>1</td>\n",
       "      <td>1</td>\n",
       "      <td>1</td>\n",
       "      <td>107683.34</td>\n",
       "      <td>0</td>\n",
       "      <td>1</td>\n",
       "      <td>0</td>\n",
       "      <td>0</td>\n",
       "      <td>1</td>\n",
       "      <td>0</td>\n",
       "    </tr>\n",
       "    <tr>\n",
       "      <th>3</th>\n",
       "      <td>225363</td>\n",
       "      <td>866.0</td>\n",
       "      <td>Ярославль</td>\n",
       "      <td>Ж</td>\n",
       "      <td>51.0</td>\n",
       "      <td>5</td>\n",
       "      <td>1524746.26</td>\n",
       "      <td>2</td>\n",
       "      <td>0</td>\n",
       "      <td>1</td>\n",
       "      <td>174423.53</td>\n",
       "      <td>1</td>\n",
       "      <td>1</td>\n",
       "      <td>0</td>\n",
       "      <td>0</td>\n",
       "      <td>0</td>\n",
       "      <td>1</td>\n",
       "    </tr>\n",
       "    <tr>\n",
       "      <th>4</th>\n",
       "      <td>157978</td>\n",
       "      <td>730.0</td>\n",
       "      <td>Ярославль</td>\n",
       "      <td>М</td>\n",
       "      <td>34.0</td>\n",
       "      <td>5</td>\n",
       "      <td>174.00</td>\n",
       "      <td>1</td>\n",
       "      <td>1</td>\n",
       "      <td>0</td>\n",
       "      <td>67353.16</td>\n",
       "      <td>1</td>\n",
       "      <td>0</td>\n",
       "      <td>1</td>\n",
       "      <td>0</td>\n",
       "      <td>0</td>\n",
       "      <td>1</td>\n",
       "    </tr>\n",
       "    <tr>\n",
       "      <th>...</th>\n",
       "      <td>...</td>\n",
       "      <td>...</td>\n",
       "      <td>...</td>\n",
       "      <td>...</td>\n",
       "      <td>...</td>\n",
       "      <td>...</td>\n",
       "      <td>...</td>\n",
       "      <td>...</td>\n",
       "      <td>...</td>\n",
       "      <td>...</td>\n",
       "      <td>...</td>\n",
       "      <td>...</td>\n",
       "      <td>...</td>\n",
       "      <td>...</td>\n",
       "      <td>...</td>\n",
       "      <td>...</td>\n",
       "      <td>...</td>\n",
       "    </tr>\n",
       "    <tr>\n",
       "      <th>9995</th>\n",
       "      <td>120553</td>\n",
       "      <td>814.0</td>\n",
       "      <td>Рыбинск</td>\n",
       "      <td>М</td>\n",
       "      <td>27.0</td>\n",
       "      <td>1</td>\n",
       "      <td>78144.65</td>\n",
       "      <td>1</td>\n",
       "      <td>0</td>\n",
       "      <td>1</td>\n",
       "      <td>18943.64</td>\n",
       "      <td>0</td>\n",
       "      <td>0</td>\n",
       "      <td>1</td>\n",
       "      <td>0</td>\n",
       "      <td>1</td>\n",
       "      <td>0</td>\n",
       "    </tr>\n",
       "    <tr>\n",
       "      <th>9996</th>\n",
       "      <td>139170</td>\n",
       "      <td>894.0</td>\n",
       "      <td>Ярославль</td>\n",
       "      <td>М</td>\n",
       "      <td>46.0</td>\n",
       "      <td>0</td>\n",
       "      <td>NaN</td>\n",
       "      <td>1</td>\n",
       "      <td>1</td>\n",
       "      <td>0</td>\n",
       "      <td>196898.29</td>\n",
       "      <td>0</td>\n",
       "      <td>0</td>\n",
       "      <td>1</td>\n",
       "      <td>0</td>\n",
       "      <td>0</td>\n",
       "      <td>1</td>\n",
       "    </tr>\n",
       "    <tr>\n",
       "      <th>9997</th>\n",
       "      <td>115639</td>\n",
       "      <td>903.0</td>\n",
       "      <td>Ярославль</td>\n",
       "      <td>М</td>\n",
       "      <td>24.0</td>\n",
       "      <td>0</td>\n",
       "      <td>NaN</td>\n",
       "      <td>2</td>\n",
       "      <td>1</td>\n",
       "      <td>1</td>\n",
       "      <td>108905.09</td>\n",
       "      <td>0</td>\n",
       "      <td>0</td>\n",
       "      <td>1</td>\n",
       "      <td>0</td>\n",
       "      <td>0</td>\n",
       "      <td>1</td>\n",
       "    </tr>\n",
       "    <tr>\n",
       "      <th>9998</th>\n",
       "      <td>148700</td>\n",
       "      <td>777.0</td>\n",
       "      <td>Ярославль</td>\n",
       "      <td>Ж</td>\n",
       "      <td>68.0</td>\n",
       "      <td>3</td>\n",
       "      <td>865457.97</td>\n",
       "      <td>3</td>\n",
       "      <td>0</td>\n",
       "      <td>1</td>\n",
       "      <td>86874.90</td>\n",
       "      <td>0</td>\n",
       "      <td>1</td>\n",
       "      <td>0</td>\n",
       "      <td>0</td>\n",
       "      <td>0</td>\n",
       "      <td>1</td>\n",
       "    </tr>\n",
       "    <tr>\n",
       "      <th>9999</th>\n",
       "      <td>96267</td>\n",
       "      <td>828.0</td>\n",
       "      <td>Рыбинск</td>\n",
       "      <td>Ж</td>\n",
       "      <td>58.0</td>\n",
       "      <td>3</td>\n",
       "      <td>1180886.70</td>\n",
       "      <td>4</td>\n",
       "      <td>0</td>\n",
       "      <td>1</td>\n",
       "      <td>21422.37</td>\n",
       "      <td>0</td>\n",
       "      <td>1</td>\n",
       "      <td>0</td>\n",
       "      <td>0</td>\n",
       "      <td>1</td>\n",
       "      <td>0</td>\n",
       "    </tr>\n",
       "  </tbody>\n",
       "</table>\n",
       "<p>9974 rows × 17 columns</p>\n",
       "</div>"
      ],
      "text/plain": [
       "      userid  score       city gender   age  equity     balance  products  \\\n",
       "0     183012  850.0    Рыбинск      Ж  25.0       1    59214.82         2   \n",
       "1     146556  861.0    Рыбинск      Ж  37.0       5   850594.33         3   \n",
       "2     120722  892.0    Рыбинск      Ж  30.0       0         NaN         1   \n",
       "3     225363  866.0  Ярославль      Ж  51.0       5  1524746.26         2   \n",
       "4     157978  730.0  Ярославль      М  34.0       5      174.00         1   \n",
       "...      ...    ...        ...    ...   ...     ...         ...       ...   \n",
       "9995  120553  814.0    Рыбинск      М  27.0       1    78144.65         1   \n",
       "9996  139170  894.0  Ярославль      М  46.0       0         NaN         1   \n",
       "9997  115639  903.0  Ярославль      М  24.0       0         NaN         2   \n",
       "9998  148700  777.0  Ярославль      Ж  68.0       3   865457.97         3   \n",
       "9999   96267  828.0    Рыбинск      Ж  58.0       3  1180886.70         4   \n",
       "\n",
       "      credit_card  last_activity  est_salary  churn  female  male  Ростов  \\\n",
       "0               0              1    75719.14      1       1     0       0   \n",
       "1               1              0    86621.77      0       1     0       0   \n",
       "2               1              1   107683.34      0       1     0       0   \n",
       "3               0              1   174423.53      1       1     0       0   \n",
       "4               1              0    67353.16      1       0     1       0   \n",
       "...           ...            ...         ...    ...     ...   ...     ...   \n",
       "9995            0              1    18943.64      0       0     1       0   \n",
       "9996            1              0   196898.29      0       0     1       0   \n",
       "9997            1              1   108905.09      0       0     1       0   \n",
       "9998            0              1    86874.90      0       1     0       0   \n",
       "9999            0              1    21422.37      0       1     0       0   \n",
       "\n",
       "      Рыбинск  Ярославль  \n",
       "0           1          0  \n",
       "1           1          0  \n",
       "2           1          0  \n",
       "3           0          1  \n",
       "4           0          1  \n",
       "...       ...        ...  \n",
       "9995        1          0  \n",
       "9996        0          1  \n",
       "9997        0          1  \n",
       "9998        0          1  \n",
       "9999        1          0  \n",
       "\n",
       "[9974 rows x 17 columns]"
      ]
     },
     "execution_count": 21,
     "metadata": {},
     "output_type": "execute_result"
    }
   ],
   "source": [
    "data['city_1'] = data['city']\n",
    "data = pd.get_dummies(data, columns=['city_1'])\n",
    "data = data.rename (columns = ({'city_1_Ростов':'Ростов', 'city_1_Рыбинск':'Рыбинск','city_1_Ярославль':'Ярославль', 'sex_Ж':'female', 'sex_М':'male'}))\n",
    "data"
   ]
  },
  {
   "cell_type": "markdown",
   "metadata": {},
   "source": [
    "**Перевод данных в нужный тип**"
   ]
  },
  {
   "cell_type": "code",
   "execution_count": 22,
   "metadata": {},
   "outputs": [],
   "source": [
    "#переведу возраст клиентов в нужныц тип\n",
    "data['age'] = data['age'].astype('Int64')"
   ]
  },
  {
   "cell_type": "markdown",
   "metadata": {},
   "source": [
    "Выводы по предобработке данных.\n",
    "- явные дубликаты в датасете не обнаружены \n",
    "- неявные дубликаты (одинаковый айди у разных пользователей) обнаружены, однако не были удалены, так как несут важную информацию о клиентах\n",
    "- обнаружены пропуски в столбцах balance и age. Доля отсуствующих значений в age мала, поэтому они были удалены, однако в столбце balance больше 22 процентов пропусков, поэтому , не обнаружив причин пропусков, данные оставили на месте\n",
    "- аномалии не выявлены"
   ]
  },
  {
   "cell_type": "markdown",
   "metadata": {},
   "source": [
    "**Шаг3. Исследовательский анализ данных.** \n",
    "<a id=\"3\"></a>\n",
    "\n",
    "Для начала рассмотрим корреляцию всех пунктов друг с другом, чтобы сразу обратить на зависимость каких-то критериев от других."
   ]
  },
  {
   "cell_type": "code",
   "execution_count": 23,
   "metadata": {},
   "outputs": [
    {
     "data": {
      "image/png": "[encoded data removed]",
      "text/plain": [
       "<Figure size 936x936 with 2 Axes>"
      ]
     },
     "metadata": {
      "needs_background": "light"
     },
     "output_type": "display_data"
    }
   ],
   "source": [
    "#для удобства посмотрю на корреляцию до кодирования \n",
    "he_data = data.drop(['userid'],axis = 1)\n",
    "plt.figure(figsize = (13,13))\n",
    "sns.heatmap(he_data.corr(), annot=True)\n",
    "plt.title('Матрица линейной корреляции')\n",
    "plt.show()\n"
   ]
  },
  {
   "cell_type": "markdown",
   "metadata": {},
   "source": [
    "Самое большое значение по модулю мы получаем по следующим 10 параметрам:\n",
    "- количеством используемых продуктов и собственностью клиента (0.43)\n",
    "- корреляция между доходом клиента и балансом на счете (0.34)\n",
    "- корреляция между фактом оттока и количеством используемых продуктов (0.3)\n",
    "- корреляция между фактом оттока и собственностью(0.27)\n",
    "- корреляция между скорингом и балансом (0.24)\n",
    "- корреляция между наличием кредитной карты и количество используемых продуктов (-0.25)\n",
    "- корреляция между наличием кредитной карты и собственностью (-0.17)\n",
    "- корреляция между активностью клиента и фактом оттока (0.17)\n",
    "- корреляция между скорингом и доходом клиента (0.16)\n",
    "- между скорингом и фактом оттока (0.11)\n",
    "\n",
    "Наибольшее значение относительно показателя оттока наблюдается:\n",
    "- с количеством продуктов в пользовании (0.3)\n",
    "- с собственностью клиента (0.27)\n",
    "- с активностью пользователя (0.17)\n",
    "- с наличием кредитной карты (-0.13)\n",
    "- c полом клиента( по модялю 0.14)\n",
    "- с кредитным скорингом (0.11)\n",
    "\n",
    "Рассмотрим отточных клиентов в разрезе всех признаков более подробно."
   ]
  },
  {
   "cell_type": "markdown",
   "metadata": {},
   "source": [
    "Корреляция с оттоком:\n",
    "- сильная с показателями не выявлена \n",
    "- умеренная выявлена с количеством используемых банковский товаров(0.3)\n",
    "- слабая с собственность клиента (0.27), активностью пользователя(0.17), с полом клиента(0.14), с наличием кредитной карты(-0.13), с кредитным скорингом (0.11)"
   ]
  },
  {
   "cell_type": "code",
   "execution_count": 24,
   "metadata": {},
   "outputs": [
    {
     "data": {
      "image/png": "[encoded data removed]",
      "text/plain": [
       "<Figure size 360x360 with 2 Axes>"
      ]
     },
     "metadata": {
      "needs_background": "light"
     },
     "output_type": "display_data"
    }
   ],
   "source": [
    "heat_data = data.drop(['userid'],axis = 1).phik_matrix(interval_cols=['balance', 'est_salary', 'score'])\n",
    "plt.figure(figsize=(5,5))\n",
    "sns.heatmap((heat_data.loc[:,['churn']].drop('churn').sort_values ('churn')), annot=True, fmt = \".0%\", cmap = 'vlag', center = 0)\n",
    "ax = plt.gca()\n",
    "ax.set_title('Корреляция оттока')\n",
    "plt.show()\n"
   ]
  },
  {
   "cell_type": "markdown",
   "metadata": {},
   "source": [
    "Как показывает тепловая диаграмма по оттоку отдельно оттоком, самая сильная зависимость наблюдается от параметра products(44%), чуть меньший процент связан с параметром equity(35%), далее параметр last_activity(26%), а далее на примерно одном уровне расположились параметры кредитный скоринг, пол, наличие кредитной карты и возраст. Корреляция с остальными параметрами не превышает 10 процентов поэтому не существенно влияет на отток в большинстве случаев. В дальнейшем стоит фокусироваться именно на параметрах превышающих 10 процентов корреляции."
   ]
  },
  {
   "cell_type": "code",
   "execution_count": 25,
   "metadata": {},
   "outputs": [],
   "source": [
    "data_churn = data[data['churn']==1]"
   ]
  },
  {
   "cell_type": "markdown",
   "metadata": {},
   "source": [
    "\n",
    "Посмотрим на распределение по возрасту в разрезе оттока."
   ]
  },
  {
   "cell_type": "code",
   "execution_count": 26,
   "metadata": {},
   "outputs": [
    {
     "data": {
      "image/png": "[encoded data removed]",
      "text/plain": [
       "<Figure size 720x432 with 1 Axes>"
      ]
     },
     "metadata": {
      "needs_background": "light"
     },
     "output_type": "display_data"
    }
   ],
   "source": [
    "# Отфильтровать данные по churn = 0\n",
    "age_churn_0 = data[data['churn'] == 0]['age']\n",
    "\n",
    "# Отфильтровать данные по churn = 1\n",
    "age_churn_1 = data[data['churn'] == 1]['age']\n",
    "plt.figure(figsize=(10, 6)) \n",
    "# Построить distplot для churn = 0\n",
    "sns.distplot(age_churn_0, bins=20, color='blue', label='Churn = 0')\n",
    "\n",
    "# Построить distplot для churn = 1\n",
    "sns.distplot(age_churn_1, bins=20, color='red', label='Churn = 1')\n",
    "plt.title('Возрастной диапазон клиентов в разрезе оттока')\n",
    "# Добавить подписи осей и легенду\n",
    "plt.xlabel('Возраст')\n",
    "plt.ylabel('Количество клиентов')\n",
    "plt.legend(labels = ['остался', 'ушел'])\n",
    "\n",
    "# Отобразить график\n",
    "plt.show()"
   ]
  },
  {
   "cell_type": "markdown",
   "metadata": {},
   "source": [
    "Мы видим небольшое смещение в тенденциях по этому параметру датасета. Мы видим два четкий периода где доля оттока выше чем доля оставшихся клиентов:\n",
    "\n",
    "1) у клиентов с 25 до 35 лет \n",
    "\n",
    "2) у клиентов с 50 до 60 лет \n",
    "\n",
    "Рассмотрим распределение по среднему заработку. "
   ]
  },
  {
   "cell_type": "code",
   "execution_count": 27,
   "metadata": {
    "scrolled": true
   },
   "outputs": [
    {
     "data": {
      "image/png": "[encoded data removed]",
      "text/plain": [
       "<Figure size 720x432 with 1 Axes>"
      ]
     },
     "metadata": {
      "needs_background": "light"
     },
     "output_type": "display_data"
    }
   ],
   "source": [
    "age_churn_0 = data[data['churn'] == 0]['est_salary']\n",
    "\n",
    "age_churn_1 = data[data['churn'] == 1]['est_salary']\n",
    "plt.figure(figsize=(10, 6)) \n",
    "sns.distplot(age_churn_0, bins=20, color='blue', label='Churn = 0')\n",
    "\n",
    "sns.distplot(age_churn_1, bins=20, color='red', label='Churn = 1')\n",
    "plt.xlabel('Доход клиента')\n",
    "plt.ylabel('Количество клиентов')\n",
    "plt.legend(labels = ['остался', 'ушел'])\n",
    "plt.title('Распределение дохода клиента в разрезе оттока')\n",
    "plt.show()"
   ]
  },
  {
   "cell_type": "code",
   "execution_count": 28,
   "metadata": {
    "scrolled": true
   },
   "outputs": [
    {
     "data": {
      "image/png": "[encoded data removed]",
      "text/plain": [
       "<Figure size 720x432 with 1 Axes>"
      ]
     },
     "metadata": {
      "needs_background": "light"
     },
     "output_type": "display_data"
    }
   ],
   "source": [
    "data_for_ = data.query('est_salary < 400000')\n",
    "age_churn_0 = data_for_[data_for_['churn'] == 0]['est_salary']\n",
    "\n",
    "age_churn_1 = data_for_[data_for_['churn'] == 1]['est_salary']\n",
    "plt.figure(figsize=(10, 6)) \n",
    "sns.distplot(age_churn_0, bins=20, color='blue', label='Churn = 0')\n",
    "\n",
    "sns.distplot(age_churn_1, bins=20, color='red', label='Churn = 1')\n",
    "plt.xlabel('Доход клиента')\n",
    "plt.ylabel('Количество клиентов')\n",
    "plt.legend(labels = ['остался', 'ушел'])\n",
    "plt.title('Распределение дохода в разрезе оттока без выбросов')\n",
    "plt.show()"
   ]
  },
  {
   "cell_type": "markdown",
   "metadata": {},
   "source": [
    "Как мы видим по графику очищенному от выбросов, отток начинает превышать оставшихся клиентов после отметки дохода 100 000 рублей.\n",
    "\n"
   ]
  },
  {
   "cell_type": "markdown",
   "metadata": {},
   "source": [
    "Мы можем заметить, что оценочный доход ушедших клиентов в среднем выше, чем я уставшихся клиентов."
   ]
  },
  {
   "cell_type": "code",
   "execution_count": 29,
   "metadata": {},
   "outputs": [
    {
     "data": {
      "image/png": "[encoded data removed]",
      "text/plain": [
       "<Figure size 720x432 with 1 Axes>"
      ]
     },
     "metadata": {
      "needs_background": "light"
     },
     "output_type": "display_data"
    }
   ],
   "source": [
    "age_churn_0 = data[data['churn'] == 0]['score']\n",
    "\n",
    "age_churn_1 = data[data['churn'] == 1]['score']\n",
    "plt.figure(figsize=(10, 6)) \n",
    "sns.distplot(age_churn_0, bins=20, color='blue', label='Churn = 0')\n",
    "\n",
    "sns.distplot(age_churn_1, bins=20, color='red', label='Churn = 1')\n",
    "plt.xlabel('Кредитный скоринг')\n",
    "plt.ylabel('Количество клиентов')\n",
    "plt.legend(labels = ['остался', 'ушел'])\n",
    "plt.title('Распределение кредитного скоринга клиента в разрезе оттока')\n",
    "plt.show()"
   ]
  },
  {
   "cell_type": "markdown",
   "metadata": {},
   "source": [
    "Как показывает получившийся график, кредитный скоринг у клиентов, которые решили уйти, в среднем чаще находится в промежутке с 820 по 900. Баллы ушедших клинтов в среднем выше, чем у оставшихся."
   ]
  },
  {
   "cell_type": "code",
   "execution_count": 30,
   "metadata": {},
   "outputs": [
    {
     "data": {
      "image/png": "[encoded data removed]",
      "text/plain": [
       "<Figure size 720x432 with 1 Axes>"
      ]
     },
     "metadata": {
      "needs_background": "light"
     },
     "output_type": "display_data"
    }
   ],
   "source": [
    "#очищу от выбросов чтобы посмотреть в целом, так как график по всем данным нечитаемый\n",
    "data_for_graph = data.query('balance < 6000000')\n",
    "age_churn_0 = data_for_graph[data_for_graph['churn'] == 0]['balance']\n",
    "\n",
    "age_churn_1 = data_for_graph[data_for_graph['churn'] == 1]['balance']\n",
    "plt.figure(figsize=(10, 6)) \n",
    "sns.distplot(age_churn_0, bins=20, color='blue', label='Churn = 0')\n",
    "\n",
    "sns.distplot(age_churn_1, bins=20, color='red', label='Churn = 1')\n",
    "plt.xlabel('Баланс на счете ')\n",
    "plt.ylabel('Количество клиентов')\n",
    "plt.legend(labels = ['остался', 'ушел'])\n",
    "plt.title('Распределение баласна на счете клиента в разрезе оттока')\n",
    "plt.show()"
   ]
  },
  {
   "cell_type": "markdown",
   "metadata": {},
   "source": [
    "Мы можем увидеть, что у оставшихся клиентов баланс на счете чаще находится в пределах суммы до 1 млн, однако у ушедших клиентов остаток часто превышает сумму и часто доходит до 2.5 млн.\n",
    "\n",
    "**Теперь рассмотрим категориальные переменные**\n",
    "\n",
    "Сначала рассмотрим оценку собственности ушедших клиентов. Нам нужно построить диаграммы с уровнями оттока, чтобы увидеть какая часть клиентов более склонна к оттоку.\n",
    "\n",
    "Перед этим определим средий уровень оттока по банку."
   ]
  },
  {
   "cell_type": "code",
   "execution_count": 31,
   "metadata": {},
   "outputs": [
    {
     "data": {
      "text/plain": [
       "18.237417284940847"
      ]
     },
     "execution_count": 31,
     "metadata": {},
     "output_type": "execute_result"
    }
   ],
   "source": [
    "len(data_churn)/len(data)*100"
   ]
  },
  {
   "cell_type": "code",
   "execution_count": 32,
   "metadata": {
    "scrolled": true
   },
   "outputs": [
    {
     "data": {
      "image/png": "[encoded data removed]",
      "text/plain": [
       "<Figure size 936x432 with 1 Axes>"
      ]
     },
     "metadata": {
      "needs_background": "light"
     },
     "output_type": "display_data"
    },
    {
     "data": {
      "text/html": [
       "<div>\n",
       "<style scoped>\n",
       "    .dataframe tbody tr th:only-of-type {\n",
       "        vertical-align: middle;\n",
       "    }\n",
       "\n",
       "    .dataframe tbody tr th {\n",
       "        vertical-align: top;\n",
       "    }\n",
       "\n",
       "    .dataframe thead tr th {\n",
       "        text-align: left;\n",
       "    }\n",
       "\n",
       "    .dataframe thead tr:last-of-type th {\n",
       "        text-align: right;\n",
       "    }\n",
       "</style>\n",
       "<table border=\"1\" class=\"dataframe\">\n",
       "  <thead>\n",
       "    <tr>\n",
       "      <th></th>\n",
       "      <th>count</th>\n",
       "      <th>sum</th>\n",
       "      <th>proportion</th>\n",
       "    </tr>\n",
       "    <tr>\n",
       "      <th></th>\n",
       "      <th>churn</th>\n",
       "      <th>churn</th>\n",
       "      <th></th>\n",
       "    </tr>\n",
       "    <tr>\n",
       "      <th>products</th>\n",
       "      <th></th>\n",
       "      <th></th>\n",
       "      <th></th>\n",
       "    </tr>\n",
       "  </thead>\n",
       "  <tbody>\n",
       "    <tr>\n",
       "      <th>0</th>\n",
       "      <td>1</td>\n",
       "      <td>1</td>\n",
       "      <td>100.000000</td>\n",
       "    </tr>\n",
       "    <tr>\n",
       "      <th>1</th>\n",
       "      <td>3323</td>\n",
       "      <td>235</td>\n",
       "      <td>7.071923</td>\n",
       "    </tr>\n",
       "    <tr>\n",
       "      <th>2</th>\n",
       "      <td>5119</td>\n",
       "      <td>978</td>\n",
       "      <td>19.105294</td>\n",
       "    </tr>\n",
       "    <tr>\n",
       "      <th>3</th>\n",
       "      <td>1038</td>\n",
       "      <td>297</td>\n",
       "      <td>28.612717</td>\n",
       "    </tr>\n",
       "    <tr>\n",
       "      <th>4</th>\n",
       "      <td>474</td>\n",
       "      <td>300</td>\n",
       "      <td>63.291139</td>\n",
       "    </tr>\n",
       "    <tr>\n",
       "      <th>5</th>\n",
       "      <td>19</td>\n",
       "      <td>8</td>\n",
       "      <td>42.105263</td>\n",
       "    </tr>\n",
       "  </tbody>\n",
       "</table>\n",
       "</div>"
      ],
      "text/plain": [
       "         count   sum  proportion\n",
       "         churn churn            \n",
       "products                        \n",
       "0            1     1  100.000000\n",
       "1         3323   235    7.071923\n",
       "2         5119   978   19.105294\n",
       "3         1038   297   28.612717\n",
       "4          474   300   63.291139\n",
       "5           19     8   42.105263"
      ]
     },
     "execution_count": 32,
     "metadata": {},
     "output_type": "execute_result"
    }
   ],
   "source": [
    "products = data.pivot_table (index = 'products', values = 'churn', aggfunc = ['count', 'sum'])\n",
    "products['proportion'] = products['sum']/products['count']*100\n",
    "plt.figure(figsize=(13,6))\n",
    "sns.barplot(x=products.index,y=products['proportion'], palette=\"Reds\")\n",
    "plt.title(\"Процентное распределение ушедших клиентов по количеству используемых товаров\")\n",
    "plt.xlabel(\"количество используемых продуктов \")\n",
    "plt.ylabel(\"доля оттока\")\n",
    "plt.show()\n",
    "products"
   ]
  },
  {
   "cell_type": "markdown",
   "metadata": {},
   "source": [
    "Барчарт показывает, что 100 процентов пользователей пользующихся 0 продуктов банка попадают в категорию оттока, но так как эта строчка не имеет смысла, мы можем удалить ее из датасета."
   ]
  },
  {
   "cell_type": "code",
   "execution_count": 33,
   "metadata": {},
   "outputs": [
    {
     "data": {
      "image/png": "[encoded data removed]",
      "text/plain": [
       "<Figure size 936x432 with 1 Axes>"
      ]
     },
     "metadata": {
      "needs_background": "light"
     },
     "output_type": "display_data"
    }
   ],
   "source": [
    "data = data[data['products']!=0]\n",
    "products = data.pivot_table(index = 'products', values = 'churn', aggfunc = ['count', 'sum'])\n",
    "products['proportion'] = products['sum']/products['count']*100\n",
    "products\n",
    "plt.figure(figsize=(13,6))\n",
    "sns.barplot(x=products.index,y=products['proportion'], palette=\"Reds\")\n",
    "plt.title(\"Процентное распределение ушедших клиентов по количеству используемых товаров\")\n",
    "plt.xlabel(\"количество используемых продуктов \")\n",
    "plt.ylabel(\"доля оттока\")\n",
    "plt.axhline(data['churn'].mean()*100)\n",
    "plt.show()\n"
   ]
  },
  {
   "cell_type": "markdown",
   "metadata": {},
   "source": [
    "Теперь мы видим, что в люди пользующиеся 4 продуктами от банка более склонны к оттоку(процент оттока более 60 процентов ). Самая безопасная группа клиентов - те, кто использует 1-2 товара, так как доля оттока там не превышает 20 процентов.\n",
    "Средний показатель по банку 18 процентов, поэтому превыщающий этот процент показатели привлекают наше внимание, поэтому клиенты у которых в пользовании более 2 товаров являются более рискванной группой.\n",
    "По аналогии рассмотрим собственность клиентов входищих в группу оттока."
   ]
  },
  {
   "cell_type": "code",
   "execution_count": 34,
   "metadata": {},
   "outputs": [
    {
     "data": {
      "image/png": "[encoded data removed]",
      "text/plain": [
       "<Figure size 936x432 with 1 Axes>"
      ]
     },
     "metadata": {
      "needs_background": "light"
     },
     "output_type": "display_data"
    },
    {
     "data": {
      "text/html": [
       "<div>\n",
       "<style scoped>\n",
       "    .dataframe tbody tr th:only-of-type {\n",
       "        vertical-align: middle;\n",
       "    }\n",
       "\n",
       "    .dataframe tbody tr th {\n",
       "        vertical-align: top;\n",
       "    }\n",
       "\n",
       "    .dataframe thead tr th {\n",
       "        text-align: left;\n",
       "    }\n",
       "\n",
       "    .dataframe thead tr:last-of-type th {\n",
       "        text-align: right;\n",
       "    }\n",
       "</style>\n",
       "<table border=\"1\" class=\"dataframe\">\n",
       "  <thead>\n",
       "    <tr>\n",
       "      <th></th>\n",
       "      <th>count</th>\n",
       "      <th>sum</th>\n",
       "      <th>proportion</th>\n",
       "    </tr>\n",
       "    <tr>\n",
       "      <th></th>\n",
       "      <th>churn</th>\n",
       "      <th>churn</th>\n",
       "      <th></th>\n",
       "    </tr>\n",
       "    <tr>\n",
       "      <th>equity</th>\n",
       "      <th></th>\n",
       "      <th></th>\n",
       "      <th></th>\n",
       "    </tr>\n",
       "  </thead>\n",
       "  <tbody>\n",
       "    <tr>\n",
       "      <th>0</th>\n",
       "      <td>2576</td>\n",
       "      <td>90</td>\n",
       "      <td>3.493789</td>\n",
       "    </tr>\n",
       "    <tr>\n",
       "      <th>1</th>\n",
       "      <td>773</td>\n",
       "      <td>93</td>\n",
       "      <td>12.031048</td>\n",
       "    </tr>\n",
       "    <tr>\n",
       "      <th>2</th>\n",
       "      <td>1051</td>\n",
       "      <td>166</td>\n",
       "      <td>15.794481</td>\n",
       "    </tr>\n",
       "    <tr>\n",
       "      <th>3</th>\n",
       "      <td>1540</td>\n",
       "      <td>321</td>\n",
       "      <td>20.844156</td>\n",
       "    </tr>\n",
       "    <tr>\n",
       "      <th>4</th>\n",
       "      <td>1847</td>\n",
       "      <td>464</td>\n",
       "      <td>25.121819</td>\n",
       "    </tr>\n",
       "    <tr>\n",
       "      <th>5</th>\n",
       "      <td>1915</td>\n",
       "      <td>576</td>\n",
       "      <td>30.078329</td>\n",
       "    </tr>\n",
       "    <tr>\n",
       "      <th>6</th>\n",
       "      <td>161</td>\n",
       "      <td>58</td>\n",
       "      <td>36.024845</td>\n",
       "    </tr>\n",
       "    <tr>\n",
       "      <th>7</th>\n",
       "      <td>80</td>\n",
       "      <td>37</td>\n",
       "      <td>46.250000</td>\n",
       "    </tr>\n",
       "    <tr>\n",
       "      <th>8</th>\n",
       "      <td>17</td>\n",
       "      <td>6</td>\n",
       "      <td>35.294118</td>\n",
       "    </tr>\n",
       "    <tr>\n",
       "      <th>9</th>\n",
       "      <td>13</td>\n",
       "      <td>7</td>\n",
       "      <td>53.846154</td>\n",
       "    </tr>\n",
       "  </tbody>\n",
       "</table>\n",
       "</div>"
      ],
      "text/plain": [
       "       count   sum proportion\n",
       "       churn churn           \n",
       "equity                       \n",
       "0       2576    90   3.493789\n",
       "1        773    93  12.031048\n",
       "2       1051   166  15.794481\n",
       "3       1540   321  20.844156\n",
       "4       1847   464  25.121819\n",
       "5       1915   576  30.078329\n",
       "6        161    58  36.024845\n",
       "7         80    37  46.250000\n",
       "8         17     6  35.294118\n",
       "9         13     7  53.846154"
      ]
     },
     "execution_count": 34,
     "metadata": {},
     "output_type": "execute_result"
    }
   ],
   "source": [
    "equity = data.pivot_table(index = 'equity', values = 'churn', aggfunc = ['count', 'sum'])\n",
    "equity['proportion'] = equity['sum']/equity['count']*100\n",
    "plt.figure(figsize=(13,6))\n",
    "sns.barplot(x=equity.index,y=equity['proportion'], palette=\"Reds\")\n",
    "plt.title(\"Процентное распределение ушедших клиентов по оценке их собственности\")\n",
    "plt.xlabel(\"оценка собственности\")\n",
    "plt.ylabel(\"доля оттока\")\n",
    "plt.axhline(data['churn'].mean()*100)\n",
    "plt.show()\n",
    "equity"
   ]
  },
  {
   "cell_type": "markdown",
   "metadata": {},
   "source": [
    "Получившаяся таблица и диаграмма показывает, что в целом, исключая оценку 8, выявлена линейная зависимость между оценкой собственности и долей оттока. Доля оттока плавно повышается с оценки 0, где доля равна 3.5% до 7 баллов с долей 46.25 и 9 баллов с почти 54% оттока, только в отметке 8 показатель падает до 35 процентов оттока от общего количества клиентов.\n",
    "\n",
    "  Так как средний отток по банку составляет 18 процентов, то наше внимание привлекают все клиенты с 3 и более баллами собствтенности. Имеено этих клиентов мы отнесем к небезопасным для нашего банка.\n",
    "\n",
    "\n",
    "Рассмотрим клиентов на факт наличия кредитной карты."
   ]
  },
  {
   "cell_type": "code",
   "execution_count": 35,
   "metadata": {},
   "outputs": [
    {
     "data": {
      "image/png": "[encoded data removed]",
      "text/plain": [
       "<Figure size 936x432 with 1 Axes>"
      ]
     },
     "metadata": {
      "needs_background": "light"
     },
     "output_type": "display_data"
    },
    {
     "data": {
      "text/html": [
       "<div>\n",
       "<style scoped>\n",
       "    .dataframe tbody tr th:only-of-type {\n",
       "        vertical-align: middle;\n",
       "    }\n",
       "\n",
       "    .dataframe tbody tr th {\n",
       "        vertical-align: top;\n",
       "    }\n",
       "\n",
       "    .dataframe thead tr th {\n",
       "        text-align: left;\n",
       "    }\n",
       "\n",
       "    .dataframe thead tr:last-of-type th {\n",
       "        text-align: right;\n",
       "    }\n",
       "</style>\n",
       "<table border=\"1\" class=\"dataframe\">\n",
       "  <thead>\n",
       "    <tr>\n",
       "      <th></th>\n",
       "      <th>count</th>\n",
       "      <th>sum</th>\n",
       "      <th>proportion</th>\n",
       "    </tr>\n",
       "    <tr>\n",
       "      <th></th>\n",
       "      <th>churn</th>\n",
       "      <th>churn</th>\n",
       "      <th></th>\n",
       "    </tr>\n",
       "    <tr>\n",
       "      <th>credit_card</th>\n",
       "      <th></th>\n",
       "      <th></th>\n",
       "      <th></th>\n",
       "    </tr>\n",
       "  </thead>\n",
       "  <tbody>\n",
       "    <tr>\n",
       "      <th>0</th>\n",
       "      <td>3189</td>\n",
       "      <td>815</td>\n",
       "      <td>25.556601</td>\n",
       "    </tr>\n",
       "    <tr>\n",
       "      <th>1</th>\n",
       "      <td>6784</td>\n",
       "      <td>1003</td>\n",
       "      <td>14.784788</td>\n",
       "    </tr>\n",
       "  </tbody>\n",
       "</table>\n",
       "</div>"
      ],
      "text/plain": [
       "            count   sum proportion\n",
       "            churn churn           \n",
       "credit_card                       \n",
       "0            3189   815  25.556601\n",
       "1            6784  1003  14.784788"
      ]
     },
     "execution_count": 35,
     "metadata": {},
     "output_type": "execute_result"
    }
   ],
   "source": [
    "credit_card = data.pivot_table(index = 'credit_card', values = 'churn', aggfunc = ['count', 'sum'])\n",
    "credit_card['proportion'] = credit_card['sum']/credit_card['count']*100\n",
    "credit_card\n",
    "#labels = [\"есть кредитная карта\", \"нет кредитной карты \"]\n",
    "#values = [14.784788, 25.556601]\n",
    "\n",
    "# Строим график\n",
    "plt.figure(figsize=(13,6))\n",
    "#sns.barplot(x=labels, y=values, palette=\"Reds\")\n",
    "#plt.xticks(rotation=0)\n",
    "sns.barplot(x=credit_card.index,y=credit_card['proportion'], palette=\"Reds\")\n",
    "sns.barplot(x=[\"есть кредитная карта\", \"нет кредитной карты \"],y=credit_card['proportion'], palette=\"Reds\")\n",
    "plt.title(\"Процентное распределение ушедших клиентов по наличию кредитной карты\")\n",
    "plt.xlabel(\"наличие кредитной карты\")\n",
    "plt.axhline(data['churn'].mean()*100)\n",
    "plt.ylabel(\"доля оттока\")\n",
    "plt.show()\n",
    "credit_card"
   ]
  },
  {
   "cell_type": "markdown",
   "metadata": {},
   "source": [
    "Как показывает барчарт, среди тех, кто пользовался кредитной картой, процент оттока ниже(почти 15 процентов), чем у тех, кто ей не пользовался(25.6 процентов). Отток для пользователей которые не пользуются кредитными картами банка выше среднего значения для всего банка, поэтому в дальнейшем нужно сделать акцент на продвижение кредитки среди клиентов.\n",
    "\n",
    "Перейдем к ушедшим клиентам в разрезе активности."
   ]
  },
  {
   "cell_type": "code",
   "execution_count": 36,
   "metadata": {},
   "outputs": [
    {
     "data": {
      "image/png": "[encoded data removed]",
      "text/plain": [
       "<Figure size 936x432 with 1 Axes>"
      ]
     },
     "metadata": {
      "needs_background": "light"
     },
     "output_type": "display_data"
    },
    {
     "data": {
      "text/html": [
       "<div>\n",
       "<style scoped>\n",
       "    .dataframe tbody tr th:only-of-type {\n",
       "        vertical-align: middle;\n",
       "    }\n",
       "\n",
       "    .dataframe tbody tr th {\n",
       "        vertical-align: top;\n",
       "    }\n",
       "\n",
       "    .dataframe thead tr th {\n",
       "        text-align: left;\n",
       "    }\n",
       "\n",
       "    .dataframe thead tr:last-of-type th {\n",
       "        text-align: right;\n",
       "    }\n",
       "</style>\n",
       "<table border=\"1\" class=\"dataframe\">\n",
       "  <thead>\n",
       "    <tr>\n",
       "      <th></th>\n",
       "      <th>count</th>\n",
       "      <th>sum</th>\n",
       "      <th>proportion</th>\n",
       "    </tr>\n",
       "    <tr>\n",
       "      <th></th>\n",
       "      <th>churn</th>\n",
       "      <th>churn</th>\n",
       "      <th></th>\n",
       "    </tr>\n",
       "    <tr>\n",
       "      <th>last_activity</th>\n",
       "      <th></th>\n",
       "      <th></th>\n",
       "      <th></th>\n",
       "    </tr>\n",
       "  </thead>\n",
       "  <tbody>\n",
       "    <tr>\n",
       "      <th>0</th>\n",
       "      <td>4758</td>\n",
       "      <td>541</td>\n",
       "      <td>11.370324</td>\n",
       "    </tr>\n",
       "    <tr>\n",
       "      <th>1</th>\n",
       "      <td>5215</td>\n",
       "      <td>1277</td>\n",
       "      <td>24.487057</td>\n",
       "    </tr>\n",
       "  </tbody>\n",
       "</table>\n",
       "</div>"
      ],
      "text/plain": [
       "              count   sum proportion\n",
       "              churn churn           \n",
       "last_activity                       \n",
       "0              4758   541  11.370324\n",
       "1              5215  1277  24.487057"
      ]
     },
     "execution_count": 36,
     "metadata": {},
     "output_type": "execute_result"
    }
   ],
   "source": [
    "last_activity = data.pivot_table(index = 'last_activity', values = 'churn', aggfunc = ['count', 'sum'])\n",
    "last_activity['proportion'] = last_activity['sum']/last_activity['count']*100\n",
    "plt.figure(figsize=(13,6))\n",
    "sns.barplot(x=last_activity.index,y=last_activity['proportion'], palette=\"Reds\")\n",
    "sns.barplot(x=[\"неактивный пользователь\", \"активный пользователь \"],y=last_activity['proportion'], palette=\"Reds\")\n",
    "plt.title(\"Процентное распределение ушедших клиентов по активности\")\n",
    "plt.xticks(rotation=0)\n",
    "plt.xlabel(\"Акивность клиента\")\n",
    "plt.ylabel(\"доля оттока\")\n",
    "plt.axhline(data['churn'].mean()*100)\n",
    "plt.show()\n",
    "last_activity"
   ]
  },
  {
   "cell_type": "markdown",
   "metadata": {},
   "source": [
    "Мы видим, что активные пользователи более чем в 2 раза чаще попадают в категорию оттока(24.5%), чем те, которые не отмечены как активные(11%). Возможно это связано с тем, что чем чаще клиенты пользуются продуктами банка, тем чаще они сталкиваются со сбоями, ошибками или недостатками товаров, что заставляет пользователей уходить к другим банкам.\n",
    "\n",
    "Отток по неактивным клиентам чуть выше среднего по банку, поэтому активные клиенты, на удивление, являются опасной группой для банка.\n",
    "\n",
    "Теперь изучим распределение по городам."
   ]
  },
  {
   "cell_type": "code",
   "execution_count": 37,
   "metadata": {},
   "outputs": [
    {
     "data": {
      "image/png": "[encoded data removed]",
      "text/plain": [
       "<Figure size 936x432 with 1 Axes>"
      ]
     },
     "metadata": {
      "needs_background": "light"
     },
     "output_type": "display_data"
    },
    {
     "data": {
      "text/html": [
       "<div>\n",
       "<style scoped>\n",
       "    .dataframe tbody tr th:only-of-type {\n",
       "        vertical-align: middle;\n",
       "    }\n",
       "\n",
       "    .dataframe tbody tr th {\n",
       "        vertical-align: top;\n",
       "    }\n",
       "\n",
       "    .dataframe thead tr th {\n",
       "        text-align: left;\n",
       "    }\n",
       "\n",
       "    .dataframe thead tr:last-of-type th {\n",
       "        text-align: right;\n",
       "    }\n",
       "</style>\n",
       "<table border=\"1\" class=\"dataframe\">\n",
       "  <thead>\n",
       "    <tr>\n",
       "      <th></th>\n",
       "      <th>count</th>\n",
       "      <th>sum</th>\n",
       "      <th>proportion</th>\n",
       "    </tr>\n",
       "    <tr>\n",
       "      <th></th>\n",
       "      <th>churn</th>\n",
       "      <th>churn</th>\n",
       "      <th></th>\n",
       "    </tr>\n",
       "    <tr>\n",
       "      <th>city</th>\n",
       "      <th></th>\n",
       "      <th></th>\n",
       "      <th></th>\n",
       "    </tr>\n",
       "  </thead>\n",
       "  <tbody>\n",
       "    <tr>\n",
       "      <th>Ростов</th>\n",
       "      <td>1416</td>\n",
       "      <td>265</td>\n",
       "      <td>18.714689</td>\n",
       "    </tr>\n",
       "    <tr>\n",
       "      <th>Рыбинск</th>\n",
       "      <td>2682</td>\n",
       "      <td>436</td>\n",
       "      <td>16.256525</td>\n",
       "    </tr>\n",
       "    <tr>\n",
       "      <th>Ярославль</th>\n",
       "      <td>5875</td>\n",
       "      <td>1117</td>\n",
       "      <td>19.012766</td>\n",
       "    </tr>\n",
       "  </tbody>\n",
       "</table>\n",
       "</div>"
      ],
      "text/plain": [
       "          count   sum proportion\n",
       "          churn churn           \n",
       "city                            \n",
       "Ростов     1416   265  18.714689\n",
       "Рыбинск    2682   436  16.256525\n",
       "Ярославль  5875  1117  19.012766"
      ]
     },
     "execution_count": 37,
     "metadata": {},
     "output_type": "execute_result"
    }
   ],
   "source": [
    "city = data.pivot_table(index = 'city', values = 'churn', aggfunc = ['count', 'sum'])\n",
    "city['proportion'] = city['sum']/city['count']*100\n",
    "plt.figure(figsize=(13,6))\n",
    "sns.barplot(x=city.index,y=city['proportion'], palette=\"Reds\")\n",
    "plt.title(\"Процентное распределение ушедших клиентов по городам\")\n",
    "plt.xlabel(\"Город клиента\")\n",
    "plt.ylabel(\"доля оттока\")\n",
    "plt.xticks(rotation=0)\n",
    "plt.axhline(data['churn'].mean()*100)\n",
    "plt.show()\n",
    "city  "
   ]
  },
  {
   "cell_type": "markdown",
   "metadata": {},
   "source": [
    "В целом распределение ушедших клиентов по городам равномерно. Максимальное значение по доле оттока в Ярославле(19%), на втором месте по оттоку Ростов(18.7%), в то время как в Рыбинске процент минимальный(16%). \n",
    "\n",
    "Отток по городам распределен без сиоьных разниц между городами, однако клиенты из Ростова и Ярославля превышают средний показатель по банку, поэтому будут считаться более склонной к оттоку группой.\n",
    "\n",
    "Теперь изучим распределение по половому признаку. "
   ]
  },
  {
   "cell_type": "code",
   "execution_count": 38,
   "metadata": {},
   "outputs": [
    {
     "data": {
      "image/png": "[encoded data removed]",
      "text/plain": [
       "<Figure size 936x432 with 1 Axes>"
      ]
     },
     "metadata": {
      "needs_background": "light"
     },
     "output_type": "display_data"
    },
    {
     "data": {
      "text/html": [
       "<div>\n",
       "<style scoped>\n",
       "    .dataframe tbody tr th:only-of-type {\n",
       "        vertical-align: middle;\n",
       "    }\n",
       "\n",
       "    .dataframe tbody tr th {\n",
       "        vertical-align: top;\n",
       "    }\n",
       "\n",
       "    .dataframe thead tr th {\n",
       "        text-align: left;\n",
       "    }\n",
       "\n",
       "    .dataframe thead tr:last-of-type th {\n",
       "        text-align: right;\n",
       "    }\n",
       "</style>\n",
       "<table border=\"1\" class=\"dataframe\">\n",
       "  <thead>\n",
       "    <tr>\n",
       "      <th></th>\n",
       "      <th>count</th>\n",
       "      <th>sum</th>\n",
       "      <th>proportion</th>\n",
       "    </tr>\n",
       "    <tr>\n",
       "      <th></th>\n",
       "      <th>churn</th>\n",
       "      <th>churn</th>\n",
       "      <th></th>\n",
       "    </tr>\n",
       "    <tr>\n",
       "      <th>gender</th>\n",
       "      <th></th>\n",
       "      <th></th>\n",
       "      <th></th>\n",
       "    </tr>\n",
       "  </thead>\n",
       "  <tbody>\n",
       "    <tr>\n",
       "      <th>Ж</th>\n",
       "      <td>4982</td>\n",
       "      <td>635</td>\n",
       "      <td>12.745885</td>\n",
       "    </tr>\n",
       "    <tr>\n",
       "      <th>М</th>\n",
       "      <td>4991</td>\n",
       "      <td>1183</td>\n",
       "      <td>23.702665</td>\n",
       "    </tr>\n",
       "  </tbody>\n",
       "</table>\n",
       "</div>"
      ],
      "text/plain": [
       "       count   sum proportion\n",
       "       churn churn           \n",
       "gender                       \n",
       "Ж       4982   635  12.745885\n",
       "М       4991  1183  23.702665"
      ]
     },
     "execution_count": 38,
     "metadata": {},
     "output_type": "execute_result"
    }
   ],
   "source": [
    "gender = data.pivot_table(index = 'gender', values = 'churn', aggfunc = ['count', 'sum'])\n",
    "gender['proportion'] = gender['sum']/gender['count']*100\n",
    "plt.figure(figsize=(13,6))\n",
    "sns.barplot(x=gender.index,y=gender['proportion'], palette=\"Reds\")\n",
    "plt.title(\"Процентное распределение ушедших клиентов по полу\")\n",
    "plt.xlabel(\"Пол клиента\")\n",
    "plt.ylabel(\"доля оттока\")\n",
    "plt.axhline(data['churn'].mean()*100)\n",
    "plt.show()\n",
    "gender"
   ]
  },
  {
   "cell_type": "markdown",
   "metadata": {},
   "source": [
    "Как показывает барчарт, мужчины в 2 раза чаще попадают в категорию оттока(12.7 процентов), чем женщины(24 процентов).\n",
    "Отток среди мужчин  превышает средний процент по банку, так что этот признак особенно важен при работе с уменьшением общей доли оттока."
   ]
  },
  {
   "cell_type": "markdown",
   "metadata": {},
   "source": [
    "Составим портрет типичного пользователя."
   ]
  },
  {
   "cell_type": "code",
   "execution_count": 39,
   "metadata": {},
   "outputs": [
    {
     "data": {
      "text/html": [
       "<div>\n",
       "<style scoped>\n",
       "    .dataframe tbody tr th:only-of-type {\n",
       "        vertical-align: middle;\n",
       "    }\n",
       "\n",
       "    .dataframe tbody tr th {\n",
       "        vertical-align: top;\n",
       "    }\n",
       "\n",
       "    .dataframe thead th {\n",
       "        text-align: right;\n",
       "    }\n",
       "</style>\n",
       "<table border=\"1\" class=\"dataframe\">\n",
       "  <thead>\n",
       "    <tr style=\"text-align: right;\">\n",
       "      <th>churn</th>\n",
       "      <th>остались</th>\n",
       "      <th>ушли</th>\n",
       "    </tr>\n",
       "  </thead>\n",
       "  <tbody>\n",
       "    <tr>\n",
       "      <th>score</th>\n",
       "      <td>845.396199</td>\n",
       "      <td>863.361936</td>\n",
       "    </tr>\n",
       "    <tr>\n",
       "      <th>age</th>\n",
       "      <td>43.020846</td>\n",
       "      <td>41.429593</td>\n",
       "    </tr>\n",
       "    <tr>\n",
       "      <th>gender</th>\n",
       "      <td>Ж</td>\n",
       "      <td>М</td>\n",
       "    </tr>\n",
       "    <tr>\n",
       "      <th>city</th>\n",
       "      <td>Ярославль</td>\n",
       "      <td>Ярославль</td>\n",
       "    </tr>\n",
       "    <tr>\n",
       "      <th>equity</th>\n",
       "      <td>3</td>\n",
       "      <td>4</td>\n",
       "    </tr>\n",
       "    <tr>\n",
       "      <th>balance</th>\n",
       "      <td>733031.630149</td>\n",
       "      <td>1134458.209291</td>\n",
       "    </tr>\n",
       "    <tr>\n",
       "      <th>products</th>\n",
       "      <td>2</td>\n",
       "      <td>2</td>\n",
       "    </tr>\n",
       "    <tr>\n",
       "      <th>credit_card</th>\n",
       "      <td>1</td>\n",
       "      <td>1</td>\n",
       "    </tr>\n",
       "    <tr>\n",
       "      <th>last_activity</th>\n",
       "      <td>0</td>\n",
       "      <td>1</td>\n",
       "    </tr>\n",
       "    <tr>\n",
       "      <th>est_salary</th>\n",
       "      <td>147674.637881</td>\n",
       "      <td>148357.483157</td>\n",
       "    </tr>\n",
       "  </tbody>\n",
       "</table>\n",
       "</div>"
      ],
      "text/plain": [
       "churn               остались            ушли\n",
       "score             845.396199      863.361936\n",
       "age                43.020846       41.429593\n",
       "gender                     Ж               М\n",
       "city               Ярославль       Ярославль\n",
       "equity                     3               4\n",
       "balance        733031.630149  1134458.209291\n",
       "products                   2               2\n",
       "credit_card                1               1\n",
       "last_activity              0               1\n",
       "est_salary     147674.637881   148357.483157"
      ]
     },
     "execution_count": 39,
     "metadata": {},
     "output_type": "execute_result"
    }
   ],
   "source": [
    "client = data.groupby('churn').agg({\n",
    "    'score': 'mean',\n",
    "    'age': 'mean',\n",
    "    'gender': lambda x: x.value_counts().idxmax(),\n",
    "    'city': lambda x: x.value_counts().idxmax(),\n",
    "    'equity': 'median',\n",
    "    'balance': 'mean',\n",
    "    'products': 'median',\n",
    "    'credit_card': 'median',\n",
    "    'last_activity': 'median',\n",
    "    'est_salary': 'mean'\n",
    "}).T.rename(columns={0: 'остались', 1: 'ушли'})\n",
    "client"
   ]
  },
  {
   "cell_type": "markdown",
   "metadata": {},
   "source": [
    "Мы можем заметить разницу по скорингу, полу, оценке собственности и активности. Разница в остальных параметрах скорее в рамках статистической погрешности."
   ]
  },
  {
   "cell_type": "markdown",
   "metadata": {},
   "source": [
    "</font><font color='Blue'> новый вывод: \n",
    "- средний уровень оттока 18.24 процента\n",
    "- Средний уровень оттока по банку превышают следующие категории клиентов: \n",
    "    - клиенты мужчины \n",
    "    - клиенты из Ярославля и Ростове, хотя уровень оттока не сильно отоичается у всех представленных групп и примерно равномерно распределен\n",
    "    - клиенты в пользовании у которых 2 и более товаров банка \n",
    "    - пользователи без кредитной карты\n",
    "    - активные пользователи \n",
    "    - пользователи со скорингом выше 820\n",
    "    - пользователи с оценкой собственности выше 3 \n",
    "    \n",
    "    </b></font><br>"
   ]
  },
  {
   "cell_type": "markdown",
   "metadata": {},
   "source": [
    "**Шаг4. Статистический анализ данных**\n",
    "<a id=\"5\"></a>\n"
   ]
  },
  {
   "cell_type": "markdown",
   "metadata": {},
   "source": [
    "Сформулируем первую гипотезу.\n",
    "\n",
    "    Нулевая гипотеза: Доходы ушедших и оставшихся клиентов равны .\n",
    "\n",
    "    Альтернативная гипотеза: Доходы ушедших и оставшихся клиентов не равны.\n",
    "    \n",
    " Проверим с помощью t-test и с помощью u-test."
   ]
  },
  {
   "cell_type": "code",
   "execution_count": 40,
   "metadata": {},
   "outputs": [],
   "source": [
    "from scipy import stats as st"
   ]
  },
  {
   "cell_type": "code",
   "execution_count": 41,
   "metadata": {},
   "outputs": [
    {
     "name": "stdout",
     "output_type": "stream",
     "text": [
      "p-значение: 0.8500882387258035\n",
      "Не получилось отвергнуть нулевую гипотезу\n"
     ]
    }
   ],
   "source": [
    "#начнем с t-test\n",
    "results = st.ttest_ind(data[data['churn']==0]['est_salary'],\n",
    "                       data[data['churn']==1]['est_salary'])\n",
    "\n",
    "alpha = 0.05\n",
    "\n",
    "print('p-значение:', results.pvalue)\n",
    "\n",
    "if results.pvalue < alpha:\n",
    "    print(\"Отвергаем нулевую гипотезу\")\n",
    "else:\n",
    "    print(\"Не получилось отвергнуть нулевую гипотезу\")"
   ]
  },
  {
   "cell_type": "code",
   "execution_count": 42,
   "metadata": {},
   "outputs": [
    {
     "name": "stdout",
     "output_type": "stream",
     "text": [
      "p-значение:  0.00016830729188229058\n",
      "Отвергаем нулевую гипотезу: разница статистически значима\n"
     ]
    }
   ],
   "source": [
    "#u test\n",
    "alpha = .05\n",
    "\n",
    "results = st.mannwhitneyu(data[data['churn']==0]['est_salary'], data[data['churn']==1]['est_salary'], True,'two-sided')\n",
    "\n",
    "print('p-значение: ', results.pvalue)\n",
    "\n",
    "if results.pvalue < alpha:\n",
    "    print('Отвергаем нулевую гипотезу: разница статистически значима')    \n",
    "else:\n",
    "    print('Не получилось отвергнуть нулевую гипотезу, вывод о различии сделать нельзя') "
   ]
  },
  {
   "cell_type": "markdown",
   "metadata": {},
   "source": [
    "Мы видим разницу в результатах, так как эти два теста имеют разные подходы для проверки гипотез.\n",
    "\n",
    "U-тест (или тест Манна-Уитни) не требует предположения о нормальности распределения. Основная гипотеза для U-теста заключается в том, что две выборки имеют одинаковые распределения.\n",
    "\n",
    "T-тест, в свою очередь, основан на нормальном распределении данных и используется для сравнения средних значений двух выборок. Он более чувствителен к выбросам и требует выполнения условий о нормальности распределения и равенстве дисперсий. Основная гипотеза для t-теста заключается в том, что средние значения двух выборок равны.\n",
    "\n",
    "В данном случае стоит доверять U-тесту, так как по этому показателю датасета есть выбросы в виде особо состоятельных клиентов и т-тест не актуален.\n",
    "\n",
    "Приходим к выводу, что мы можем опровергнуть гипотезу о равенстве доходов ушедших и оставшихся клиентов."
   ]
  },
  {
   "cell_type": "markdown",
   "metadata": {},
   "source": [
    "Переходим ко второй гипотезе.\n",
    "\n",
    "    Нулевая гипотеза: Среднее количество баллов собственности у ушедших и оставшихся клиентов равны.\n",
    "\n",
    "    Альтернативная гипотеза: Среднее количество баллов собственности у ушедших и оставшихся клиентов не равны.\n",
    "    \n",
    "В этом случае применим т-тест, так как выбросов нет и мы проверяем среднее значние."
   ]
  },
  {
   "cell_type": "code",
   "execution_count": 43,
   "metadata": {},
   "outputs": [
    {
     "name": "stdout",
     "output_type": "stream",
     "text": [
      "p-значение: 2.801472548389952e-166\n",
      "Отвергаем нулевую гипотезу\n"
     ]
    }
   ],
   "source": [
    "results = st.ttest_ind(data[data['churn']==0]['equity'],\n",
    "                       data[data['churn']==1]['equity'])\n",
    "\n",
    "alpha = 0.05\n",
    "\n",
    "print('p-значение:', results.pvalue)\n",
    "\n",
    "if results.pvalue < alpha:\n",
    "    print(\"Отвергаем нулевую гипотезу\")\n",
    "else:\n",
    "    print(\"Не получилось отвергнуть нулевую гипотезу\")"
   ]
  },
  {
   "cell_type": "markdown",
   "metadata": {},
   "source": [
    "Проведенный тест подтвердил, что среднее количество баллов собственности отличается у группы оттока и у оставшихся клиентов."
   ]
  },
  {
   "cell_type": "markdown",
   "metadata": {},
   "source": [
    "Проверим третью гипотезу о количестве используемых продуктов банка. Так как в части исследовательского анализа мы заметили, что клиенты с более чем 3 товарами чаще попадали в отток, поэтому важно проверить эту гипотезу. \n",
    "\n",
    "    Нулевая гипотеза: Среднее количество используемых банковских товаров у ушедших и оставшихся клиентов равны.\n",
    "\n",
    "    Альтернативная гипотеза: Среднее количество используемых банковских товаров у ушедших и оставшихся клиентов не равны.\n",
    "    \n",
    "В этом случае применим т-тест, так как выбросов нет и мы проверяем среднее значние."
   ]
  },
  {
   "cell_type": "code",
   "execution_count": 44,
   "metadata": {},
   "outputs": [
    {
     "name": "stdout",
     "output_type": "stream",
     "text": [
      "p-значение: 2.5178746542447946e-208\n",
      "Отвергаем нулевую гипотезу\n"
     ]
    }
   ],
   "source": [
    "results = st.ttest_ind(data[data['churn']==0]['products'],\n",
    "                       data[data['churn']==1]['products'])\n",
    "\n",
    "alpha = 0.05\n",
    "\n",
    "print('p-значение:', results.pvalue)\n",
    "\n",
    "if results.pvalue < alpha:\n",
    "    print(\"Отвергаем нулевую гипотезу\")\n",
    "else:\n",
    "    print(\"Не получилось отвергнуть нулевую гипотезу\")"
   ]
  },
  {
   "cell_type": "markdown",
   "metadata": {},
   "source": [
    "Проведенный тест подтвердил, что среднее количество используемых продуктов от банка отличается у группы оттока и у оставшихся клиентов, что доказывает наши предположения из исследовательского анализа."
   ]
  },
  {
   "cell_type": "markdown",
   "metadata": {},
   "source": [
    "**Шаг5. Сегментация и приоритезация**\n",
    "\n",
    "<a id=\"4\"></a>"
   ]
  },
  {
   "cell_type": "markdown",
   "metadata": {},
   "source": [
    "Как показывает весь проведенный анализ, мы должны делать акцент на следующие параметры:\n",
    "\n",
    "- пол \n",
    "\n",
    "- количество продуктов в пользовании \n",
    "\n",
    "- оценка объектов собственности \n",
    "\n",
    "- наличие кредитной карты \n",
    "\n",
    "- активность пользователя\n",
    "\n",
    "- скоринг\n",
    "\n",
    "Сначала рассмотрим 3 главных параметра"
   ]
  },
  {
   "cell_type": "markdown",
   "metadata": {},
   "source": [
    "Сегмент 1\n",
    "- мужчина\n",
    "- 3 и более продуктов в пользовании "
   ]
  },
  {
   "cell_type": "code",
   "execution_count": 45,
   "metadata": {
    "scrolled": true
   },
   "outputs": [
    {
     "data": {
      "text/plain": [
       "752"
      ]
     },
     "execution_count": 45,
     "metadata": {},
     "output_type": "execute_result"
    }
   ],
   "source": [
    "port1 = data.query('male == 1 and products >=3')\n",
    "len(port1)"
   ]
  },
  {
   "cell_type": "markdown",
   "metadata": {},
   "source": [
    "Общее количество пользователей в первом сегменте подходит оптимальному значению(от 300 до 2000). Посмотрим долю оттока по этой группе"
   ]
  },
  {
   "cell_type": "code",
   "execution_count": 46,
   "metadata": {},
   "outputs": [
    {
     "data": {
      "text/plain": [
       "376"
      ]
     },
     "execution_count": 46,
     "metadata": {},
     "output_type": "execute_result"
    }
   ],
   "source": [
    "port_1 = data.query('male == 1 and products >=3 and churn == 1 ')\n",
    "len(port_1)"
   ]
  },
  {
   "cell_type": "markdown",
   "metadata": {},
   "source": [
    "Мы видим что количество ушедших клиентов попадающих по этот признак равно 376 людям."
   ]
  },
  {
   "cell_type": "code",
   "execution_count": 47,
   "metadata": {},
   "outputs": [
    {
     "data": {
      "text/plain": [
       "0.5"
      ]
     },
     "execution_count": 47,
     "metadata": {},
     "output_type": "execute_result"
    }
   ],
   "source": [
    "len(port_1)/len(port1)"
   ]
  },
  {
   "cell_type": "markdown",
   "metadata": {},
   "source": [
    "Доля оттока в этом сегменте равна 50%."
   ]
  },
  {
   "cell_type": "markdown",
   "metadata": {},
   "source": [
    "Сегмент 2\n",
    "\n",
    "- клиент без кредитной карты \n",
    "- оценка собственности более 4\n",
    "- активный пользователь"
   ]
  },
  {
   "cell_type": "code",
   "execution_count": 48,
   "metadata": {},
   "outputs": [
    {
     "name": "stdout",
     "output_type": "stream",
     "text": [
      "Общее число пользователей в сегменте 2: 892\n"
     ]
    }
   ],
   "source": [
    "port2 = data.query('credit_card == 0 and equity >=4 and last_activity == 1 ')\n",
    "print ('Общее число пользователей в сегменте 2:', len(port2))"
   ]
  },
  {
   "cell_type": "code",
   "execution_count": 49,
   "metadata": {},
   "outputs": [
    {
     "name": "stdout",
     "output_type": "stream",
     "text": [
      "Число отточных пользователей в сегменте 2: 443\n"
     ]
    }
   ],
   "source": [
    "port_2 = data.query('credit_card == 0 and equity >=4 and last_activity == 1 and churn == 1')\n",
    "print ('Число отточных пользователей в сегменте 2:', len(port_2))"
   ]
  },
  {
   "cell_type": "code",
   "execution_count": 50,
   "metadata": {},
   "outputs": [
    {
     "name": "stdout",
     "output_type": "stream",
     "text": [
      "Доля отточных пользователей в сегменте 2: 49.66367713004484\n"
     ]
    }
   ],
   "source": [
    "print ('Доля отточных пользователей в сегменте 2:', len(port_2)/len(port2)*100)"
   ]
  },
  {
   "cell_type": "markdown",
   "metadata": {},
   "source": [
    "Сегмент 3\n",
    " - скринг выше 800\n",
    " - мужчина \n",
    " - нет кредитной карты \n",
    " - активный пользователь"
   ]
  },
  {
   "cell_type": "code",
   "execution_count": 51,
   "metadata": {},
   "outputs": [
    {
     "name": "stdout",
     "output_type": "stream",
     "text": [
      "Общее число пользователей в сегменте 3: 609\n",
      "Число отточных пользователей в сегменте 3: 293\n",
      "Доля отточных пользователей в сегменте 3: 48.11165845648605\n"
     ]
    }
   ],
   "source": [
    "port3 = data.query('male == 1 and score >= 800 and credit_card == 0 and last_activity == 1')\n",
    "print ('Общее число пользователей в сегменте 3:', len(port3))\n",
    "port_3 = data.query('male == 1 and score >= 800 and credit_card == 0 and last_activity == 1 and churn == 1')\n",
    "print ('Число отточных пользователей в сегменте 3:', len(port_3))\n",
    "print ('Доля отточных пользователей в сегменте 3:', len(port_3)/len(port3)*100)"
   ]
  },
  {
   "cell_type": "markdown",
   "metadata": {},
   "source": [
    "Сегмент 4\n",
    "\n",
    "- женщина \n",
    "- нет кредитной карты \n",
    "- активный пользователь \n",
    "- собственность выше 4\n",
    "- скор выше 800"
   ]
  },
  {
   "cell_type": "code",
   "execution_count": 52,
   "metadata": {},
   "outputs": [
    {
     "name": "stdout",
     "output_type": "stream",
     "text": [
      "Общее число пользователей в сегменте 4: 435\n",
      "Число отточных пользователей в сегменте 4: 200\n",
      "Доля отточных пользователей в сегменте 4: 45.97701149425287\n"
     ]
    }
   ],
   "source": [
    "port4 = data.query('male == 0 and credit_card == 0  and score >= 800 and equity >= 4 and last_activity == 1')\n",
    "print ('Общее число пользователей в сегменте 4:', len(port4))\n",
    "port_4 = data.query('male == 0  and credit_card == 0 and score >= 800 and equity >= 4 and last_activity == 1 and churn == 1')\n",
    "print ('Число отточных пользователей в сегменте 4:', len(port_4))\n",
    "print ('Доля отточных пользователей в сегменте 4:', len(port_4)/len(port4)*100)"
   ]
  },
  {
   "cell_type": "markdown",
   "metadata": {},
   "source": [
    "Сегмент 5 \n",
    "- мужчина \n",
    "- менее 3 продуктв в пользовании \n",
    "- собственность выше 4\n",
    "- нет кредитной карты "
   ]
  },
  {
   "cell_type": "code",
   "execution_count": 53,
   "metadata": {
    "scrolled": true
   },
   "outputs": [
    {
     "name": "stdout",
     "output_type": "stream",
     "text": [
      "Общее число пользователей в сегменте 5: 640\n",
      "Число отточных пользователей в сегменте 5: 315\n",
      "Доля отточных пользователей в сегменте 5: 49.21875\n"
     ]
    }
   ],
   "source": [
    "port5 = data.query('male == 1 and products <= 3  and equity >= 4 and credit_card == 0 ')\n",
    "print ('Общее число пользователей в сегменте 5:', len(port5))\n",
    "port_5 = data.query('male == 1 and products <= 3  and equity >= 4 and credit_card == 0  and churn == 1')\n",
    "print ('Число отточных пользователей в сегменте 5:', len(port_5))\n",
    "print ('Доля отточных пользователей в сегменте 5:', len(port_5)/len(port5)*100)"
   ]
  },
  {
   "cell_type": "markdown",
   "metadata": {},
   "source": [
    "Сегмент 6\n",
    "- женищна\n",
    "- без кредитной карты \n",
    "- менее 3 продуктов в пользовании\n",
    "- собственность выше 4 \n",
    "- активный пользователь"
   ]
  },
  {
   "cell_type": "code",
   "execution_count": 54,
   "metadata": {},
   "outputs": [
    {
     "name": "stdout",
     "output_type": "stream",
     "text": [
      "Общее число пользователей в сегменте 6: 389\n",
      "Число отточных пользователей в сегменте 6: 189\n",
      "Доля отточных пользователей в сегменте 6: 48.58611825192802\n"
     ]
    }
   ],
   "source": [
    "port6 = data.query('male == 0 and credit_card == 0 and products <=3 and score>= 800 and equity >= 4 and last_activity == 1')\n",
    "print ('Общее число пользователей в сегменте 6:', len(port6))\n",
    "port_6 = data.query('male == 0  and credit_card == 0  and products <=3 and score >= 800 and equity >= 4 and last_activity == 1 and churn == 1')\n",
    "print ('Число отточных пользователей в сегменте 6:', len(port_6))\n",
    "print ('Доля отточных пользователей в сегменте 6:', len(port_6)/len(port6)*100)"
   ]
  },
  {
   "cell_type": "markdown",
   "metadata": {},
   "source": [
    "**Приоритизируем сегменты по доле оттока**"
   ]
  },
  {
   "cell_type": "markdown",
   "metadata": {},
   "source": [
    "Сегмент 1 \n",
    "- мужчина\n",
    "- 3 и более продуктов в пользовании \n",
    "\n",
    "Доля оттока 50%\n",
    "\n",
    "Сегмент 2\n",
    "\n",
    "- клиент без кредитной карты \n",
    "- оценка собственности более 4\n",
    "- активный пользователь\n",
    "\n",
    "Доля оттока 50%\n",
    "\n",
    "Сегмент 3 (вместо 5 сегмента взяла 6, так как в целом рекомендации для 1 2 и 6 сегмента помогут решить проблемы с оттоком 5, а доля оттока не сильно отличается )\n",
    "- женищна\n",
    "- без кредитной карты \n",
    "- менее 3 продуктов в пользовании\n",
    "- собственность выше 4 \n",
    "- активный пользователь\n",
    "\n",
    "Доля оттока 49 процентов\n"
   ]
  },
  {
   "cell_type": "markdown",
   "metadata": {},
   "source": [
    "\n",
    "Анализируя данные банка \"Метанпром\" мы можем выделить следующие выводы:\n",
    "- Корреляция с оттоком:\n",
    " - сильная с показателями не выявлена \n",
    " - умеренная выявлена с количеством используемых банковский товаров(0.3)\n",
    " - слабая с собственность клиента (0.27), активностью пользователя(0.17), с полом клиента(0.14), с наличием кредитной карты(-0.13), с кредитным скорингом (0.11)\n",
    "- средний уровень оттока 18.24 процентов\n",
    "средний уровень оттока 18.24 процента\n",
    "- Средний уровень оттока по банку превышают следующие категории клиентов: \n",
    "    - клиенты мужчины \n",
    "    - клиенты из Ярославля и Ростове, хотя уровень оттока не сильно отоичается у всех представленных групп и примерно равномерно распределен\n",
    "    - клиенты в пользовании у которых 2 и более товаров банка \n",
    "    - пользователи без кредитной карты\n",
    "    - активные пользователи \n",
    "    - пользователи со скорингом выше 820\n",
    "    - пользователи с оценкой собственности выше 3 \n",
    "- Были протестированы 3 гипотезы об отличиях показателей ушедших и оставшихся клиентов: \n",
    " - первая гипотеза о равенстве доходов клиентов оттока и оставшихся не подтвердилась  \n",
    " - вторая гипотеза о равестве среднего количества баллов собственноости у двух групп клиентов не подтвердилась\n",
    " - третья гипотеза о равенстве среднего количества используемых товаров у двух групп клиентов не подтвердилась \n",
    "- Для статистического теста были использованы u-test и t-test\n",
    "    \n",
    "Рекомендации для трех выбранных сегментов:\n",
    "    \n",
    "1. - мужчина\n",
    "- 3 и более продуктов в пользовании \n",
    "    \n",
    "    \n",
    "Рекомендации:\n",
    "\n",
    "- Предложить повышенный кэшбек на \"мужские\" разделы такие как барбершопы, спортивные магазины, билеты на футбольные матчи, мужские магазины одежды и аксессуары\n",
    "- предожить дополнительные привелегияи по начислению зарплаты или пенсии на карту банка \n",
    "- предложить более выгодные условия за использование более одного товара от банка или специальную систему лояльности\n",
    "    \n",
    "2. \n",
    "- клиент без кредитной карты \n",
    "- оценка собственности более 4\n",
    "- активный пользователь  \n",
    "    \n",
    "    \n",
    "Рекомендации: \n",
    "    \n",
    "- Предложить бесплатное открытие кредитной карты с более выгодными условиями, чем у конкурентов.\n",
    "- Предложить бесплатное обслуживание кредитной карты в течение первого года.\n",
    "- Предложить возможность получения кэшбэка или бонусных баллов за использование кредитной карты.\n",
    "- Предложить возможность получения скидок и привилегий у партнеров банка при оплате кредитной картой.\n",
    "- Предложить условия страхование собственности лучше чем в других банках\n",
    "- Предложить премиум карты с отсуствием ограничений на переводы и повышенные кэшбеки (доходность говорит об обеспеченности группы)\n",
    "    \n",
    "3. \n",
    "- женищна\n",
    "- без кредитной карты \n",
    "- менее 3 продуктов в пользовании\n",
    "- собственность выше 4 \n",
    "- активный пользователь\n",
    "    \n",
    "    \n",
    "Рекомендации: \n",
    "\n",
    "- Повышенный кэшбек на \"женские\" товары такие как одежда, косметика, товары для дома и для детей, салоны красоты и тд\n",
    "- Разослать информацию о всех товарах банка которые могут быть интересны по почте или проинформировать через звонки\n",
    "- все рекомндации для 2 сегмента относительно кредитной карты \n",
    "- Предложить условия страхование собственности лучше чем в других банках\n",
    "    \n",
    "\n",
    "Относительно всех клиентов актуальна рекомендация об улучшении обслуживания, предоставлении более удобных и инновационных услуг, чтобы удержать клиентов и привлечь новых.\n",
    "</b></font><br>"
   ]
  }
 ],
 "metadata": {
  "ExecuteTimeLog": [
   {
    "duration": 1573,
    "start_time": "2023-10-28T17:47:46.383Z"
   },
   {
    "duration": 190,
    "start_time": "2023-10-28T17:48:43.920Z"
   },
   {
    "duration": 57,
    "start_time": "2023-10-28T17:48:59.807Z"
   },
   {
    "duration": 60,
    "start_time": "2023-10-28T17:49:03.318Z"
   },
   {
    "duration": 16,
    "start_time": "2023-10-28T17:49:36.617Z"
   },
   {
    "duration": 118,
    "start_time": "2023-10-28T17:57:48.120Z"
   },
   {
    "duration": 23,
    "start_time": "2023-10-28T17:57:52.943Z"
   },
   {
    "duration": 9,
    "start_time": "2023-10-28T17:57:56.702Z"
   },
   {
    "duration": 26,
    "start_time": "2023-10-28T18:03:18.686Z"
   },
   {
    "duration": 4,
    "start_time": "2023-10-28T18:03:34.592Z"
   },
   {
    "duration": 19,
    "start_time": "2023-10-28T18:14:00.036Z"
   },
   {
    "duration": 27,
    "start_time": "2023-10-28T18:14:34.314Z"
   },
   {
    "duration": 6,
    "start_time": "2023-10-28T18:14:42.092Z"
   },
   {
    "duration": 5,
    "start_time": "2023-10-28T18:17:09.939Z"
   },
   {
    "duration": 19,
    "start_time": "2023-10-28T18:26:31.612Z"
   },
   {
    "duration": 6,
    "start_time": "2023-10-28T18:27:57.266Z"
   },
   {
    "duration": 5,
    "start_time": "2023-10-28T18:28:04.510Z"
   },
   {
    "duration": 15,
    "start_time": "2023-10-28T18:28:05.443Z"
   },
   {
    "duration": 14,
    "start_time": "2023-10-28T18:30:13.507Z"
   },
   {
    "duration": 13,
    "start_time": "2023-10-28T18:30:42.863Z"
   },
   {
    "duration": 15,
    "start_time": "2023-10-28T18:31:05.018Z"
   },
   {
    "duration": 15,
    "start_time": "2023-10-28T18:31:16.534Z"
   },
   {
    "duration": 17,
    "start_time": "2023-10-28T18:31:24.220Z"
   },
   {
    "duration": 20,
    "start_time": "2023-10-28T18:31:46.770Z"
   },
   {
    "duration": 18,
    "start_time": "2023-10-28T18:32:14.047Z"
   },
   {
    "duration": 8,
    "start_time": "2023-10-28T18:53:53.484Z"
   },
   {
    "duration": 4,
    "start_time": "2023-10-28T19:04:39.766Z"
   },
   {
    "duration": 8,
    "start_time": "2023-10-28T19:04:45.989Z"
   },
   {
    "duration": 10,
    "start_time": "2023-10-28T19:04:56.094Z"
   },
   {
    "duration": 12,
    "start_time": "2023-10-28T19:05:03.340Z"
   },
   {
    "duration": 1319,
    "start_time": "2023-10-28T19:05:28.007Z"
   },
   {
    "duration": 57,
    "start_time": "2023-10-28T19:05:29.328Z"
   },
   {
    "duration": 13,
    "start_time": "2023-10-28T19:05:29.387Z"
   },
   {
    "duration": 12,
    "start_time": "2023-10-28T19:05:29.402Z"
   },
   {
    "duration": 3,
    "start_time": "2023-10-28T19:05:29.416Z"
   },
   {
    "duration": 40,
    "start_time": "2023-10-28T19:05:29.421Z"
   },
   {
    "duration": 5,
    "start_time": "2023-10-28T19:05:29.463Z"
   },
   {
    "duration": 29,
    "start_time": "2023-10-28T19:05:29.470Z"
   },
   {
    "duration": 8,
    "start_time": "2023-10-28T19:05:29.501Z"
   },
   {
    "duration": 8,
    "start_time": "2023-10-28T19:05:58.727Z"
   },
   {
    "duration": 14,
    "start_time": "2023-10-28T19:21:35.577Z"
   },
   {
    "duration": 14,
    "start_time": "2023-10-28T19:22:05.694Z"
   },
   {
    "duration": 13,
    "start_time": "2023-10-28T19:32:10.001Z"
   },
   {
    "duration": 13,
    "start_time": "2023-10-28T19:32:31.432Z"
   },
   {
    "duration": 12,
    "start_time": "2023-10-28T19:32:41.825Z"
   },
   {
    "duration": 13,
    "start_time": "2023-10-28T19:32:53.433Z"
   },
   {
    "duration": 18,
    "start_time": "2023-10-28T19:32:59.754Z"
   },
   {
    "duration": 20,
    "start_time": "2023-10-28T20:10:49.795Z"
   },
   {
    "duration": 17,
    "start_time": "2023-10-28T20:11:02.712Z"
   },
   {
    "duration": 139,
    "start_time": "2023-10-28T20:27:22.340Z"
   },
   {
    "duration": 8,
    "start_time": "2023-10-28T20:27:36.497Z"
   },
   {
    "duration": 13,
    "start_time": "2023-10-28T20:28:15.009Z"
   },
   {
    "duration": 7,
    "start_time": "2023-10-28T20:29:04.998Z"
   },
   {
    "duration": 9,
    "start_time": "2023-10-28T20:29:26.678Z"
   },
   {
    "duration": 9,
    "start_time": "2023-10-28T20:29:31.574Z"
   },
   {
    "duration": 11,
    "start_time": "2023-10-28T20:29:34.347Z"
   },
   {
    "duration": 6,
    "start_time": "2023-10-28T20:31:40.740Z"
   },
   {
    "duration": 7,
    "start_time": "2023-10-28T20:31:55.575Z"
   },
   {
    "duration": 32,
    "start_time": "2023-10-28T20:32:05.210Z"
   },
   {
    "duration": 14,
    "start_time": "2023-10-28T20:32:20.150Z"
   },
   {
    "duration": 9,
    "start_time": "2023-10-28T20:58:27.768Z"
   },
   {
    "duration": 179,
    "start_time": "2023-10-28T21:01:30.200Z"
   },
   {
    "duration": 150,
    "start_time": "2023-10-28T21:02:54.488Z"
   },
   {
    "duration": 5,
    "start_time": "2023-10-28T21:03:09.840Z"
   },
   {
    "duration": 4,
    "start_time": "2023-10-28T21:06:24.289Z"
   },
   {
    "duration": 24,
    "start_time": "2023-10-28T21:06:30.371Z"
   },
   {
    "duration": 5,
    "start_time": "2023-10-28T21:20:02.981Z"
   },
   {
    "duration": 13,
    "start_time": "2023-10-28T21:20:32.689Z"
   },
   {
    "duration": 6,
    "start_time": "2023-10-28T21:20:37.520Z"
   },
   {
    "duration": 6,
    "start_time": "2023-10-28T21:28:11.442Z"
   },
   {
    "duration": 7,
    "start_time": "2023-10-28T21:36:22.692Z"
   },
   {
    "duration": 5,
    "start_time": "2023-10-28T21:40:50.164Z"
   },
   {
    "duration": 1552,
    "start_time": "2023-10-29T09:16:15.585Z"
   },
   {
    "duration": 170,
    "start_time": "2023-10-29T09:16:17.140Z"
   },
   {
    "duration": 13,
    "start_time": "2023-10-29T09:16:17.313Z"
   },
   {
    "duration": 12,
    "start_time": "2023-10-29T09:16:17.328Z"
   },
   {
    "duration": 15,
    "start_time": "2023-10-29T09:16:17.342Z"
   },
   {
    "duration": 47,
    "start_time": "2023-10-29T09:16:17.359Z"
   },
   {
    "duration": 5,
    "start_time": "2023-10-29T09:16:17.407Z"
   },
   {
    "duration": 15,
    "start_time": "2023-10-29T09:16:17.414Z"
   },
   {
    "duration": 12,
    "start_time": "2023-10-29T09:16:17.430Z"
   },
   {
    "duration": 20,
    "start_time": "2023-10-29T09:16:17.443Z"
   },
   {
    "duration": 14,
    "start_time": "2023-10-29T09:16:17.465Z"
   },
   {
    "duration": 29,
    "start_time": "2023-10-29T09:16:17.480Z"
   },
   {
    "duration": 27,
    "start_time": "2023-10-29T09:16:17.510Z"
   },
   {
    "duration": 18,
    "start_time": "2023-10-29T09:16:17.539Z"
   },
   {
    "duration": 19,
    "start_time": "2023-10-29T09:16:17.558Z"
   },
   {
    "duration": 10,
    "start_time": "2023-10-29T09:16:17.578Z"
   },
   {
    "duration": 28,
    "start_time": "2023-10-29T09:16:17.589Z"
   },
   {
    "duration": 130,
    "start_time": "2023-10-29T09:19:53.191Z"
   },
   {
    "duration": 118,
    "start_time": "2023-10-29T09:19:58.280Z"
   },
   {
    "duration": 128,
    "start_time": "2023-10-29T09:20:05.580Z"
   },
   {
    "duration": 117,
    "start_time": "2023-10-29T09:20:12.326Z"
   },
   {
    "duration": 126,
    "start_time": "2023-10-29T09:26:04.884Z"
   },
   {
    "duration": 120,
    "start_time": "2023-10-29T09:26:09.908Z"
   },
   {
    "duration": 116,
    "start_time": "2023-10-29T09:26:48.392Z"
   },
   {
    "duration": 187,
    "start_time": "2023-10-29T09:26:57.951Z"
   },
   {
    "duration": 119,
    "start_time": "2023-10-29T09:27:22.018Z"
   },
   {
    "duration": 122,
    "start_time": "2023-10-29T09:28:40.415Z"
   },
   {
    "duration": 129,
    "start_time": "2023-10-29T09:28:46.390Z"
   },
   {
    "duration": 128,
    "start_time": "2023-10-29T09:28:52.781Z"
   },
   {
    "duration": 1358,
    "start_time": "2023-10-31T17:28:28.335Z"
   },
   {
    "duration": 178,
    "start_time": "2023-10-31T17:28:29.697Z"
   },
   {
    "duration": 10,
    "start_time": "2023-10-31T17:28:29.877Z"
   },
   {
    "duration": 35,
    "start_time": "2023-10-31T17:28:29.889Z"
   },
   {
    "duration": 4,
    "start_time": "2023-10-31T17:28:29.926Z"
   },
   {
    "duration": 33,
    "start_time": "2023-10-31T17:28:29.931Z"
   },
   {
    "duration": 4,
    "start_time": "2023-10-31T17:28:29.966Z"
   },
   {
    "duration": 17,
    "start_time": "2023-10-31T17:28:29.972Z"
   },
   {
    "duration": 12,
    "start_time": "2023-10-31T17:28:29.992Z"
   },
   {
    "duration": 58,
    "start_time": "2023-10-31T17:28:30.006Z"
   },
   {
    "duration": 29,
    "start_time": "2023-10-31T17:28:30.066Z"
   },
   {
    "duration": 53,
    "start_time": "2023-10-31T17:28:30.096Z"
   },
   {
    "duration": 34,
    "start_time": "2023-10-31T17:28:30.150Z"
   },
   {
    "duration": 20,
    "start_time": "2023-10-31T17:28:30.186Z"
   },
   {
    "duration": 29,
    "start_time": "2023-10-31T17:28:30.208Z"
   },
   {
    "duration": 35,
    "start_time": "2023-10-31T17:28:30.239Z"
   },
   {
    "duration": 40,
    "start_time": "2023-10-31T17:28:30.276Z"
   },
   {
    "duration": 156,
    "start_time": "2023-10-31T17:28:30.317Z"
   },
   {
    "duration": 125,
    "start_time": "2023-10-31T17:28:30.475Z"
   },
   {
    "duration": 143,
    "start_time": "2023-10-31T17:35:48.292Z"
   },
   {
    "duration": 125,
    "start_time": "2023-10-31T17:35:53.338Z"
   },
   {
    "duration": 161,
    "start_time": "2023-10-31T17:35:57.528Z"
   },
   {
    "duration": 138,
    "start_time": "2023-10-31T17:36:15.891Z"
   },
   {
    "duration": 3,
    "start_time": "2023-10-31T18:00:10.338Z"
   },
   {
    "duration": 21,
    "start_time": "2023-10-31T18:00:14.352Z"
   },
   {
    "duration": 25,
    "start_time": "2023-10-31T18:00:31.441Z"
   },
   {
    "duration": 1359,
    "start_time": "2023-10-31T18:01:55.410Z"
   },
   {
    "duration": 27,
    "start_time": "2023-10-31T18:02:08.140Z"
   },
   {
    "duration": 33,
    "start_time": "2023-10-31T18:04:56.806Z"
   },
   {
    "duration": 7,
    "start_time": "2023-10-31T18:28:01.469Z"
   },
   {
    "duration": 1162,
    "start_time": "2023-10-31T18:29:32.679Z"
   },
   {
    "duration": 53,
    "start_time": "2023-10-31T18:29:33.843Z"
   },
   {
    "duration": 13,
    "start_time": "2023-10-31T18:29:33.897Z"
   },
   {
    "duration": 22,
    "start_time": "2023-10-31T18:29:33.913Z"
   },
   {
    "duration": 3,
    "start_time": "2023-10-31T18:29:33.937Z"
   },
   {
    "duration": 39,
    "start_time": "2023-10-31T18:29:33.942Z"
   },
   {
    "duration": 4,
    "start_time": "2023-10-31T18:29:33.983Z"
   },
   {
    "duration": 13,
    "start_time": "2023-10-31T18:29:33.989Z"
   },
   {
    "duration": 10,
    "start_time": "2023-10-31T18:29:34.004Z"
   },
   {
    "duration": 32,
    "start_time": "2023-10-31T18:29:34.016Z"
   },
   {
    "duration": 19,
    "start_time": "2023-10-31T18:29:34.050Z"
   },
   {
    "duration": 18,
    "start_time": "2023-10-31T18:29:34.071Z"
   },
   {
    "duration": 21,
    "start_time": "2023-10-31T18:29:34.091Z"
   },
   {
    "duration": 4,
    "start_time": "2023-10-31T18:29:34.114Z"
   },
   {
    "duration": 7,
    "start_time": "2023-10-31T18:29:34.119Z"
   },
   {
    "duration": 15,
    "start_time": "2023-10-31T18:29:34.127Z"
   },
   {
    "duration": 5,
    "start_time": "2023-10-31T18:29:34.144Z"
   },
   {
    "duration": 131,
    "start_time": "2023-10-31T18:29:34.150Z"
   },
   {
    "duration": 131,
    "start_time": "2023-10-31T18:29:34.283Z"
   },
   {
    "duration": 157,
    "start_time": "2023-10-31T18:29:34.416Z"
   },
   {
    "duration": 28,
    "start_time": "2023-10-31T18:29:34.574Z"
   },
   {
    "duration": 43,
    "start_time": "2023-10-31T18:29:34.604Z"
   },
   {
    "duration": 1159,
    "start_time": "2023-10-31T18:32:09.780Z"
   },
   {
    "duration": 54,
    "start_time": "2023-10-31T18:32:10.940Z"
   },
   {
    "duration": 12,
    "start_time": "2023-10-31T18:32:10.995Z"
   },
   {
    "duration": 7,
    "start_time": "2023-10-31T18:32:11.009Z"
   },
   {
    "duration": 3,
    "start_time": "2023-10-31T18:32:11.017Z"
   },
   {
    "duration": 25,
    "start_time": "2023-10-31T18:32:11.021Z"
   },
   {
    "duration": 4,
    "start_time": "2023-10-31T18:32:11.047Z"
   },
   {
    "duration": 14,
    "start_time": "2023-10-31T18:32:11.052Z"
   },
   {
    "duration": 10,
    "start_time": "2023-10-31T18:32:11.067Z"
   },
   {
    "duration": 11,
    "start_time": "2023-10-31T18:32:11.079Z"
   },
   {
    "duration": 7,
    "start_time": "2023-10-31T18:32:11.091Z"
   },
   {
    "duration": 43,
    "start_time": "2023-10-31T18:32:11.099Z"
   },
   {
    "duration": 28,
    "start_time": "2023-10-31T18:32:11.144Z"
   },
   {
    "duration": 5,
    "start_time": "2023-10-31T18:32:11.173Z"
   },
   {
    "duration": 6,
    "start_time": "2023-10-31T18:32:11.180Z"
   },
   {
    "duration": 6,
    "start_time": "2023-10-31T18:32:11.187Z"
   },
   {
    "duration": 15,
    "start_time": "2023-10-31T18:32:11.194Z"
   },
   {
    "duration": 154,
    "start_time": "2023-10-31T18:32:11.211Z"
   },
   {
    "duration": 124,
    "start_time": "2023-10-31T18:32:11.367Z"
   },
   {
    "duration": 141,
    "start_time": "2023-10-31T18:32:11.493Z"
   },
   {
    "duration": 30,
    "start_time": "2023-10-31T18:32:11.640Z"
   },
   {
    "duration": 30,
    "start_time": "2023-10-31T18:32:11.671Z"
   },
   {
    "duration": 1335,
    "start_time": "2023-10-31T18:39:00.366Z"
   },
   {
    "duration": 1316,
    "start_time": "2023-10-31T18:39:10.916Z"
   },
   {
    "duration": 1300,
    "start_time": "2023-10-31T18:39:19.229Z"
   },
   {
    "duration": 1276,
    "start_time": "2023-10-31T18:46:18.544Z"
   },
   {
    "duration": 1123,
    "start_time": "2023-10-31T18:47:40.294Z"
   },
   {
    "duration": 52,
    "start_time": "2023-10-31T18:47:41.419Z"
   },
   {
    "duration": 10,
    "start_time": "2023-10-31T18:47:41.472Z"
   },
   {
    "duration": 7,
    "start_time": "2023-10-31T18:47:41.484Z"
   },
   {
    "duration": 3,
    "start_time": "2023-10-31T18:47:41.492Z"
   },
   {
    "duration": 23,
    "start_time": "2023-10-31T18:47:41.496Z"
   },
   {
    "duration": 4,
    "start_time": "2023-10-31T18:47:41.540Z"
   },
   {
    "duration": 12,
    "start_time": "2023-10-31T18:47:41.545Z"
   },
   {
    "duration": 10,
    "start_time": "2023-10-31T18:47:41.559Z"
   },
   {
    "duration": 9,
    "start_time": "2023-10-31T18:47:41.572Z"
   },
   {
    "duration": 7,
    "start_time": "2023-10-31T18:47:41.582Z"
   },
   {
    "duration": 5,
    "start_time": "2023-10-31T18:47:41.591Z"
   },
   {
    "duration": 60,
    "start_time": "2023-10-31T18:47:41.597Z"
   },
   {
    "duration": 5,
    "start_time": "2023-10-31T18:47:41.658Z"
   },
   {
    "duration": 7,
    "start_time": "2023-10-31T18:47:41.664Z"
   },
   {
    "duration": 5,
    "start_time": "2023-10-31T18:47:41.672Z"
   },
   {
    "duration": 4,
    "start_time": "2023-10-31T18:47:41.678Z"
   },
   {
    "duration": 158,
    "start_time": "2023-10-31T18:47:41.683Z"
   },
   {
    "duration": 138,
    "start_time": "2023-10-31T18:47:41.842Z"
   },
   {
    "duration": 132,
    "start_time": "2023-10-31T18:47:41.981Z"
   },
   {
    "duration": 102,
    "start_time": "2023-10-31T18:47:42.115Z"
   },
   {
    "duration": 0,
    "start_time": "2023-10-31T18:47:42.218Z"
   },
   {
    "duration": 0,
    "start_time": "2023-10-31T18:47:42.221Z"
   },
   {
    "duration": 27,
    "start_time": "2023-10-31T18:49:29.613Z"
   },
   {
    "duration": 27,
    "start_time": "2023-10-31T18:49:34.117Z"
   },
   {
    "duration": 783,
    "start_time": "2023-10-31T18:49:43.438Z"
   },
   {
    "duration": 20,
    "start_time": "2023-10-31T18:50:26.691Z"
   },
   {
    "duration": 7,
    "start_time": "2023-10-31T18:50:32.662Z"
   },
   {
    "duration": 1176,
    "start_time": "2023-10-31T19:17:18.328Z"
   },
   {
    "duration": 52,
    "start_time": "2023-10-31T19:17:19.505Z"
   },
   {
    "duration": 12,
    "start_time": "2023-10-31T19:17:19.558Z"
   },
   {
    "duration": 19,
    "start_time": "2023-10-31T19:17:19.571Z"
   },
   {
    "duration": 20,
    "start_time": "2023-10-31T19:17:19.591Z"
   },
   {
    "duration": 38,
    "start_time": "2023-10-31T19:17:19.613Z"
   },
   {
    "duration": 4,
    "start_time": "2023-10-31T19:17:19.652Z"
   },
   {
    "duration": 43,
    "start_time": "2023-10-31T19:17:19.657Z"
   },
   {
    "duration": 14,
    "start_time": "2023-10-31T19:17:19.701Z"
   },
   {
    "duration": 28,
    "start_time": "2023-10-31T19:17:19.717Z"
   },
   {
    "duration": 22,
    "start_time": "2023-10-31T19:17:19.747Z"
   },
   {
    "duration": 12,
    "start_time": "2023-10-31T19:17:19.770Z"
   },
   {
    "duration": 26,
    "start_time": "2023-10-31T19:17:19.783Z"
   },
   {
    "duration": 22,
    "start_time": "2023-10-31T19:17:19.810Z"
   },
   {
    "duration": 36,
    "start_time": "2023-10-31T19:17:19.833Z"
   },
   {
    "duration": 23,
    "start_time": "2023-10-31T19:17:19.870Z"
   },
   {
    "duration": 18,
    "start_time": "2023-10-31T19:17:19.894Z"
   },
   {
    "duration": 153,
    "start_time": "2023-10-31T19:17:19.913Z"
   },
   {
    "duration": 120,
    "start_time": "2023-10-31T19:17:20.067Z"
   },
   {
    "duration": 131,
    "start_time": "2023-10-31T19:17:20.189Z"
   },
   {
    "duration": 27,
    "start_time": "2023-10-31T19:17:20.322Z"
   },
   {
    "duration": 33,
    "start_time": "2023-10-31T19:17:20.350Z"
   },
   {
    "duration": 1332,
    "start_time": "2023-10-31T19:17:20.385Z"
   },
   {
    "duration": 95,
    "start_time": "2023-10-31T19:20:41.824Z"
   },
   {
    "duration": 17,
    "start_time": "2023-10-31T19:21:10.807Z"
   },
   {
    "duration": 66,
    "start_time": "2023-10-31T19:45:26.387Z"
   },
   {
    "duration": 71,
    "start_time": "2023-10-31T19:45:32.194Z"
   },
   {
    "duration": 13,
    "start_time": "2023-10-31T19:45:38.135Z"
   },
   {
    "duration": 23,
    "start_time": "2023-10-31T19:51:36.999Z"
   },
   {
    "duration": 32,
    "start_time": "2023-10-31T19:51:59.392Z"
   },
   {
    "duration": 2,
    "start_time": "2023-10-31T19:53:14.099Z"
   },
   {
    "duration": 1,
    "start_time": "2023-10-31T19:58:10.125Z"
   },
   {
    "duration": 68,
    "start_time": "2023-10-31T20:06:07.290Z"
   },
   {
    "duration": 1205,
    "start_time": "2023-10-31T20:06:16.179Z"
   },
   {
    "duration": 881,
    "start_time": "2023-10-31T20:06:29.924Z"
   },
   {
    "duration": 823,
    "start_time": "2023-10-31T20:07:38.607Z"
   },
   {
    "duration": 1253,
    "start_time": "2023-10-31T20:10:05.706Z"
   },
   {
    "duration": 52,
    "start_time": "2023-10-31T20:10:06.961Z"
   },
   {
    "duration": 14,
    "start_time": "2023-10-31T20:10:07.014Z"
   },
   {
    "duration": 11,
    "start_time": "2023-10-31T20:10:07.030Z"
   },
   {
    "duration": 3,
    "start_time": "2023-10-31T20:10:07.042Z"
   },
   {
    "duration": 30,
    "start_time": "2023-10-31T20:10:07.047Z"
   },
   {
    "duration": 5,
    "start_time": "2023-10-31T20:10:07.078Z"
   },
   {
    "duration": 14,
    "start_time": "2023-10-31T20:10:07.084Z"
   },
   {
    "duration": 11,
    "start_time": "2023-10-31T20:10:07.099Z"
   },
   {
    "duration": 11,
    "start_time": "2023-10-31T20:10:07.140Z"
   },
   {
    "duration": 8,
    "start_time": "2023-10-31T20:10:07.152Z"
   },
   {
    "duration": 6,
    "start_time": "2023-10-31T20:10:07.161Z"
   },
   {
    "duration": 19,
    "start_time": "2023-10-31T20:10:07.168Z"
   },
   {
    "duration": 6,
    "start_time": "2023-10-31T20:10:07.189Z"
   },
   {
    "duration": 26,
    "start_time": "2023-10-31T20:10:07.197Z"
   },
   {
    "duration": 4,
    "start_time": "2023-10-31T20:10:07.240Z"
   },
   {
    "duration": 5,
    "start_time": "2023-10-31T20:10:07.246Z"
   },
   {
    "duration": 143,
    "start_time": "2023-10-31T20:10:07.252Z"
   },
   {
    "duration": 186,
    "start_time": "2023-10-31T20:10:07.396Z"
   },
   {
    "duration": 144,
    "start_time": "2023-10-31T20:10:07.584Z"
   },
   {
    "duration": 35,
    "start_time": "2023-10-31T20:10:07.730Z"
   },
   {
    "duration": 27,
    "start_time": "2023-10-31T20:10:07.767Z"
   },
   {
    "duration": 4,
    "start_time": "2023-10-31T20:10:07.795Z"
   },
   {
    "duration": 1437,
    "start_time": "2023-10-31T20:10:07.800Z"
   },
   {
    "duration": 2,
    "start_time": "2023-10-31T20:10:09.239Z"
   },
   {
    "duration": 889,
    "start_time": "2023-10-31T20:10:09.242Z"
   },
   {
    "duration": 937,
    "start_time": "2023-10-31T20:11:52.284Z"
   },
   {
    "duration": 843,
    "start_time": "2023-10-31T20:26:05.988Z"
   },
   {
    "duration": 109,
    "start_time": "2023-10-31T20:31:23.177Z"
   },
   {
    "duration": 210,
    "start_time": "2023-10-31T20:31:41.657Z"
   },
   {
    "duration": 347,
    "start_time": "2023-10-31T20:31:56.910Z"
   },
   {
    "duration": 242,
    "start_time": "2023-10-31T20:32:16.990Z"
   },
   {
    "duration": 203,
    "start_time": "2023-10-31T20:33:29.749Z"
   },
   {
    "duration": 69,
    "start_time": "2023-10-31T20:33:53.746Z"
   },
   {
    "duration": 182,
    "start_time": "2023-10-31T20:34:21.221Z"
   },
   {
    "duration": 207,
    "start_time": "2023-10-31T20:34:36.267Z"
   },
   {
    "duration": 213,
    "start_time": "2023-10-31T20:35:44.739Z"
   },
   {
    "duration": 257,
    "start_time": "2023-10-31T20:35:53.837Z"
   },
   {
    "duration": 305,
    "start_time": "2023-10-31T20:38:12.395Z"
   },
   {
    "duration": 243,
    "start_time": "2023-10-31T20:38:27.727Z"
   },
   {
    "duration": 239,
    "start_time": "2023-10-31T20:38:59.993Z"
   },
   {
    "duration": 228,
    "start_time": "2023-10-31T20:40:44.906Z"
   },
   {
    "duration": 234,
    "start_time": "2023-10-31T20:41:31.333Z"
   },
   {
    "duration": 256,
    "start_time": "2023-10-31T21:42:08.235Z"
   },
   {
    "duration": 250,
    "start_time": "2023-10-31T21:48:19.062Z"
   },
   {
    "duration": 248,
    "start_time": "2023-10-31T21:53:59.837Z"
   },
   {
    "duration": 14,
    "start_time": "2023-10-31T21:54:03.739Z"
   },
   {
    "duration": 15,
    "start_time": "2023-10-31T21:54:11.450Z"
   },
   {
    "duration": 20,
    "start_time": "2023-10-31T21:54:19.246Z"
   },
   {
    "duration": 11,
    "start_time": "2023-10-31T21:54:50.871Z"
   },
   {
    "duration": 347,
    "start_time": "2023-10-31T21:55:54.478Z"
   },
   {
    "duration": 11,
    "start_time": "2023-10-31T21:56:03.324Z"
   },
   {
    "duration": 93,
    "start_time": "2023-10-31T21:56:08.082Z"
   },
   {
    "duration": 10,
    "start_time": "2023-10-31T21:56:23.230Z"
   },
   {
    "duration": 75,
    "start_time": "2023-10-31T21:59:30.699Z"
   },
   {
    "duration": 80,
    "start_time": "2023-10-31T22:00:53.520Z"
   },
   {
    "duration": 72,
    "start_time": "2023-10-31T22:01:19.026Z"
   },
   {
    "duration": 21,
    "start_time": "2023-10-31T22:03:28.734Z"
   },
   {
    "duration": 23,
    "start_time": "2023-10-31T22:05:23.389Z"
   },
   {
    "duration": 9,
    "start_time": "2023-10-31T22:09:34.622Z"
   },
   {
    "duration": 10,
    "start_time": "2023-10-31T22:10:18.093Z"
   },
   {
    "duration": 8,
    "start_time": "2023-10-31T22:13:58.086Z"
   },
   {
    "duration": 3,
    "start_time": "2023-10-31T22:15:32.322Z"
   },
   {
    "duration": 304,
    "start_time": "2023-10-31T22:15:56.356Z"
   },
   {
    "duration": 18,
    "start_time": "2023-10-31T22:18:18.499Z"
   },
   {
    "duration": 226,
    "start_time": "2023-10-31T22:18:45.703Z"
   },
   {
    "duration": 239,
    "start_time": "2023-10-31T22:19:04.309Z"
   },
   {
    "duration": 12,
    "start_time": "2023-10-31T22:21:42.068Z"
   },
   {
    "duration": 233,
    "start_time": "2023-10-31T22:22:30.524Z"
   },
   {
    "duration": 223,
    "start_time": "2023-10-31T22:22:38.494Z"
   },
   {
    "duration": 237,
    "start_time": "2023-10-31T22:29:55.069Z"
   },
   {
    "duration": 230,
    "start_time": "2023-10-31T22:30:50.038Z"
   },
   {
    "duration": 820,
    "start_time": "2023-10-31T22:40:03.735Z"
   },
   {
    "duration": 36,
    "start_time": "2023-10-31T22:40:18.529Z"
   },
   {
    "duration": 124071,
    "start_time": "2023-10-31T22:40:30.630Z"
   },
   {
    "duration": 11,
    "start_time": "2023-10-31T22:45:55.253Z"
   },
   {
    "duration": 267,
    "start_time": "2023-10-31T22:56:09.489Z"
   },
   {
    "duration": 481,
    "start_time": "2023-10-31T22:56:20.577Z"
   },
   {
    "duration": 16,
    "start_time": "2023-10-31T22:56:42.857Z"
   },
   {
    "duration": 17,
    "start_time": "2023-10-31T22:57:32.869Z"
   },
   {
    "duration": 9,
    "start_time": "2023-10-31T23:00:53.254Z"
   },
   {
    "duration": 164,
    "start_time": "2023-10-31T23:02:01.811Z"
   },
   {
    "duration": 152,
    "start_time": "2023-10-31T23:02:48.254Z"
   },
   {
    "duration": 154,
    "start_time": "2023-10-31T23:03:14.390Z"
   },
   {
    "duration": 1389,
    "start_time": "2023-10-31T23:08:06.096Z"
   },
   {
    "duration": 1385,
    "start_time": "2023-10-31T23:08:15.968Z"
   },
   {
    "duration": 1350,
    "start_time": "2023-10-31T23:08:42.685Z"
   },
   {
    "duration": 17,
    "start_time": "2023-10-31T23:08:53.769Z"
   },
   {
    "duration": 1246,
    "start_time": "2023-10-31T23:09:24.827Z"
   },
   {
    "duration": 17,
    "start_time": "2023-10-31T23:09:36.986Z"
   },
   {
    "duration": 15,
    "start_time": "2023-10-31T23:09:43.428Z"
   },
   {
    "duration": 16,
    "start_time": "2023-10-31T23:10:19.233Z"
   },
   {
    "duration": 1217,
    "start_time": "2023-10-31T23:10:28.030Z"
   },
   {
    "duration": 16,
    "start_time": "2023-10-31T23:10:40.457Z"
   },
   {
    "duration": 19,
    "start_time": "2023-10-31T23:10:57.818Z"
   },
   {
    "duration": 151,
    "start_time": "2023-10-31T23:12:17.311Z"
   },
   {
    "duration": 8,
    "start_time": "2023-10-31T23:12:52.039Z"
   },
   {
    "duration": 2,
    "start_time": "2023-10-31T23:17:06.373Z"
   },
   {
    "duration": 9,
    "start_time": "2023-10-31T23:17:17.467Z"
   },
   {
    "duration": 10,
    "start_time": "2023-10-31T23:17:35.303Z"
   },
   {
    "duration": 3,
    "start_time": "2023-10-31T23:18:20.945Z"
   },
   {
    "duration": 158,
    "start_time": "2023-10-31T23:18:37.573Z"
   },
   {
    "duration": 145,
    "start_time": "2023-10-31T23:19:24.859Z"
   },
   {
    "duration": 1117,
    "start_time": "2023-10-31T23:21:16.000Z"
   },
   {
    "duration": 50,
    "start_time": "2023-10-31T23:21:17.119Z"
   },
   {
    "duration": 10,
    "start_time": "2023-10-31T23:21:17.171Z"
   },
   {
    "duration": 7,
    "start_time": "2023-10-31T23:21:17.182Z"
   },
   {
    "duration": 3,
    "start_time": "2023-10-31T23:21:17.191Z"
   },
   {
    "duration": 32,
    "start_time": "2023-10-31T23:21:17.195Z"
   },
   {
    "duration": 4,
    "start_time": "2023-10-31T23:21:17.239Z"
   },
   {
    "duration": 13,
    "start_time": "2023-10-31T23:21:17.244Z"
   },
   {
    "duration": 9,
    "start_time": "2023-10-31T23:21:17.258Z"
   },
   {
    "duration": 9,
    "start_time": "2023-10-31T23:21:17.268Z"
   },
   {
    "duration": 7,
    "start_time": "2023-10-31T23:21:17.278Z"
   },
   {
    "duration": 4,
    "start_time": "2023-10-31T23:21:17.287Z"
   },
   {
    "duration": 16,
    "start_time": "2023-10-31T23:21:17.293Z"
   },
   {
    "duration": 5,
    "start_time": "2023-10-31T23:21:17.340Z"
   },
   {
    "duration": 5,
    "start_time": "2023-10-31T23:21:17.346Z"
   },
   {
    "duration": 8,
    "start_time": "2023-10-31T23:21:17.352Z"
   },
   {
    "duration": 5,
    "start_time": "2023-10-31T23:21:17.362Z"
   },
   {
    "duration": 137,
    "start_time": "2023-10-31T23:21:17.368Z"
   },
   {
    "duration": 118,
    "start_time": "2023-10-31T23:21:17.507Z"
   },
   {
    "duration": 132,
    "start_time": "2023-10-31T23:21:17.626Z"
   },
   {
    "duration": 26,
    "start_time": "2023-10-31T23:21:17.759Z"
   },
   {
    "duration": 27,
    "start_time": "2023-10-31T23:21:17.787Z"
   },
   {
    "duration": 24,
    "start_time": "2023-10-31T23:21:17.816Z"
   },
   {
    "duration": 1288,
    "start_time": "2023-10-31T23:21:17.841Z"
   },
   {
    "duration": 3,
    "start_time": "2023-10-31T23:21:19.130Z"
   },
   {
    "duration": 854,
    "start_time": "2023-10-31T23:21:19.134Z"
   },
   {
    "duration": 225,
    "start_time": "2023-10-31T23:21:19.989Z"
   },
   {
    "duration": 228,
    "start_time": "2023-10-31T23:21:20.215Z"
   },
   {
    "duration": 220,
    "start_time": "2023-10-31T23:21:20.445Z"
   },
   {
    "duration": 224,
    "start_time": "2023-10-31T23:21:20.666Z"
   },
   {
    "duration": 153,
    "start_time": "2023-10-31T23:21:20.891Z"
   },
   {
    "duration": 214,
    "start_time": "2023-10-31T23:21:21.045Z"
   },
   {
    "duration": 4427,
    "start_time": "2023-11-01T10:51:19.910Z"
   },
   {
    "duration": 2059,
    "start_time": "2023-11-01T10:51:39.968Z"
   },
   {
    "duration": 1198,
    "start_time": "2023-11-01T10:51:51.637Z"
   },
   {
    "duration": 163,
    "start_time": "2023-11-01T10:51:52.837Z"
   },
   {
    "duration": 12,
    "start_time": "2023-11-01T10:51:53.001Z"
   },
   {
    "duration": 18,
    "start_time": "2023-11-01T10:51:53.014Z"
   },
   {
    "duration": 11,
    "start_time": "2023-11-01T10:51:53.034Z"
   },
   {
    "duration": 34,
    "start_time": "2023-11-01T10:51:53.047Z"
   },
   {
    "duration": 3,
    "start_time": "2023-11-01T10:51:53.083Z"
   },
   {
    "duration": 13,
    "start_time": "2023-11-01T10:51:53.088Z"
   },
   {
    "duration": 11,
    "start_time": "2023-11-01T10:51:53.102Z"
   },
   {
    "duration": 16,
    "start_time": "2023-11-01T10:51:53.115Z"
   },
   {
    "duration": 17,
    "start_time": "2023-11-01T10:51:53.132Z"
   },
   {
    "duration": 5,
    "start_time": "2023-11-01T10:51:53.150Z"
   },
   {
    "duration": 19,
    "start_time": "2023-11-01T10:51:53.157Z"
   },
   {
    "duration": 4,
    "start_time": "2023-11-01T10:51:53.179Z"
   },
   {
    "duration": 9,
    "start_time": "2023-11-01T10:51:53.184Z"
   },
   {
    "duration": 5,
    "start_time": "2023-11-01T10:51:53.194Z"
   },
   {
    "duration": 4,
    "start_time": "2023-11-01T10:51:53.200Z"
   },
   {
    "duration": 138,
    "start_time": "2023-11-01T10:51:53.205Z"
   },
   {
    "duration": 225,
    "start_time": "2023-11-01T10:51:53.345Z"
   },
   {
    "duration": 148,
    "start_time": "2023-11-01T10:51:53.571Z"
   },
   {
    "duration": 32,
    "start_time": "2023-11-01T10:51:53.720Z"
   },
   {
    "duration": 25,
    "start_time": "2023-11-01T10:51:53.754Z"
   },
   {
    "duration": 3,
    "start_time": "2023-11-01T10:51:53.780Z"
   },
   {
    "duration": 1341,
    "start_time": "2023-11-01T10:51:53.784Z"
   },
   {
    "duration": 60866,
    "start_time": "2023-11-01T10:51:55.126Z"
   },
   {
    "duration": 916,
    "start_time": "2023-11-01T10:52:55.993Z"
   },
   {
    "duration": 230,
    "start_time": "2023-11-01T10:52:56.910Z"
   },
   {
    "duration": 247,
    "start_time": "2023-11-01T10:52:57.141Z"
   },
   {
    "duration": 235,
    "start_time": "2023-11-01T10:52:57.389Z"
   },
   {
    "duration": 242,
    "start_time": "2023-11-01T10:52:57.626Z"
   },
   {
    "duration": 153,
    "start_time": "2023-11-01T10:52:57.870Z"
   },
   {
    "duration": 152,
    "start_time": "2023-11-01T10:52:58.024Z"
   },
   {
    "duration": 160,
    "start_time": "2023-11-01T10:56:53.617Z"
   },
   {
    "duration": 1395,
    "start_time": "2023-11-01T10:57:05.921Z"
   },
   {
    "duration": 1156,
    "start_time": "2023-11-01T10:57:19.415Z"
   },
   {
    "duration": 51,
    "start_time": "2023-11-01T10:57:20.573Z"
   },
   {
    "duration": 12,
    "start_time": "2023-11-01T10:57:20.625Z"
   },
   {
    "duration": 14,
    "start_time": "2023-11-01T10:57:20.639Z"
   },
   {
    "duration": 19,
    "start_time": "2023-11-01T10:57:20.654Z"
   },
   {
    "duration": 52,
    "start_time": "2023-11-01T10:57:20.674Z"
   },
   {
    "duration": 4,
    "start_time": "2023-11-01T10:57:20.727Z"
   },
   {
    "duration": 28,
    "start_time": "2023-11-01T10:57:20.733Z"
   },
   {
    "duration": 31,
    "start_time": "2023-11-01T10:57:20.762Z"
   },
   {
    "duration": 27,
    "start_time": "2023-11-01T10:57:20.796Z"
   },
   {
    "duration": 28,
    "start_time": "2023-11-01T10:57:20.824Z"
   },
   {
    "duration": 21,
    "start_time": "2023-11-01T10:57:20.853Z"
   },
   {
    "duration": 33,
    "start_time": "2023-11-01T10:57:20.875Z"
   },
   {
    "duration": 11,
    "start_time": "2023-11-01T10:57:20.910Z"
   },
   {
    "duration": 26,
    "start_time": "2023-11-01T10:57:20.922Z"
   },
   {
    "duration": 32,
    "start_time": "2023-11-01T10:57:20.949Z"
   },
   {
    "duration": 49,
    "start_time": "2023-11-01T10:57:20.982Z"
   },
   {
    "duration": 136,
    "start_time": "2023-11-01T10:57:21.033Z"
   },
   {
    "duration": 148,
    "start_time": "2023-11-01T10:57:21.171Z"
   },
   {
    "duration": 137,
    "start_time": "2023-11-01T10:57:21.321Z"
   },
   {
    "duration": 37,
    "start_time": "2023-11-01T10:57:21.459Z"
   },
   {
    "duration": 45,
    "start_time": "2023-11-01T10:57:21.500Z"
   },
   {
    "duration": 4,
    "start_time": "2023-11-01T10:57:21.547Z"
   },
   {
    "duration": 1497,
    "start_time": "2023-11-01T10:57:21.552Z"
   },
   {
    "duration": 61738,
    "start_time": "2023-11-01T10:57:23.051Z"
   },
   {
    "duration": 900,
    "start_time": "2023-11-01T10:58:24.790Z"
   },
   {
    "duration": 239,
    "start_time": "2023-11-01T10:58:25.691Z"
   },
   {
    "duration": 246,
    "start_time": "2023-11-01T10:58:25.932Z"
   },
   {
    "duration": 251,
    "start_time": "2023-11-01T10:58:26.180Z"
   },
   {
    "duration": 245,
    "start_time": "2023-11-01T10:58:26.433Z"
   },
   {
    "duration": 115,
    "start_time": "2023-11-01T10:58:26.679Z"
   },
   {
    "duration": 0,
    "start_time": "2023-11-01T10:58:26.795Z"
   },
   {
    "duration": 164,
    "start_time": "2023-11-01T10:58:45.358Z"
   },
   {
    "duration": 25,
    "start_time": "2023-11-01T10:58:57.051Z"
   },
   {
    "duration": 151,
    "start_time": "2023-11-01T10:59:09.000Z"
   },
   {
    "duration": 173,
    "start_time": "2023-11-01T11:09:11.564Z"
   },
   {
    "duration": 243,
    "start_time": "2023-11-01T11:11:14.195Z"
   },
   {
    "duration": 179,
    "start_time": "2023-11-01T11:15:29.295Z"
   },
   {
    "duration": 126,
    "start_time": "2023-11-01T11:32:38.211Z"
   },
   {
    "duration": 135,
    "start_time": "2023-11-01T11:34:40.744Z"
   },
   {
    "duration": 130,
    "start_time": "2023-11-01T12:16:49.882Z"
   },
   {
    "duration": 151,
    "start_time": "2023-11-01T12:27:25.818Z"
   },
   {
    "duration": 154,
    "start_time": "2023-11-01T12:28:39.455Z"
   },
   {
    "duration": 144,
    "start_time": "2023-11-01T12:45:48.919Z"
   },
   {
    "duration": 1189,
    "start_time": "2023-11-01T13:19:23.941Z"
   },
   {
    "duration": 50,
    "start_time": "2023-11-01T13:19:25.132Z"
   },
   {
    "duration": 10,
    "start_time": "2023-11-01T13:19:25.183Z"
   },
   {
    "duration": 12,
    "start_time": "2023-11-01T13:19:25.195Z"
   },
   {
    "duration": 2,
    "start_time": "2023-11-01T13:19:25.209Z"
   },
   {
    "duration": 29,
    "start_time": "2023-11-01T13:19:25.212Z"
   },
   {
    "duration": 4,
    "start_time": "2023-11-01T13:19:25.242Z"
   },
   {
    "duration": 14,
    "start_time": "2023-11-01T13:19:25.247Z"
   },
   {
    "duration": 10,
    "start_time": "2023-11-01T13:19:25.263Z"
   },
   {
    "duration": 13,
    "start_time": "2023-11-01T13:19:25.275Z"
   },
   {
    "duration": 10,
    "start_time": "2023-11-01T13:19:25.289Z"
   },
   {
    "duration": 6,
    "start_time": "2023-11-01T13:19:25.300Z"
   },
   {
    "duration": 45,
    "start_time": "2023-11-01T13:19:25.308Z"
   },
   {
    "duration": 5,
    "start_time": "2023-11-01T13:19:25.355Z"
   },
   {
    "duration": 16,
    "start_time": "2023-11-01T13:19:25.362Z"
   },
   {
    "duration": 6,
    "start_time": "2023-11-01T13:19:25.380Z"
   },
   {
    "duration": 30,
    "start_time": "2023-11-01T13:19:25.387Z"
   },
   {
    "duration": 119,
    "start_time": "2023-11-01T13:19:25.418Z"
   },
   {
    "duration": 138,
    "start_time": "2023-11-01T13:19:25.540Z"
   },
   {
    "duration": 128,
    "start_time": "2023-11-01T13:19:25.679Z"
   },
   {
    "duration": 37,
    "start_time": "2023-11-01T13:19:25.808Z"
   },
   {
    "duration": 28,
    "start_time": "2023-11-01T13:19:25.846Z"
   },
   {
    "duration": 3,
    "start_time": "2023-11-01T13:19:25.876Z"
   },
   {
    "duration": 1348,
    "start_time": "2023-11-01T13:19:25.881Z"
   },
   {
    "duration": 64491,
    "start_time": "2023-11-01T13:19:27.231Z"
   },
   {
    "duration": 976,
    "start_time": "2023-11-01T13:20:31.724Z"
   },
   {
    "duration": 252,
    "start_time": "2023-11-01T13:20:32.702Z"
   },
   {
    "duration": 249,
    "start_time": "2023-11-01T13:20:32.957Z"
   },
   {
    "duration": 248,
    "start_time": "2023-11-01T13:20:33.207Z"
   },
   {
    "duration": 250,
    "start_time": "2023-11-01T13:20:33.457Z"
   },
   {
    "duration": 173,
    "start_time": "2023-11-01T13:20:33.709Z"
   },
   {
    "duration": 171,
    "start_time": "2023-11-01T13:20:33.884Z"
   },
   {
    "duration": 196,
    "start_time": "2023-11-01T13:20:34.057Z"
   },
   {
    "duration": 135,
    "start_time": "2023-11-01T13:20:34.255Z"
   },
   {
    "duration": 220,
    "start_time": "2023-11-01T13:20:34.392Z"
   },
   {
    "duration": 169,
    "start_time": "2023-11-01T13:20:34.613Z"
   },
   {
    "duration": 138,
    "start_time": "2023-11-01T13:20:34.783Z"
   },
   {
    "duration": 16,
    "start_time": "2023-11-01T14:45:51.573Z"
   },
   {
    "duration": 17,
    "start_time": "2023-11-01T14:46:04.100Z"
   },
   {
    "duration": 16,
    "start_time": "2023-11-01T14:46:45.201Z"
   },
   {
    "duration": 18,
    "start_time": "2023-11-01T14:48:28.504Z"
   },
   {
    "duration": 27,
    "start_time": "2023-11-01T14:49:47.083Z"
   },
   {
    "duration": 17,
    "start_time": "2023-11-01T14:49:52.667Z"
   },
   {
    "duration": 18,
    "start_time": "2023-11-01T14:50:07.250Z"
   },
   {
    "duration": 27,
    "start_time": "2023-11-01T14:50:12.123Z"
   },
   {
    "duration": 27,
    "start_time": "2023-11-01T14:50:55.747Z"
   },
   {
    "duration": 16,
    "start_time": "2023-11-01T14:51:08.753Z"
   },
   {
    "duration": 19,
    "start_time": "2023-11-01T14:53:05.673Z"
   },
   {
    "duration": 26,
    "start_time": "2023-11-01T14:53:12.808Z"
   },
   {
    "duration": 17,
    "start_time": "2023-11-01T14:53:27.079Z"
   },
   {
    "duration": 31,
    "start_time": "2023-11-01T14:53:30.623Z"
   },
   {
    "duration": 9,
    "start_time": "2023-11-01T15:00:00.973Z"
   },
   {
    "duration": 120,
    "start_time": "2023-11-01T15:13:17.863Z"
   },
   {
    "duration": 9,
    "start_time": "2023-11-01T15:14:30.367Z"
   },
   {
    "duration": 3,
    "start_time": "2023-11-01T15:28:33.809Z"
   },
   {
    "duration": 4,
    "start_time": "2023-11-01T15:30:49.150Z"
   },
   {
    "duration": 8,
    "start_time": "2023-11-01T15:32:31.520Z"
   },
   {
    "duration": 8,
    "start_time": "2023-11-01T15:32:33.028Z"
   },
   {
    "duration": 4,
    "start_time": "2023-11-01T15:33:10.987Z"
   },
   {
    "duration": 9,
    "start_time": "2023-11-01T15:42:39.826Z"
   },
   {
    "duration": 10,
    "start_time": "2023-11-01T15:43:10.245Z"
   },
   {
    "duration": 11,
    "start_time": "2023-11-01T15:43:24.597Z"
   },
   {
    "duration": 10,
    "start_time": "2023-11-01T15:43:35.109Z"
   },
   {
    "duration": 9,
    "start_time": "2023-11-01T15:44:18.055Z"
   },
   {
    "duration": 9,
    "start_time": "2023-11-01T15:44:23.474Z"
   },
   {
    "duration": 8,
    "start_time": "2023-11-01T15:44:53.190Z"
   },
   {
    "duration": 12,
    "start_time": "2023-11-01T15:45:54.526Z"
   },
   {
    "duration": 13,
    "start_time": "2023-11-01T15:49:24.896Z"
   },
   {
    "duration": 12,
    "start_time": "2023-11-01T15:55:55.615Z"
   },
   {
    "duration": 11,
    "start_time": "2023-11-01T16:00:04.911Z"
   },
   {
    "duration": 11,
    "start_time": "2023-11-01T16:00:15.722Z"
   },
   {
    "duration": 12,
    "start_time": "2023-11-01T16:04:24.057Z"
   },
   {
    "duration": 12,
    "start_time": "2023-11-01T16:04:48.674Z"
   },
   {
    "duration": 12,
    "start_time": "2023-11-01T16:05:03.847Z"
   },
   {
    "duration": 3,
    "start_time": "2023-11-01T16:08:13.816Z"
   },
   {
    "duration": 3,
    "start_time": "2023-11-01T16:08:28.457Z"
   },
   {
    "duration": 12,
    "start_time": "2023-11-01T16:13:09.899Z"
   },
   {
    "duration": 12,
    "start_time": "2023-11-01T16:15:33.139Z"
   },
   {
    "duration": 11,
    "start_time": "2023-11-01T16:20:43.748Z"
   },
   {
    "duration": 15,
    "start_time": "2023-11-01T16:21:02.580Z"
   },
   {
    "duration": 3,
    "start_time": "2023-11-01T16:21:12.027Z"
   },
   {
    "duration": 3,
    "start_time": "2023-11-01T16:21:17.663Z"
   },
   {
    "duration": 11,
    "start_time": "2023-11-01T16:21:42.744Z"
   },
   {
    "duration": 12,
    "start_time": "2023-11-01T16:31:18.543Z"
   },
   {
    "duration": 44,
    "start_time": "2023-11-01T16:32:39.885Z"
   },
   {
    "duration": 16,
    "start_time": "2023-11-01T16:32:52.371Z"
   },
   {
    "duration": 12,
    "start_time": "2023-11-01T16:34:45.688Z"
   },
   {
    "duration": 11,
    "start_time": "2023-11-01T16:47:18.247Z"
   },
   {
    "duration": 12,
    "start_time": "2023-11-01T16:50:27.869Z"
   },
   {
    "duration": 40,
    "start_time": "2023-11-01T17:21:01.470Z"
   },
   {
    "duration": 22,
    "start_time": "2023-11-01T17:23:44.431Z"
   },
   {
    "duration": 29,
    "start_time": "2023-11-01T17:31:32.583Z"
   },
   {
    "duration": 1170,
    "start_time": "2023-11-01T17:37:53.656Z"
   },
   {
    "duration": 52,
    "start_time": "2023-11-01T17:37:54.828Z"
   },
   {
    "duration": 11,
    "start_time": "2023-11-01T17:37:54.882Z"
   },
   {
    "duration": 8,
    "start_time": "2023-11-01T17:37:54.895Z"
   },
   {
    "duration": 3,
    "start_time": "2023-11-01T17:37:54.904Z"
   },
   {
    "duration": 33,
    "start_time": "2023-11-01T17:37:54.909Z"
   },
   {
    "duration": 5,
    "start_time": "2023-11-01T17:37:54.943Z"
   },
   {
    "duration": 14,
    "start_time": "2023-11-01T17:37:54.949Z"
   },
   {
    "duration": 10,
    "start_time": "2023-11-01T17:37:54.964Z"
   },
   {
    "duration": 10,
    "start_time": "2023-11-01T17:37:54.977Z"
   },
   {
    "duration": 7,
    "start_time": "2023-11-01T17:37:54.988Z"
   },
   {
    "duration": 42,
    "start_time": "2023-11-01T17:37:54.997Z"
   },
   {
    "duration": 18,
    "start_time": "2023-11-01T17:37:55.041Z"
   },
   {
    "duration": 5,
    "start_time": "2023-11-01T17:37:55.061Z"
   },
   {
    "duration": 16,
    "start_time": "2023-11-01T17:37:55.067Z"
   },
   {
    "duration": 4,
    "start_time": "2023-11-01T17:37:55.084Z"
   },
   {
    "duration": 5,
    "start_time": "2023-11-01T17:37:55.089Z"
   },
   {
    "duration": 152,
    "start_time": "2023-11-01T17:37:55.095Z"
   },
   {
    "duration": 126,
    "start_time": "2023-11-01T17:37:55.249Z"
   },
   {
    "duration": 129,
    "start_time": "2023-11-01T17:37:55.376Z"
   },
   {
    "duration": 33,
    "start_time": "2023-11-01T17:37:55.507Z"
   },
   {
    "duration": 28,
    "start_time": "2023-11-01T17:37:55.542Z"
   },
   {
    "duration": 4,
    "start_time": "2023-11-01T17:37:55.571Z"
   },
   {
    "duration": 1421,
    "start_time": "2023-11-01T17:37:55.576Z"
   },
   {
    "duration": 60814,
    "start_time": "2023-11-01T17:37:56.999Z"
   },
   {
    "duration": 874,
    "start_time": "2023-11-01T17:38:57.815Z"
   },
   {
    "duration": 217,
    "start_time": "2023-11-01T17:38:58.690Z"
   },
   {
    "duration": 236,
    "start_time": "2023-11-01T17:38:58.911Z"
   },
   {
    "duration": 238,
    "start_time": "2023-11-01T17:38:59.148Z"
   },
   {
    "duration": 235,
    "start_time": "2023-11-01T17:38:59.387Z"
   },
   {
    "duration": 191,
    "start_time": "2023-11-01T17:38:59.624Z"
   },
   {
    "duration": 159,
    "start_time": "2023-11-01T17:38:59.817Z"
   },
   {
    "duration": 186,
    "start_time": "2023-11-01T17:38:59.977Z"
   },
   {
    "duration": 222,
    "start_time": "2023-11-01T17:39:00.166Z"
   },
   {
    "duration": 134,
    "start_time": "2023-11-01T17:39:00.389Z"
   },
   {
    "duration": 159,
    "start_time": "2023-11-01T17:39:00.525Z"
   },
   {
    "duration": 151,
    "start_time": "2023-11-01T17:39:00.686Z"
   },
   {
    "duration": 10,
    "start_time": "2023-11-01T17:39:00.840Z"
   },
   {
    "duration": 43,
    "start_time": "2023-11-01T17:39:00.852Z"
   },
   {
    "duration": 54,
    "start_time": "2023-11-01T17:39:00.896Z"
   },
   {
    "duration": 58,
    "start_time": "2023-11-01T17:39:00.951Z"
   },
   {
    "duration": 58,
    "start_time": "2023-11-01T17:39:01.010Z"
   },
   {
    "duration": 51,
    "start_time": "2023-11-01T17:39:01.070Z"
   },
   {
    "duration": 39,
    "start_time": "2023-11-01T17:39:01.122Z"
   },
   {
    "duration": 36,
    "start_time": "2023-11-01T17:39:01.162Z"
   },
   {
    "duration": 55,
    "start_time": "2023-11-01T17:39:01.200Z"
   },
   {
    "duration": 53,
    "start_time": "2023-11-01T17:39:01.257Z"
   },
   {
    "duration": 72,
    "start_time": "2023-11-01T17:39:01.312Z"
   },
   {
    "duration": 76,
    "start_time": "2023-11-01T17:39:01.386Z"
   },
   {
    "duration": 65,
    "start_time": "2023-11-01T17:39:01.463Z"
   },
   {
    "duration": 37,
    "start_time": "2023-11-01T17:39:01.530Z"
   },
   {
    "duration": 37,
    "start_time": "2023-11-01T17:39:01.569Z"
   },
   {
    "duration": 38,
    "start_time": "2023-11-01T17:39:01.607Z"
   },
   {
    "duration": 34,
    "start_time": "2023-11-01T17:39:01.647Z"
   },
   {
    "duration": 49,
    "start_time": "2023-11-01T17:39:01.684Z"
   },
   {
    "duration": 13,
    "start_time": "2023-11-01T17:39:01.735Z"
   },
   {
    "duration": 23,
    "start_time": "2023-11-01T17:39:01.749Z"
   },
   {
    "duration": 35,
    "start_time": "2023-11-01T17:39:01.773Z"
   },
   {
    "duration": 50,
    "start_time": "2023-11-01T17:39:01.809Z"
   },
   {
    "duration": 24,
    "start_time": "2023-11-01T17:39:01.861Z"
   },
   {
    "duration": 22,
    "start_time": "2023-11-01T17:39:01.886Z"
   },
   {
    "duration": 3,
    "start_time": "2023-11-01T18:17:15.250Z"
   },
   {
    "duration": 9,
    "start_time": "2023-11-01T18:20:22.826Z"
   },
   {
    "duration": 5,
    "start_time": "2023-11-01T18:22:12.418Z"
   },
   {
    "duration": 26,
    "start_time": "2023-11-01T18:22:21.635Z"
   },
   {
    "duration": 14,
    "start_time": "2023-11-01T18:22:31.890Z"
   },
   {
    "duration": 123,
    "start_time": "2023-11-01T18:24:25.193Z"
   },
   {
    "duration": 21,
    "start_time": "2023-11-01T18:24:35.833Z"
   },
   {
    "duration": 15,
    "start_time": "2023-11-01T18:24:47.482Z"
   },
   {
    "duration": 21,
    "start_time": "2023-11-01T18:26:34.511Z"
   },
   {
    "duration": 15,
    "start_time": "2023-11-01T18:27:07.812Z"
   },
   {
    "duration": 7,
    "start_time": "2023-11-01T18:28:39.319Z"
   },
   {
    "duration": 8,
    "start_time": "2023-11-01T18:56:36.088Z"
   },
   {
    "duration": 9,
    "start_time": "2023-11-01T19:26:15.421Z"
   },
   {
    "duration": 1147,
    "start_time": "2023-11-01T20:32:23.071Z"
   },
   {
    "duration": 50,
    "start_time": "2023-11-01T20:32:24.220Z"
   },
   {
    "duration": 11,
    "start_time": "2023-11-01T20:32:24.272Z"
   },
   {
    "duration": 24,
    "start_time": "2023-11-01T20:32:24.285Z"
   },
   {
    "duration": 14,
    "start_time": "2023-11-01T20:32:24.310Z"
   },
   {
    "duration": 29,
    "start_time": "2023-11-01T20:32:24.325Z"
   },
   {
    "duration": 4,
    "start_time": "2023-11-01T20:32:24.355Z"
   },
   {
    "duration": 26,
    "start_time": "2023-11-01T20:32:24.360Z"
   },
   {
    "duration": 10,
    "start_time": "2023-11-01T20:32:24.387Z"
   },
   {
    "duration": 18,
    "start_time": "2023-11-01T20:32:24.399Z"
   },
   {
    "duration": 13,
    "start_time": "2023-11-01T20:32:24.418Z"
   },
   {
    "duration": 8,
    "start_time": "2023-11-01T20:32:24.432Z"
   },
   {
    "duration": 18,
    "start_time": "2023-11-01T20:32:24.441Z"
   },
   {
    "duration": 4,
    "start_time": "2023-11-01T20:32:24.460Z"
   },
   {
    "duration": 15,
    "start_time": "2023-11-01T20:32:24.466Z"
   },
   {
    "duration": 6,
    "start_time": "2023-11-01T20:32:24.482Z"
   },
   {
    "duration": 7,
    "start_time": "2023-11-01T20:32:24.490Z"
   },
   {
    "duration": 123,
    "start_time": "2023-11-01T20:32:24.498Z"
   },
   {
    "duration": 122,
    "start_time": "2023-11-01T20:32:24.623Z"
   },
   {
    "duration": 125,
    "start_time": "2023-11-01T20:32:24.746Z"
   },
   {
    "duration": 22,
    "start_time": "2023-11-01T20:32:24.873Z"
   },
   {
    "duration": 25,
    "start_time": "2023-11-01T20:32:24.897Z"
   },
   {
    "duration": 4,
    "start_time": "2023-11-01T20:32:24.939Z"
   },
   {
    "duration": 1293,
    "start_time": "2023-11-01T20:32:24.944Z"
   },
   {
    "duration": 59759,
    "start_time": "2023-11-01T20:32:26.239Z"
   },
   {
    "duration": 4,
    "start_time": "2023-11-01T20:33:25.999Z"
   },
   {
    "duration": 228,
    "start_time": "2023-11-01T20:33:26.004Z"
   },
   {
    "duration": 242,
    "start_time": "2023-11-01T20:33:26.235Z"
   },
   {
    "duration": 297,
    "start_time": "2023-11-01T20:33:26.478Z"
   },
   {
    "duration": 222,
    "start_time": "2023-11-01T20:33:26.776Z"
   },
   {
    "duration": 160,
    "start_time": "2023-11-01T20:33:26.999Z"
   },
   {
    "duration": 146,
    "start_time": "2023-11-01T20:33:27.161Z"
   },
   {
    "duration": 173,
    "start_time": "2023-11-01T20:33:27.309Z"
   },
   {
    "duration": 139,
    "start_time": "2023-11-01T20:33:27.484Z"
   },
   {
    "duration": 133,
    "start_time": "2023-11-01T20:33:27.625Z"
   },
   {
    "duration": 157,
    "start_time": "2023-11-01T20:33:27.760Z"
   },
   {
    "duration": 129,
    "start_time": "2023-11-01T20:33:27.919Z"
   },
   {
    "duration": 8,
    "start_time": "2023-11-01T20:33:28.050Z"
   },
   {
    "duration": 8,
    "start_time": "2023-11-01T20:33:28.059Z"
   },
   {
    "duration": 2,
    "start_time": "2023-11-01T20:33:28.069Z"
   },
   {
    "duration": 20,
    "start_time": "2023-11-01T20:33:28.072Z"
   },
   {
    "duration": 13,
    "start_time": "2023-11-01T20:33:28.093Z"
   },
   {
    "duration": 48,
    "start_time": "2023-11-01T20:33:28.108Z"
   },
   {
    "duration": 11,
    "start_time": "2023-11-01T20:33:28.158Z"
   },
   {
    "duration": 22,
    "start_time": "2023-11-01T20:33:28.171Z"
   },
   {
    "duration": 11,
    "start_time": "2023-11-01T20:33:28.194Z"
   },
   {
    "duration": 37,
    "start_time": "2023-11-01T20:33:28.206Z"
   },
   {
    "duration": 11,
    "start_time": "2023-11-01T20:33:28.245Z"
   },
   {
    "duration": 19,
    "start_time": "2023-11-01T20:33:28.258Z"
   },
   {
    "duration": 12,
    "start_time": "2023-11-01T20:33:28.278Z"
   },
   {
    "duration": 51,
    "start_time": "2023-11-01T20:33:28.292Z"
   },
   {
    "duration": 10,
    "start_time": "2023-11-01T20:33:28.345Z"
   },
   {
    "duration": 22,
    "start_time": "2023-11-01T20:33:28.356Z"
   },
   {
    "duration": 9,
    "start_time": "2023-11-01T20:33:28.379Z"
   },
   {
    "duration": 18,
    "start_time": "2023-11-01T20:33:28.389Z"
   },
   {
    "duration": 34,
    "start_time": "2023-11-01T20:33:28.408Z"
   },
   {
    "duration": 19,
    "start_time": "2023-11-01T20:33:28.443Z"
   },
   {
    "duration": 10,
    "start_time": "2023-11-01T20:33:28.463Z"
   },
   {
    "duration": 20,
    "start_time": "2023-11-01T20:33:28.474Z"
   },
   {
    "duration": 10,
    "start_time": "2023-11-01T20:33:28.495Z"
   },
   {
    "duration": 47,
    "start_time": "2023-11-01T20:33:28.507Z"
   },
   {
    "duration": 2,
    "start_time": "2023-11-01T20:33:28.555Z"
   },
   {
    "duration": 7,
    "start_time": "2023-11-01T20:33:28.559Z"
   },
   {
    "duration": 12,
    "start_time": "2023-11-01T20:33:28.567Z"
   },
   {
    "duration": 6,
    "start_time": "2023-11-01T20:33:28.580Z"
   },
   {
    "duration": 5,
    "start_time": "2023-11-01T20:33:28.588Z"
   },
   {
    "duration": 1573,
    "start_time": "2023-11-01T21:15:54.332Z"
   },
   {
    "duration": 173,
    "start_time": "2023-11-01T21:15:55.907Z"
   },
   {
    "duration": 11,
    "start_time": "2023-11-01T21:15:56.081Z"
   },
   {
    "duration": 14,
    "start_time": "2023-11-01T21:15:56.094Z"
   },
   {
    "duration": 7,
    "start_time": "2023-11-01T21:15:56.109Z"
   },
   {
    "duration": 45,
    "start_time": "2023-11-01T21:15:56.117Z"
   },
   {
    "duration": 4,
    "start_time": "2023-11-01T21:15:56.164Z"
   },
   {
    "duration": 29,
    "start_time": "2023-11-01T21:15:56.169Z"
   },
   {
    "duration": 18,
    "start_time": "2023-11-01T21:15:56.200Z"
   },
   {
    "duration": 23,
    "start_time": "2023-11-01T21:15:56.220Z"
   },
   {
    "duration": 30,
    "start_time": "2023-11-01T21:15:56.247Z"
   },
   {
    "duration": 14,
    "start_time": "2023-11-01T21:15:56.278Z"
   },
   {
    "duration": 25,
    "start_time": "2023-11-01T21:15:56.294Z"
   },
   {
    "duration": 6,
    "start_time": "2023-11-01T21:15:56.321Z"
   },
   {
    "duration": 26,
    "start_time": "2023-11-01T21:15:56.329Z"
   },
   {
    "duration": 13,
    "start_time": "2023-11-01T21:15:56.357Z"
   },
   {
    "duration": 53,
    "start_time": "2023-11-01T21:15:56.372Z"
   },
   {
    "duration": 174,
    "start_time": "2023-11-01T21:15:56.427Z"
   },
   {
    "duration": 151,
    "start_time": "2023-11-01T21:15:56.603Z"
   },
   {
    "duration": 138,
    "start_time": "2023-11-01T21:15:56.756Z"
   },
   {
    "duration": 26,
    "start_time": "2023-11-01T21:15:56.895Z"
   },
   {
    "duration": 48,
    "start_time": "2023-11-01T21:15:56.923Z"
   },
   {
    "duration": 3,
    "start_time": "2023-11-01T21:15:56.973Z"
   },
   {
    "duration": 1778,
    "start_time": "2023-11-01T21:15:56.978Z"
   },
   {
    "duration": 69189,
    "start_time": "2023-11-01T21:15:58.759Z"
   },
   {
    "duration": 7,
    "start_time": "2023-11-01T21:17:07.950Z"
   },
   {
    "duration": 275,
    "start_time": "2023-11-01T21:17:07.959Z"
   },
   {
    "duration": 297,
    "start_time": "2023-11-01T21:17:08.238Z"
   },
   {
    "duration": 363,
    "start_time": "2023-11-01T21:17:08.537Z"
   },
   {
    "duration": 277,
    "start_time": "2023-11-01T21:17:08.903Z"
   },
   {
    "duration": 189,
    "start_time": "2023-11-01T21:17:09.181Z"
   },
   {
    "duration": 181,
    "start_time": "2023-11-01T21:17:09.372Z"
   },
   {
    "duration": 220,
    "start_time": "2023-11-01T21:17:09.559Z"
   },
   {
    "duration": 151,
    "start_time": "2023-11-01T21:17:09.781Z"
   },
   {
    "duration": 162,
    "start_time": "2023-11-01T21:17:09.933Z"
   },
   {
    "duration": 180,
    "start_time": "2023-11-01T21:17:10.097Z"
   },
   {
    "duration": 152,
    "start_time": "2023-11-01T21:17:10.279Z"
   },
   {
    "duration": 24,
    "start_time": "2023-11-01T21:17:10.433Z"
   },
   {
    "duration": 33,
    "start_time": "2023-11-01T21:17:10.459Z"
   },
   {
    "duration": 48,
    "start_time": "2023-11-01T21:17:10.494Z"
   },
   {
    "duration": 40,
    "start_time": "2023-11-01T21:17:10.543Z"
   },
   {
    "duration": 180,
    "start_time": "2023-11-01T21:17:10.585Z"
   },
   {
    "duration": 21,
    "start_time": "2023-11-01T21:17:10.767Z"
   },
   {
    "duration": 21,
    "start_time": "2023-11-01T21:17:10.789Z"
   },
   {
    "duration": 34,
    "start_time": "2023-11-01T21:17:10.812Z"
   },
   {
    "duration": 20,
    "start_time": "2023-11-01T21:17:10.848Z"
   },
   {
    "duration": 28,
    "start_time": "2023-11-01T21:17:10.870Z"
   },
   {
    "duration": 21,
    "start_time": "2023-11-01T21:17:10.900Z"
   },
   {
    "duration": 41,
    "start_time": "2023-11-01T21:17:10.923Z"
   },
   {
    "duration": 19,
    "start_time": "2023-11-01T21:17:10.966Z"
   },
   {
    "duration": 26,
    "start_time": "2023-11-01T21:17:10.986Z"
   },
   {
    "duration": 46,
    "start_time": "2023-11-01T21:17:11.014Z"
   },
   {
    "duration": 25,
    "start_time": "2023-11-01T21:17:11.062Z"
   },
   {
    "duration": 14,
    "start_time": "2023-11-01T21:17:11.089Z"
   },
   {
    "duration": 47,
    "start_time": "2023-11-01T21:17:11.104Z"
   },
   {
    "duration": 12,
    "start_time": "2023-11-01T21:17:11.158Z"
   },
   {
    "duration": 24,
    "start_time": "2023-11-01T21:17:11.172Z"
   },
   {
    "duration": 15,
    "start_time": "2023-11-01T21:17:11.197Z"
   },
   {
    "duration": 49,
    "start_time": "2023-11-01T21:17:11.214Z"
   },
   {
    "duration": 14,
    "start_time": "2023-11-01T21:17:11.265Z"
   },
   {
    "duration": 33,
    "start_time": "2023-11-01T21:17:11.281Z"
   },
   {
    "duration": 17,
    "start_time": "2023-11-01T21:17:11.316Z"
   },
   {
    "duration": 11,
    "start_time": "2023-11-01T21:17:11.334Z"
   },
   {
    "duration": 22,
    "start_time": "2023-11-01T21:17:11.347Z"
   },
   {
    "duration": 7,
    "start_time": "2023-11-01T21:17:11.370Z"
   },
   {
    "duration": 7,
    "start_time": "2023-11-01T21:17:11.379Z"
   },
   {
    "duration": 1510,
    "start_time": "2023-11-02T09:14:10.129Z"
   },
   {
    "duration": 173,
    "start_time": "2023-11-02T09:14:11.641Z"
   },
   {
    "duration": 13,
    "start_time": "2023-11-02T09:14:11.815Z"
   },
   {
    "duration": 100,
    "start_time": "2023-11-02T09:14:11.830Z"
   },
   {
    "duration": 24,
    "start_time": "2023-11-02T09:14:11.931Z"
   },
   {
    "duration": 42,
    "start_time": "2023-11-02T09:14:11.958Z"
   },
   {
    "duration": 5,
    "start_time": "2023-11-02T09:14:12.001Z"
   },
   {
    "duration": 23,
    "start_time": "2023-11-02T09:14:12.007Z"
   },
   {
    "duration": 11,
    "start_time": "2023-11-02T09:14:12.031Z"
   },
   {
    "duration": 43,
    "start_time": "2023-11-02T09:14:12.044Z"
   },
   {
    "duration": 46,
    "start_time": "2023-11-02T09:14:12.088Z"
   },
   {
    "duration": 20,
    "start_time": "2023-11-02T09:14:12.136Z"
   },
   {
    "duration": 34,
    "start_time": "2023-11-02T09:14:12.157Z"
   },
   {
    "duration": 5,
    "start_time": "2023-11-02T09:14:12.192Z"
   },
   {
    "duration": 23,
    "start_time": "2023-11-02T09:14:12.198Z"
   },
   {
    "duration": 8,
    "start_time": "2023-11-02T09:14:12.223Z"
   },
   {
    "duration": 6,
    "start_time": "2023-11-02T09:14:12.232Z"
   },
   {
    "duration": 146,
    "start_time": "2023-11-02T09:14:12.239Z"
   },
   {
    "duration": 146,
    "start_time": "2023-11-02T09:14:12.387Z"
   },
   {
    "duration": 139,
    "start_time": "2023-11-02T09:14:12.534Z"
   },
   {
    "duration": 27,
    "start_time": "2023-11-02T09:14:12.674Z"
   },
   {
    "duration": 42,
    "start_time": "2023-11-02T09:14:12.703Z"
   },
   {
    "duration": 3,
    "start_time": "2023-11-02T09:14:12.747Z"
   },
   {
    "duration": 1666,
    "start_time": "2023-11-02T09:14:12.752Z"
   },
   {
    "duration": 69399,
    "start_time": "2023-11-02T09:14:14.420Z"
   },
   {
    "duration": 5,
    "start_time": "2023-11-02T09:15:23.823Z"
   },
   {
    "duration": 261,
    "start_time": "2023-11-02T09:15:23.829Z"
   },
   {
    "duration": 264,
    "start_time": "2023-11-02T09:15:24.094Z"
   },
   {
    "duration": 322,
    "start_time": "2023-11-02T09:15:24.359Z"
   },
   {
    "duration": 264,
    "start_time": "2023-11-02T09:15:24.683Z"
   },
   {
    "duration": 175,
    "start_time": "2023-11-02T09:15:24.949Z"
   },
   {
    "duration": 163,
    "start_time": "2023-11-02T09:15:25.125Z"
   },
   {
    "duration": 201,
    "start_time": "2023-11-02T09:15:25.289Z"
   },
   {
    "duration": 151,
    "start_time": "2023-11-02T09:15:25.492Z"
   },
   {
    "duration": 175,
    "start_time": "2023-11-02T09:15:25.646Z"
   },
   {
    "duration": 208,
    "start_time": "2023-11-02T09:15:25.824Z"
   },
   {
    "duration": 138,
    "start_time": "2023-11-02T09:15:26.034Z"
   },
   {
    "duration": 9,
    "start_time": "2023-11-02T09:15:26.174Z"
   },
   {
    "duration": 14,
    "start_time": "2023-11-02T09:15:26.185Z"
   },
   {
    "duration": 22,
    "start_time": "2023-11-02T09:15:26.201Z"
   },
   {
    "duration": 39,
    "start_time": "2023-11-02T09:15:26.225Z"
   },
   {
    "duration": 38,
    "start_time": "2023-11-02T09:15:26.266Z"
   },
   {
    "duration": 46,
    "start_time": "2023-11-02T09:15:26.305Z"
   },
   {
    "duration": 27,
    "start_time": "2023-11-02T09:15:26.353Z"
   },
   {
    "duration": 35,
    "start_time": "2023-11-02T09:15:26.382Z"
   },
   {
    "duration": 25,
    "start_time": "2023-11-02T09:15:26.419Z"
   },
   {
    "duration": 24,
    "start_time": "2023-11-02T09:15:26.445Z"
   },
   {
    "duration": 50,
    "start_time": "2023-11-02T09:15:26.471Z"
   },
   {
    "duration": 29,
    "start_time": "2023-11-02T09:15:26.523Z"
   },
   {
    "duration": 53,
    "start_time": "2023-11-02T09:15:26.554Z"
   },
   {
    "duration": 31,
    "start_time": "2023-11-02T09:15:26.609Z"
   },
   {
    "duration": 18,
    "start_time": "2023-11-02T09:15:26.642Z"
   },
   {
    "duration": 29,
    "start_time": "2023-11-02T09:15:26.662Z"
   },
   {
    "duration": 13,
    "start_time": "2023-11-02T09:15:26.693Z"
   },
   {
    "duration": 50,
    "start_time": "2023-11-02T09:15:26.707Z"
   },
   {
    "duration": 11,
    "start_time": "2023-11-02T09:15:26.758Z"
   },
   {
    "duration": 26,
    "start_time": "2023-11-02T09:15:26.771Z"
   },
   {
    "duration": 30,
    "start_time": "2023-11-02T09:15:26.799Z"
   },
   {
    "duration": 31,
    "start_time": "2023-11-02T09:15:26.831Z"
   },
   {
    "duration": 15,
    "start_time": "2023-11-02T09:15:26.864Z"
   },
   {
    "duration": 26,
    "start_time": "2023-11-02T09:15:26.881Z"
   },
   {
    "duration": 4,
    "start_time": "2023-11-02T09:15:26.923Z"
   },
   {
    "duration": 13,
    "start_time": "2023-11-02T09:15:26.928Z"
   },
   {
    "duration": 28,
    "start_time": "2023-11-02T09:15:26.942Z"
   },
   {
    "duration": 9,
    "start_time": "2023-11-02T09:15:26.971Z"
   },
   {
    "duration": 14,
    "start_time": "2023-11-02T09:15:26.982Z"
   },
   {
    "duration": 122,
    "start_time": "2023-11-02T10:54:38.002Z"
   },
   {
    "duration": 249,
    "start_time": "2023-11-02T10:54:47.680Z"
   },
   {
    "duration": 53,
    "start_time": "2023-11-02T12:18:50.891Z"
   },
   {
    "duration": 1648,
    "start_time": "2023-11-02T12:19:03.930Z"
   },
   {
    "duration": 372,
    "start_time": "2023-11-02T12:19:05.580Z"
   },
   {
    "duration": 15,
    "start_time": "2023-11-02T12:19:05.953Z"
   },
   {
    "duration": 90,
    "start_time": "2023-11-02T12:19:05.970Z"
   },
   {
    "duration": 40,
    "start_time": "2023-11-02T12:19:06.062Z"
   },
   {
    "duration": 64,
    "start_time": "2023-11-02T12:19:06.104Z"
   },
   {
    "duration": 12,
    "start_time": "2023-11-02T12:19:06.170Z"
   },
   {
    "duration": 47,
    "start_time": "2023-11-02T12:19:06.184Z"
   },
   {
    "duration": 40,
    "start_time": "2023-11-02T12:19:06.232Z"
   },
   {
    "duration": 38,
    "start_time": "2023-11-02T12:19:06.274Z"
   },
   {
    "duration": 25,
    "start_time": "2023-11-02T12:19:06.314Z"
   },
   {
    "duration": 29,
    "start_time": "2023-11-02T12:19:06.340Z"
   },
   {
    "duration": 93,
    "start_time": "2023-11-02T12:19:06.370Z"
   },
   {
    "duration": 0,
    "start_time": "2023-11-02T12:19:06.466Z"
   },
   {
    "duration": 0,
    "start_time": "2023-11-02T12:19:06.468Z"
   },
   {
    "duration": 0,
    "start_time": "2023-11-02T12:19:06.469Z"
   },
   {
    "duration": 0,
    "start_time": "2023-11-02T12:19:06.470Z"
   },
   {
    "duration": 0,
    "start_time": "2023-11-02T12:19:06.471Z"
   },
   {
    "duration": 0,
    "start_time": "2023-11-02T12:19:06.472Z"
   },
   {
    "duration": 0,
    "start_time": "2023-11-02T12:19:06.473Z"
   },
   {
    "duration": 0,
    "start_time": "2023-11-02T12:19:06.475Z"
   },
   {
    "duration": 0,
    "start_time": "2023-11-02T12:19:06.476Z"
   },
   {
    "duration": 0,
    "start_time": "2023-11-02T12:19:06.477Z"
   },
   {
    "duration": 0,
    "start_time": "2023-11-02T12:19:06.479Z"
   },
   {
    "duration": 0,
    "start_time": "2023-11-02T12:19:06.481Z"
   },
   {
    "duration": 0,
    "start_time": "2023-11-02T12:19:06.482Z"
   },
   {
    "duration": 0,
    "start_time": "2023-11-02T12:19:06.483Z"
   },
   {
    "duration": 0,
    "start_time": "2023-11-02T12:19:06.484Z"
   },
   {
    "duration": 0,
    "start_time": "2023-11-02T12:19:06.485Z"
   },
   {
    "duration": 0,
    "start_time": "2023-11-02T12:19:06.486Z"
   },
   {
    "duration": 0,
    "start_time": "2023-11-02T12:19:06.487Z"
   },
   {
    "duration": 0,
    "start_time": "2023-11-02T12:19:06.488Z"
   },
   {
    "duration": 0,
    "start_time": "2023-11-02T12:19:06.489Z"
   },
   {
    "duration": 0,
    "start_time": "2023-11-02T12:19:06.491Z"
   },
   {
    "duration": 0,
    "start_time": "2023-11-02T12:19:06.492Z"
   },
   {
    "duration": 0,
    "start_time": "2023-11-02T12:19:06.493Z"
   },
   {
    "duration": 0,
    "start_time": "2023-11-02T12:19:06.495Z"
   },
   {
    "duration": 0,
    "start_time": "2023-11-02T12:19:06.496Z"
   },
   {
    "duration": 0,
    "start_time": "2023-11-02T12:19:06.497Z"
   },
   {
    "duration": 0,
    "start_time": "2023-11-02T12:19:06.498Z"
   },
   {
    "duration": 0,
    "start_time": "2023-11-02T12:19:06.499Z"
   },
   {
    "duration": 0,
    "start_time": "2023-11-02T12:19:06.500Z"
   },
   {
    "duration": 0,
    "start_time": "2023-11-02T12:19:06.501Z"
   },
   {
    "duration": 0,
    "start_time": "2023-11-02T12:19:06.502Z"
   },
   {
    "duration": 0,
    "start_time": "2023-11-02T12:19:06.502Z"
   },
   {
    "duration": 0,
    "start_time": "2023-11-02T12:19:06.503Z"
   },
   {
    "duration": 0,
    "start_time": "2023-11-02T12:19:06.503Z"
   },
   {
    "duration": 0,
    "start_time": "2023-11-02T12:19:06.548Z"
   },
   {
    "duration": 1,
    "start_time": "2023-11-02T12:19:06.548Z"
   },
   {
    "duration": 0,
    "start_time": "2023-11-02T12:19:06.550Z"
   },
   {
    "duration": 0,
    "start_time": "2023-11-02T12:19:06.551Z"
   },
   {
    "duration": 0,
    "start_time": "2023-11-02T12:19:06.552Z"
   },
   {
    "duration": 0,
    "start_time": "2023-11-02T12:19:06.553Z"
   },
   {
    "duration": 0,
    "start_time": "2023-11-02T12:19:06.554Z"
   },
   {
    "duration": 0,
    "start_time": "2023-11-02T12:19:06.555Z"
   },
   {
    "duration": 0,
    "start_time": "2023-11-02T12:19:06.556Z"
   },
   {
    "duration": 0,
    "start_time": "2023-11-02T12:19:06.557Z"
   },
   {
    "duration": 0,
    "start_time": "2023-11-02T12:19:06.558Z"
   },
   {
    "duration": 0,
    "start_time": "2023-11-02T12:19:06.559Z"
   },
   {
    "duration": 0,
    "start_time": "2023-11-02T12:19:06.560Z"
   },
   {
    "duration": 0,
    "start_time": "2023-11-02T12:19:06.562Z"
   },
   {
    "duration": 0,
    "start_time": "2023-11-02T12:19:06.563Z"
   },
   {
    "duration": 0,
    "start_time": "2023-11-02T12:19:06.564Z"
   },
   {
    "duration": 0,
    "start_time": "2023-11-02T12:19:06.565Z"
   },
   {
    "duration": 0,
    "start_time": "2023-11-02T12:19:06.566Z"
   },
   {
    "duration": 0,
    "start_time": "2023-11-02T12:19:06.567Z"
   },
   {
    "duration": 0,
    "start_time": "2023-11-02T12:19:06.568Z"
   },
   {
    "duration": 8,
    "start_time": "2023-11-02T12:20:33.376Z"
   },
   {
    "duration": 23,
    "start_time": "2023-11-02T12:58:21.925Z"
   },
   {
    "duration": 6,
    "start_time": "2023-11-02T12:58:22.089Z"
   },
   {
    "duration": 16,
    "start_time": "2023-11-02T12:58:31.512Z"
   },
   {
    "duration": 3,
    "start_time": "2023-11-02T12:59:51.538Z"
   },
   {
    "duration": 6,
    "start_time": "2023-11-02T13:03:33.506Z"
   },
   {
    "duration": 5,
    "start_time": "2023-11-02T13:06:13.053Z"
   },
   {
    "duration": 5,
    "start_time": "2023-11-02T13:06:17.229Z"
   },
   {
    "duration": 4,
    "start_time": "2023-11-02T13:10:27.035Z"
   },
   {
    "duration": 5,
    "start_time": "2023-11-02T13:13:37.252Z"
   },
   {
    "duration": 7,
    "start_time": "2023-11-02T13:32:58.462Z"
   },
   {
    "duration": 5,
    "start_time": "2023-11-02T13:37:30.734Z"
   },
   {
    "duration": 5,
    "start_time": "2023-11-02T13:37:56.263Z"
   },
   {
    "duration": 6,
    "start_time": "2023-11-02T13:48:00.981Z"
   },
   {
    "duration": 6,
    "start_time": "2023-11-02T13:48:25.037Z"
   },
   {
    "duration": 6,
    "start_time": "2023-11-02T14:43:35.967Z"
   },
   {
    "duration": 6,
    "start_time": "2023-11-02T14:44:13.068Z"
   },
   {
    "duration": 5,
    "start_time": "2023-11-02T14:46:20.282Z"
   },
   {
    "duration": 5,
    "start_time": "2023-11-02T14:46:30.617Z"
   },
   {
    "duration": 167,
    "start_time": "2023-11-02T14:53:19.653Z"
   },
   {
    "duration": 162,
    "start_time": "2023-11-02T14:53:34.438Z"
   },
   {
    "duration": 136,
    "start_time": "2023-11-02T14:54:05.686Z"
   },
   {
    "duration": 138,
    "start_time": "2023-11-02T14:54:13.162Z"
   },
   {
    "duration": 146,
    "start_time": "2023-11-02T14:54:16.808Z"
   },
   {
    "duration": 149,
    "start_time": "2023-11-02T14:54:23.865Z"
   },
   {
    "duration": 140,
    "start_time": "2023-11-02T14:54:49.702Z"
   },
   {
    "duration": 172,
    "start_time": "2023-11-02T15:00:12.187Z"
   },
   {
    "duration": 136,
    "start_time": "2023-11-02T15:00:17.255Z"
   },
   {
    "duration": 149,
    "start_time": "2023-11-02T15:00:58.005Z"
   },
   {
    "duration": 5,
    "start_time": "2023-11-02T15:02:07.352Z"
   },
   {
    "duration": 4,
    "start_time": "2023-11-02T15:02:39.720Z"
   },
   {
    "duration": 4,
    "start_time": "2023-11-02T15:02:44.709Z"
   },
   {
    "duration": 5,
    "start_time": "2023-11-02T15:02:54.225Z"
   },
   {
    "duration": 145,
    "start_time": "2023-11-02T15:17:30.442Z"
   },
   {
    "duration": 127,
    "start_time": "2023-11-02T15:21:29.339Z"
   },
   {
    "duration": 133,
    "start_time": "2023-11-02T15:29:11.756Z"
   },
   {
    "duration": 249,
    "start_time": "2023-11-02T15:38:12.683Z"
   },
   {
    "duration": 151,
    "start_time": "2023-11-02T15:38:30.922Z"
   },
   {
    "duration": 135,
    "start_time": "2023-11-02T16:20:27.106Z"
   },
   {
    "duration": 247,
    "start_time": "2023-11-02T16:20:31.446Z"
   },
   {
    "duration": 28,
    "start_time": "2023-11-02T16:20:39.586Z"
   },
   {
    "duration": 31,
    "start_time": "2023-11-02T16:20:41.195Z"
   },
   {
    "duration": 4,
    "start_time": "2023-11-02T16:20:54.630Z"
   },
   {
    "duration": 1767,
    "start_time": "2023-11-02T16:20:59.525Z"
   },
   {
    "duration": 1525,
    "start_time": "2023-11-02T16:22:25.849Z"
   },
   {
    "duration": 5067,
    "start_time": "2023-11-02T16:38:20.883Z"
   },
   {
    "duration": 58,
    "start_time": "2023-11-02T16:38:25.952Z"
   },
   {
    "duration": 15,
    "start_time": "2023-11-02T16:38:26.012Z"
   },
   {
    "duration": 24,
    "start_time": "2023-11-02T16:38:26.029Z"
   },
   {
    "duration": 4,
    "start_time": "2023-11-02T16:38:26.055Z"
   },
   {
    "duration": 37,
    "start_time": "2023-11-02T16:38:26.061Z"
   },
   {
    "duration": 5,
    "start_time": "2023-11-02T16:38:26.100Z"
   },
   {
    "duration": 33,
    "start_time": "2023-11-02T16:38:26.107Z"
   },
   {
    "duration": 16,
    "start_time": "2023-11-02T16:38:26.146Z"
   },
   {
    "duration": 31,
    "start_time": "2023-11-02T16:38:26.164Z"
   },
   {
    "duration": 32,
    "start_time": "2023-11-02T16:38:26.196Z"
   },
   {
    "duration": 17,
    "start_time": "2023-11-02T16:38:26.230Z"
   },
   {
    "duration": 170,
    "start_time": "2023-11-02T16:38:26.249Z"
   },
   {
    "duration": 14,
    "start_time": "2023-11-02T16:38:26.422Z"
   },
   {
    "duration": 20,
    "start_time": "2023-11-02T16:38:26.447Z"
   },
   {
    "duration": 10,
    "start_time": "2023-11-02T16:38:26.469Z"
   },
   {
    "duration": 9,
    "start_time": "2023-11-02T16:38:26.480Z"
   },
   {
    "duration": 8,
    "start_time": "2023-11-02T16:38:26.490Z"
   },
   {
    "duration": 27,
    "start_time": "2023-11-02T16:38:26.499Z"
   },
   {
    "duration": 69,
    "start_time": "2023-11-02T16:38:26.527Z"
   },
   {
    "duration": 6,
    "start_time": "2023-11-02T16:38:26.598Z"
   },
   {
    "duration": 6,
    "start_time": "2023-11-02T16:38:26.606Z"
   },
   {
    "duration": 7,
    "start_time": "2023-11-02T16:38:26.613Z"
   },
   {
    "duration": 7,
    "start_time": "2023-11-02T16:38:26.622Z"
   },
   {
    "duration": 7,
    "start_time": "2023-11-02T16:38:26.630Z"
   },
   {
    "duration": 7,
    "start_time": "2023-11-02T16:38:26.639Z"
   },
   {
    "duration": 147,
    "start_time": "2023-11-02T16:38:26.648Z"
   },
   {
    "duration": 157,
    "start_time": "2023-11-02T16:38:26.797Z"
   },
   {
    "duration": 169,
    "start_time": "2023-11-02T16:38:26.955Z"
   },
   {
    "duration": 35,
    "start_time": "2023-11-02T16:38:27.126Z"
   },
   {
    "duration": 31,
    "start_time": "2023-11-02T16:38:27.163Z"
   },
   {
    "duration": 3,
    "start_time": "2023-11-02T16:38:27.196Z"
   },
   {
    "duration": 1733,
    "start_time": "2023-11-02T16:38:27.201Z"
   },
   {
    "duration": 1273,
    "start_time": "2023-11-02T16:38:28.936Z"
   },
   {
    "duration": 5,
    "start_time": "2023-11-02T16:38:30.211Z"
   },
   {
    "duration": 346,
    "start_time": "2023-11-02T16:38:30.218Z"
   },
   {
    "duration": 295,
    "start_time": "2023-11-02T16:38:30.566Z"
   },
   {
    "duration": 287,
    "start_time": "2023-11-02T16:38:30.864Z"
   },
   {
    "duration": 290,
    "start_time": "2023-11-02T16:38:31.153Z"
   },
   {
    "duration": 193,
    "start_time": "2023-11-02T16:38:31.446Z"
   },
   {
    "duration": 287,
    "start_time": "2023-11-02T16:38:31.646Z"
   },
   {
    "duration": 221,
    "start_time": "2023-11-02T16:38:31.935Z"
   },
   {
    "duration": 159,
    "start_time": "2023-11-02T16:38:32.158Z"
   },
   {
    "duration": 165,
    "start_time": "2023-11-02T16:38:32.319Z"
   },
   {
    "duration": 190,
    "start_time": "2023-11-02T16:38:32.486Z"
   },
   {
    "duration": 152,
    "start_time": "2023-11-02T16:38:32.677Z"
   },
   {
    "duration": 16,
    "start_time": "2023-11-02T16:38:32.831Z"
   },
   {
    "duration": 10,
    "start_time": "2023-11-02T16:38:32.849Z"
   },
   {
    "duration": 12,
    "start_time": "2023-11-02T16:38:32.860Z"
   },
   {
    "duration": 26,
    "start_time": "2023-11-02T16:38:32.874Z"
   },
   {
    "duration": 32,
    "start_time": "2023-11-02T16:38:32.902Z"
   },
   {
    "duration": 32,
    "start_time": "2023-11-02T16:38:32.935Z"
   },
   {
    "duration": 24,
    "start_time": "2023-11-02T16:38:32.969Z"
   },
   {
    "duration": 26,
    "start_time": "2023-11-02T16:38:32.995Z"
   },
   {
    "duration": 34,
    "start_time": "2023-11-02T16:38:33.022Z"
   },
   {
    "duration": 32,
    "start_time": "2023-11-02T16:38:33.058Z"
   },
   {
    "duration": 23,
    "start_time": "2023-11-02T16:38:33.092Z"
   },
   {
    "duration": 31,
    "start_time": "2023-11-02T16:38:33.117Z"
   },
   {
    "duration": 14,
    "start_time": "2023-11-02T16:38:33.149Z"
   },
   {
    "duration": 25,
    "start_time": "2023-11-02T16:38:33.165Z"
   },
   {
    "duration": 14,
    "start_time": "2023-11-02T16:38:33.191Z"
   },
   {
    "duration": 56,
    "start_time": "2023-11-02T16:38:33.207Z"
   },
   {
    "duration": 15,
    "start_time": "2023-11-02T16:38:33.265Z"
   },
   {
    "duration": 23,
    "start_time": "2023-11-02T16:38:33.282Z"
   },
   {
    "duration": 40,
    "start_time": "2023-11-02T16:38:33.307Z"
   },
   {
    "duration": 26,
    "start_time": "2023-11-02T16:38:33.349Z"
   },
   {
    "duration": 13,
    "start_time": "2023-11-02T16:38:33.377Z"
   },
   {
    "duration": 28,
    "start_time": "2023-11-02T16:38:33.392Z"
   },
   {
    "duration": 15,
    "start_time": "2023-11-02T16:38:33.447Z"
   },
   {
    "duration": 24,
    "start_time": "2023-11-02T16:38:33.463Z"
   },
   {
    "duration": 2,
    "start_time": "2023-11-02T16:38:33.489Z"
   },
   {
    "duration": 25,
    "start_time": "2023-11-02T16:38:33.493Z"
   },
   {
    "duration": 31,
    "start_time": "2023-11-02T16:38:33.520Z"
   },
   {
    "duration": 8,
    "start_time": "2023-11-02T16:38:33.554Z"
   },
   {
    "duration": 18,
    "start_time": "2023-11-02T16:38:33.564Z"
   },
   {
    "duration": 55,
    "start_time": "2023-11-02T19:22:03.290Z"
   },
   {
    "duration": 5280,
    "start_time": "2023-11-02T19:22:08.575Z"
   },
   {
    "duration": 352,
    "start_time": "2023-11-02T19:22:13.857Z"
   },
   {
    "duration": 12,
    "start_time": "2023-11-02T19:22:14.211Z"
   },
   {
    "duration": 19,
    "start_time": "2023-11-02T19:22:14.225Z"
   },
   {
    "duration": 19,
    "start_time": "2023-11-02T19:22:14.246Z"
   },
   {
    "duration": 34,
    "start_time": "2023-11-02T19:22:14.266Z"
   },
   {
    "duration": 4,
    "start_time": "2023-11-02T19:22:14.303Z"
   },
   {
    "duration": 18,
    "start_time": "2023-11-02T19:22:14.309Z"
   },
   {
    "duration": 22,
    "start_time": "2023-11-02T19:22:14.329Z"
   },
   {
    "duration": 35,
    "start_time": "2023-11-02T19:22:14.355Z"
   },
   {
    "duration": 24,
    "start_time": "2023-11-02T19:22:14.391Z"
   },
   {
    "duration": 28,
    "start_time": "2023-11-02T19:22:14.417Z"
   },
   {
    "duration": 170,
    "start_time": "2023-11-02T19:22:14.446Z"
   },
   {
    "duration": 15,
    "start_time": "2023-11-02T19:22:14.617Z"
   },
   {
    "duration": 6,
    "start_time": "2023-11-02T19:22:14.647Z"
   },
   {
    "duration": 25,
    "start_time": "2023-11-02T19:22:14.654Z"
   },
   {
    "duration": 18,
    "start_time": "2023-11-02T19:22:14.681Z"
   },
   {
    "duration": 11,
    "start_time": "2023-11-02T19:22:14.701Z"
   },
   {
    "duration": 19,
    "start_time": "2023-11-02T19:22:14.714Z"
   },
   {
    "duration": 12,
    "start_time": "2023-11-02T19:22:14.735Z"
   },
   {
    "duration": 17,
    "start_time": "2023-11-02T19:22:14.749Z"
   },
   {
    "duration": 8,
    "start_time": "2023-11-02T19:22:14.768Z"
   },
   {
    "duration": 8,
    "start_time": "2023-11-02T19:22:14.778Z"
   },
   {
    "duration": 17,
    "start_time": "2023-11-02T19:22:14.787Z"
   },
   {
    "duration": 19,
    "start_time": "2023-11-02T19:22:14.805Z"
   },
   {
    "duration": 31,
    "start_time": "2023-11-02T19:22:14.826Z"
   },
   {
    "duration": 148,
    "start_time": "2023-11-02T19:22:14.859Z"
   },
   {
    "duration": 154,
    "start_time": "2023-11-02T19:22:15.011Z"
   },
   {
    "duration": 287,
    "start_time": "2023-11-02T19:22:15.167Z"
   },
   {
    "duration": 38,
    "start_time": "2023-11-02T19:22:15.456Z"
   },
   {
    "duration": 65,
    "start_time": "2023-11-02T19:22:15.496Z"
   },
   {
    "duration": 5,
    "start_time": "2023-11-02T19:22:15.562Z"
   },
   {
    "duration": 1717,
    "start_time": "2023-11-02T19:22:15.569Z"
   },
   {
    "duration": 1246,
    "start_time": "2023-11-02T19:22:17.288Z"
   },
   {
    "duration": 13,
    "start_time": "2023-11-02T19:22:18.536Z"
   },
   {
    "duration": 414,
    "start_time": "2023-11-02T19:22:18.551Z"
   },
   {
    "duration": 319,
    "start_time": "2023-11-02T19:22:18.968Z"
   },
   {
    "duration": 277,
    "start_time": "2023-11-02T19:22:19.288Z"
   },
   {
    "duration": 294,
    "start_time": "2023-11-02T19:22:19.567Z"
   },
   {
    "duration": 316,
    "start_time": "2023-11-02T19:22:19.864Z"
   },
   {
    "duration": 212,
    "start_time": "2023-11-02T19:22:20.183Z"
   },
   {
    "duration": 230,
    "start_time": "2023-11-02T19:22:20.397Z"
   },
   {
    "duration": 168,
    "start_time": "2023-11-02T19:22:20.628Z"
   },
   {
    "duration": 163,
    "start_time": "2023-11-02T19:22:20.798Z"
   },
   {
    "duration": 190,
    "start_time": "2023-11-02T19:22:20.963Z"
   },
   {
    "duration": 158,
    "start_time": "2023-11-02T19:22:21.155Z"
   },
   {
    "duration": 11,
    "start_time": "2023-11-02T19:22:21.314Z"
   },
   {
    "duration": 50,
    "start_time": "2023-11-02T19:22:21.327Z"
   },
   {
    "duration": 17,
    "start_time": "2023-11-02T19:22:21.378Z"
   },
   {
    "duration": 34,
    "start_time": "2023-11-02T19:22:21.396Z"
   },
   {
    "duration": 33,
    "start_time": "2023-11-02T19:22:21.432Z"
   },
   {
    "duration": 24,
    "start_time": "2023-11-02T19:22:21.467Z"
   },
   {
    "duration": 15,
    "start_time": "2023-11-02T19:22:21.492Z"
   },
   {
    "duration": 40,
    "start_time": "2023-11-02T19:22:21.508Z"
   },
   {
    "duration": 18,
    "start_time": "2023-11-02T19:22:21.550Z"
   },
   {
    "duration": 27,
    "start_time": "2023-11-02T19:22:21.570Z"
   },
   {
    "duration": 22,
    "start_time": "2023-11-02T19:22:21.598Z"
   },
   {
    "duration": 40,
    "start_time": "2023-11-02T19:22:21.622Z"
   },
   {
    "duration": 14,
    "start_time": "2023-11-02T19:22:21.663Z"
   },
   {
    "duration": 23,
    "start_time": "2023-11-02T19:22:21.679Z"
   },
   {
    "duration": 32,
    "start_time": "2023-11-02T19:22:21.703Z"
   },
   {
    "duration": 29,
    "start_time": "2023-11-02T19:22:21.737Z"
   },
   {
    "duration": 13,
    "start_time": "2023-11-02T19:22:21.767Z"
   },
   {
    "duration": 35,
    "start_time": "2023-11-02T19:22:21.781Z"
   },
   {
    "duration": 13,
    "start_time": "2023-11-02T19:22:21.818Z"
   },
   {
    "duration": 46,
    "start_time": "2023-11-02T19:22:21.832Z"
   },
   {
    "duration": 50,
    "start_time": "2023-11-02T19:22:21.880Z"
   },
   {
    "duration": 37,
    "start_time": "2023-11-02T19:22:21.932Z"
   },
   {
    "duration": 18,
    "start_time": "2023-11-02T19:22:21.971Z"
   },
   {
    "duration": 38,
    "start_time": "2023-11-02T19:22:21.991Z"
   },
   {
    "duration": 44,
    "start_time": "2023-11-02T19:22:22.031Z"
   },
   {
    "duration": 19,
    "start_time": "2023-11-02T19:22:22.077Z"
   },
   {
    "duration": 44,
    "start_time": "2023-11-02T19:22:22.098Z"
   },
   {
    "duration": 22,
    "start_time": "2023-11-02T19:22:22.145Z"
   },
   {
    "duration": 28,
    "start_time": "2023-11-02T19:22:22.168Z"
   },
   {
    "duration": 381,
    "start_time": "2023-11-02T19:22:51.283Z"
   },
   {
    "duration": 284,
    "start_time": "2023-11-02T19:23:01.229Z"
   },
   {
    "duration": 297,
    "start_time": "2023-11-02T19:26:49.175Z"
   },
   {
    "duration": 429,
    "start_time": "2023-11-02T19:32:47.857Z"
   },
   {
    "duration": 289,
    "start_time": "2023-11-02T19:34:04.320Z"
   },
   {
    "duration": 294,
    "start_time": "2023-11-02T19:37:04.471Z"
   },
   {
    "duration": 307,
    "start_time": "2023-11-02T19:37:48.927Z"
   },
   {
    "duration": 358,
    "start_time": "2023-11-02T19:38:45.411Z"
   },
   {
    "duration": 4,
    "start_time": "2023-11-02T19:41:40.197Z"
   },
   {
    "duration": 4,
    "start_time": "2023-11-02T19:43:32.555Z"
   },
   {
    "duration": 180,
    "start_time": "2023-11-02T19:49:54.655Z"
   },
   {
    "duration": 1272,
    "start_time": "2023-11-02T19:52:51.693Z"
   },
   {
    "duration": 199,
    "start_time": "2023-11-02T19:53:43.530Z"
   },
   {
    "duration": 80,
    "start_time": "2023-11-02T19:55:48.197Z"
   },
   {
    "duration": 458,
    "start_time": "2023-11-02T19:55:59.945Z"
   },
   {
    "duration": 316,
    "start_time": "2023-11-02T19:57:02.563Z"
   },
   {
    "duration": 337,
    "start_time": "2023-11-02T19:58:42.721Z"
   },
   {
    "duration": 8,
    "start_time": "2023-11-02T20:03:53.075Z"
   },
   {
    "duration": 332,
    "start_time": "2023-11-02T20:03:59.479Z"
   },
   {
    "duration": 176,
    "start_time": "2023-11-02T20:04:09.251Z"
   },
   {
    "duration": 158,
    "start_time": "2023-11-02T20:21:53.025Z"
   },
   {
    "duration": 283,
    "start_time": "2023-11-02T20:29:26.046Z"
   },
   {
    "duration": 154,
    "start_time": "2023-11-02T20:30:49.581Z"
   },
   {
    "duration": 162,
    "start_time": "2023-11-02T20:42:09.124Z"
   },
   {
    "duration": 193,
    "start_time": "2023-11-02T20:50:34.587Z"
   },
   {
    "duration": 167,
    "start_time": "2023-11-02T20:51:02.635Z"
   },
   {
    "duration": 168,
    "start_time": "2023-11-02T20:51:09.921Z"
   },
   {
    "duration": 172,
    "start_time": "2023-11-02T20:51:16.495Z"
   },
   {
    "duration": 163,
    "start_time": "2023-11-02T20:51:42.678Z"
   },
   {
    "duration": 172,
    "start_time": "2023-11-02T20:51:48.458Z"
   },
   {
    "duration": 193,
    "start_time": "2023-11-02T20:51:55.271Z"
   },
   {
    "duration": 79,
    "start_time": "2023-11-02T21:35:31.771Z"
   },
   {
    "duration": 79,
    "start_time": "2023-11-02T21:36:32.307Z"
   },
   {
    "duration": 1096,
    "start_time": "2023-11-02T21:37:10.303Z"
   },
   {
    "duration": 19,
    "start_time": "2023-11-02T21:38:53.700Z"
   },
   {
    "duration": 25,
    "start_time": "2023-11-02T21:39:01.333Z"
   },
   {
    "duration": 23,
    "start_time": "2023-11-02T21:40:08.484Z"
   },
   {
    "duration": 28,
    "start_time": "2023-11-02T21:40:20.354Z"
   },
   {
    "duration": 71,
    "start_time": "2023-11-02T22:15:05.027Z"
   },
   {
    "duration": 3996,
    "start_time": "2023-11-02T22:15:35.634Z"
   },
   {
    "duration": 60,
    "start_time": "2023-11-02T22:15:39.632Z"
   },
   {
    "duration": 14,
    "start_time": "2023-11-02T22:15:39.693Z"
   },
   {
    "duration": 11,
    "start_time": "2023-11-02T22:15:39.710Z"
   },
   {
    "duration": 14,
    "start_time": "2023-11-02T22:15:39.723Z"
   },
   {
    "duration": 34,
    "start_time": "2023-11-02T22:15:39.739Z"
   },
   {
    "duration": 5,
    "start_time": "2023-11-02T22:15:39.775Z"
   },
   {
    "duration": 18,
    "start_time": "2023-11-02T22:15:39.782Z"
   },
   {
    "duration": 13,
    "start_time": "2023-11-02T22:15:39.802Z"
   },
   {
    "duration": 35,
    "start_time": "2023-11-02T22:15:39.817Z"
   },
   {
    "duration": 11,
    "start_time": "2023-11-02T22:15:39.854Z"
   },
   {
    "duration": 6,
    "start_time": "2023-11-02T22:15:39.867Z"
   },
   {
    "duration": 180,
    "start_time": "2023-11-02T22:15:39.875Z"
   },
   {
    "duration": 14,
    "start_time": "2023-11-02T22:15:40.057Z"
   },
   {
    "duration": 18,
    "start_time": "2023-11-02T22:15:40.073Z"
   },
   {
    "duration": 8,
    "start_time": "2023-11-02T22:15:40.093Z"
   },
   {
    "duration": 6,
    "start_time": "2023-11-02T22:15:40.103Z"
   },
   {
    "duration": 6,
    "start_time": "2023-11-02T22:15:40.111Z"
   },
   {
    "duration": 30,
    "start_time": "2023-11-02T22:15:40.119Z"
   },
   {
    "duration": 5,
    "start_time": "2023-11-02T22:15:40.151Z"
   },
   {
    "duration": 11,
    "start_time": "2023-11-02T22:15:40.157Z"
   },
   {
    "duration": 10,
    "start_time": "2023-11-02T22:15:40.169Z"
   },
   {
    "duration": 5,
    "start_time": "2023-11-02T22:15:40.181Z"
   },
   {
    "duration": 17,
    "start_time": "2023-11-02T22:15:40.188Z"
   },
   {
    "duration": 9,
    "start_time": "2023-11-02T22:15:40.206Z"
   },
   {
    "duration": 8,
    "start_time": "2023-11-02T22:15:40.217Z"
   },
   {
    "duration": 191,
    "start_time": "2023-11-02T22:15:40.227Z"
   },
   {
    "duration": 161,
    "start_time": "2023-11-02T22:15:40.424Z"
   },
   {
    "duration": 163,
    "start_time": "2023-11-02T22:15:40.587Z"
   },
   {
    "duration": 29,
    "start_time": "2023-11-02T22:15:40.752Z"
   },
   {
    "duration": 34,
    "start_time": "2023-11-02T22:15:40.783Z"
   },
   {
    "duration": 4,
    "start_time": "2023-11-02T22:15:40.819Z"
   },
   {
    "duration": 1699,
    "start_time": "2023-11-02T22:15:40.847Z"
   },
   {
    "duration": 1235,
    "start_time": "2023-11-02T22:15:42.548Z"
   },
   {
    "duration": 4,
    "start_time": "2023-11-02T22:15:43.785Z"
   },
   {
    "duration": 305,
    "start_time": "2023-11-02T22:15:43.791Z"
   },
   {
    "duration": 325,
    "start_time": "2023-11-02T22:15:44.098Z"
   },
   {
    "duration": 301,
    "start_time": "2023-11-02T22:15:44.424Z"
   },
   {
    "duration": 323,
    "start_time": "2023-11-02T22:15:44.727Z"
   },
   {
    "duration": 376,
    "start_time": "2023-11-02T22:15:45.052Z"
   },
   {
    "duration": 5,
    "start_time": "2023-11-02T22:15:45.430Z"
   },
   {
    "duration": 202,
    "start_time": "2023-11-02T22:15:45.447Z"
   },
   {
    "duration": 290,
    "start_time": "2023-11-02T22:15:45.651Z"
   },
   {
    "duration": 224,
    "start_time": "2023-11-02T22:15:45.946Z"
   },
   {
    "duration": 166,
    "start_time": "2023-11-02T22:15:46.172Z"
   },
   {
    "duration": 148,
    "start_time": "2023-11-02T22:15:46.346Z"
   },
   {
    "duration": 187,
    "start_time": "2023-11-02T22:15:46.495Z"
   },
   {
    "duration": 154,
    "start_time": "2023-11-02T22:15:46.684Z"
   },
   {
    "duration": 27,
    "start_time": "2023-11-02T22:15:46.840Z"
   },
   {
    "duration": 11,
    "start_time": "2023-11-02T22:15:46.869Z"
   },
   {
    "duration": 17,
    "start_time": "2023-11-02T22:15:46.881Z"
   },
   {
    "duration": 21,
    "start_time": "2023-11-02T22:15:46.900Z"
   },
   {
    "duration": 41,
    "start_time": "2023-11-02T22:15:46.923Z"
   },
   {
    "duration": 27,
    "start_time": "2023-11-02T22:15:46.966Z"
   },
   {
    "duration": 27,
    "start_time": "2023-11-02T22:15:46.995Z"
   },
   {
    "duration": 23,
    "start_time": "2023-11-02T22:15:47.024Z"
   },
   {
    "duration": 26,
    "start_time": "2023-11-02T22:15:47.049Z"
   },
   {
    "duration": 13,
    "start_time": "2023-11-02T22:15:47.077Z"
   },
   {
    "duration": 29,
    "start_time": "2023-11-02T22:15:47.092Z"
   },
   {
    "duration": 43,
    "start_time": "2023-11-02T22:15:47.123Z"
   },
   {
    "duration": 24,
    "start_time": "2023-11-02T22:15:47.168Z"
   },
   {
    "duration": 13,
    "start_time": "2023-11-02T22:15:47.193Z"
   },
   {
    "duration": 40,
    "start_time": "2023-11-02T22:15:47.207Z"
   },
   {
    "duration": 13,
    "start_time": "2023-11-02T22:15:47.249Z"
   },
   {
    "duration": 25,
    "start_time": "2023-11-02T22:15:47.264Z"
   },
   {
    "duration": 13,
    "start_time": "2023-11-02T22:15:47.291Z"
   },
   {
    "duration": 54,
    "start_time": "2023-11-02T22:15:47.306Z"
   },
   {
    "duration": 13,
    "start_time": "2023-11-02T22:15:47.362Z"
   },
   {
    "duration": 46,
    "start_time": "2023-11-02T22:15:47.377Z"
   },
   {
    "duration": 21,
    "start_time": "2023-11-02T22:15:47.425Z"
   },
   {
    "duration": 35,
    "start_time": "2023-11-02T22:15:47.448Z"
   },
   {
    "duration": 23,
    "start_time": "2023-11-02T22:15:47.484Z"
   },
   {
    "duration": 25,
    "start_time": "2023-11-02T22:15:47.509Z"
   },
   {
    "duration": 3,
    "start_time": "2023-11-02T22:15:47.536Z"
   },
   {
    "duration": 8,
    "start_time": "2023-11-02T22:15:47.547Z"
   },
   {
    "duration": 22,
    "start_time": "2023-11-02T22:15:47.557Z"
   },
   {
    "duration": 8,
    "start_time": "2023-11-02T22:15:47.581Z"
   },
   {
    "duration": 9,
    "start_time": "2023-11-02T22:15:47.591Z"
   },
   {
    "duration": 53,
    "start_time": "2023-11-02T22:15:47.602Z"
   },
   {
    "duration": 69,
    "start_time": "2023-11-02T22:17:01.677Z"
   },
   {
    "duration": 47,
    "start_time": "2023-11-02T22:17:08.422Z"
   },
   {
    "duration": 42,
    "start_time": "2023-11-02T22:17:20.320Z"
   },
   {
    "duration": 44,
    "start_time": "2023-11-02T22:17:50.681Z"
   },
   {
    "duration": 7,
    "start_time": "2023-11-02T22:18:58.833Z"
   },
   {
    "duration": 25,
    "start_time": "2023-11-02T22:19:09.526Z"
   },
   {
    "duration": 26,
    "start_time": "2023-11-02T22:20:00.489Z"
   },
   {
    "duration": 26,
    "start_time": "2023-11-02T22:20:44.011Z"
   },
   {
    "duration": 8,
    "start_time": "2023-11-02T22:21:14.306Z"
   },
   {
    "duration": 9,
    "start_time": "2023-11-02T22:23:41.352Z"
   },
   {
    "duration": 4,
    "start_time": "2023-11-02T22:24:26.772Z"
   },
   {
    "duration": 9,
    "start_time": "2023-11-02T22:25:33.814Z"
   },
   {
    "duration": 8,
    "start_time": "2023-11-02T22:25:35.622Z"
   },
   {
    "duration": 4,
    "start_time": "2023-11-02T22:25:36.373Z"
   },
   {
    "duration": 10,
    "start_time": "2023-11-02T22:25:56.424Z"
   },
   {
    "duration": 4,
    "start_time": "2023-11-02T22:25:58.059Z"
   },
   {
    "duration": 10,
    "start_time": "2023-11-02T22:27:10.951Z"
   },
   {
    "duration": 9,
    "start_time": "2023-11-02T22:27:12.026Z"
   },
   {
    "duration": 5,
    "start_time": "2023-11-02T22:27:12.641Z"
   },
   {
    "duration": 8,
    "start_time": "2023-11-02T22:27:44.535Z"
   },
   {
    "duration": 9,
    "start_time": "2023-11-02T22:27:52.030Z"
   },
   {
    "duration": 4,
    "start_time": "2023-11-02T22:27:52.498Z"
   },
   {
    "duration": 9,
    "start_time": "2023-11-02T22:28:45.597Z"
   },
   {
    "duration": 9,
    "start_time": "2023-11-02T22:28:46.485Z"
   },
   {
    "duration": 4,
    "start_time": "2023-11-02T22:28:46.986Z"
   },
   {
    "duration": 10,
    "start_time": "2023-11-02T22:29:47.225Z"
   },
   {
    "duration": 9,
    "start_time": "2023-11-02T22:29:53.703Z"
   },
   {
    "duration": 9,
    "start_time": "2023-11-02T22:30:04.567Z"
   },
   {
    "duration": 3,
    "start_time": "2023-11-02T22:30:05.083Z"
   },
   {
    "duration": 42,
    "start_time": "2023-11-02T22:31:36.823Z"
   },
   {
    "duration": 9,
    "start_time": "2023-11-02T22:31:47.789Z"
   },
   {
    "duration": 9,
    "start_time": "2023-11-02T22:31:52.456Z"
   },
   {
    "duration": 4,
    "start_time": "2023-11-02T22:31:52.926Z"
   },
   {
    "duration": 9,
    "start_time": "2023-11-02T22:32:04.713Z"
   },
   {
    "duration": 4,
    "start_time": "2023-11-02T22:32:05.123Z"
   },
   {
    "duration": 8,
    "start_time": "2023-11-02T22:33:13.164Z"
   },
   {
    "duration": 8,
    "start_time": "2023-11-02T22:33:26.244Z"
   },
   {
    "duration": 4,
    "start_time": "2023-11-02T22:33:26.748Z"
   },
   {
    "duration": 8,
    "start_time": "2023-11-02T22:38:38.272Z"
   },
   {
    "duration": 8,
    "start_time": "2023-11-02T22:38:45.860Z"
   },
   {
    "duration": 10,
    "start_time": "2023-11-02T22:39:09.398Z"
   },
   {
    "duration": 4,
    "start_time": "2023-11-02T22:39:17.467Z"
   },
   {
    "duration": 3,
    "start_time": "2023-11-02T22:39:24.167Z"
   },
   {
    "duration": 9,
    "start_time": "2023-11-02T22:40:09.182Z"
   },
   {
    "duration": 10,
    "start_time": "2023-11-02T22:40:09.590Z"
   },
   {
    "duration": 4,
    "start_time": "2023-11-02T22:40:10.222Z"
   },
   {
    "duration": 8,
    "start_time": "2023-11-02T22:40:46.477Z"
   },
   {
    "duration": 7,
    "start_time": "2023-11-02T22:40:51.350Z"
   },
   {
    "duration": 3,
    "start_time": "2023-11-02T22:41:21.859Z"
   },
   {
    "duration": 3,
    "start_time": "2023-11-02T22:41:28.899Z"
   },
   {
    "duration": 4,
    "start_time": "2023-11-02T22:41:32.876Z"
   },
   {
    "duration": 14,
    "start_time": "2023-11-02T22:48:28.726Z"
   },
   {
    "duration": 15,
    "start_time": "2023-11-02T22:49:19.681Z"
   },
   {
    "duration": 13,
    "start_time": "2023-11-02T22:50:20.226Z"
   },
   {
    "duration": 12,
    "start_time": "2023-11-02T22:51:56.296Z"
   },
   {
    "duration": 14,
    "start_time": "2023-11-02T22:52:47.349Z"
   },
   {
    "duration": 13,
    "start_time": "2023-11-02T22:53:18.046Z"
   },
   {
    "duration": 12,
    "start_time": "2023-11-02T22:53:53.429Z"
   },
   {
    "duration": 14,
    "start_time": "2023-11-02T22:54:20.403Z"
   },
   {
    "duration": 12,
    "start_time": "2023-11-02T22:58:39.170Z"
   },
   {
    "duration": 12,
    "start_time": "2023-11-02T22:59:08.130Z"
   },
   {
    "duration": 14,
    "start_time": "2023-11-02T23:00:38.753Z"
   },
   {
    "duration": 14,
    "start_time": "2023-11-02T23:00:48.184Z"
   },
   {
    "duration": 15,
    "start_time": "2023-11-02T23:02:02.839Z"
   },
   {
    "duration": 14,
    "start_time": "2023-11-02T23:02:23.854Z"
   },
   {
    "duration": 14,
    "start_time": "2023-11-02T23:02:41.731Z"
   },
   {
    "duration": 14,
    "start_time": "2023-11-02T23:03:24.686Z"
   },
   {
    "duration": 15,
    "start_time": "2023-11-02T23:03:57.574Z"
   },
   {
    "duration": 13,
    "start_time": "2023-11-02T23:04:33.846Z"
   },
   {
    "duration": 15,
    "start_time": "2023-11-02T23:05:09.296Z"
   },
   {
    "duration": 15,
    "start_time": "2023-11-02T23:05:23.662Z"
   },
   {
    "duration": 8,
    "start_time": "2023-11-02T23:06:39.120Z"
   },
   {
    "duration": 9,
    "start_time": "2023-11-02T23:06:39.979Z"
   },
   {
    "duration": 3,
    "start_time": "2023-11-02T23:06:40.799Z"
   },
   {
    "duration": 9,
    "start_time": "2023-11-02T23:07:21.511Z"
   },
   {
    "duration": 10,
    "start_time": "2023-11-02T23:07:22.221Z"
   },
   {
    "duration": 5,
    "start_time": "2023-11-02T23:07:23.033Z"
   },
   {
    "duration": 14,
    "start_time": "2023-11-02T23:08:44.130Z"
   },
   {
    "duration": 14,
    "start_time": "2023-11-02T23:10:16.835Z"
   },
   {
    "duration": 5376,
    "start_time": "2023-11-03T08:54:22.662Z"
   },
   {
    "duration": 165,
    "start_time": "2023-11-03T08:54:28.044Z"
   },
   {
    "duration": 11,
    "start_time": "2023-11-03T08:54:28.210Z"
   },
   {
    "duration": 7,
    "start_time": "2023-11-03T08:54:28.223Z"
   },
   {
    "duration": 2,
    "start_time": "2023-11-03T08:54:28.231Z"
   },
   {
    "duration": 32,
    "start_time": "2023-11-03T08:54:28.234Z"
   },
   {
    "duration": 4,
    "start_time": "2023-11-03T08:54:28.267Z"
   },
   {
    "duration": 13,
    "start_time": "2023-11-03T08:54:28.273Z"
   },
   {
    "duration": 11,
    "start_time": "2023-11-03T08:54:28.287Z"
   },
   {
    "duration": 22,
    "start_time": "2023-11-03T08:54:28.300Z"
   },
   {
    "duration": 42,
    "start_time": "2023-11-03T08:54:28.323Z"
   },
   {
    "duration": 6,
    "start_time": "2023-11-03T08:54:28.366Z"
   },
   {
    "duration": 139,
    "start_time": "2023-11-03T08:54:28.373Z"
   },
   {
    "duration": 12,
    "start_time": "2023-11-03T08:54:28.514Z"
   },
   {
    "duration": 21,
    "start_time": "2023-11-03T08:54:28.544Z"
   },
   {
    "duration": 4,
    "start_time": "2023-11-03T08:54:28.566Z"
   },
   {
    "duration": 4,
    "start_time": "2023-11-03T08:54:28.571Z"
   },
   {
    "duration": 4,
    "start_time": "2023-11-03T08:54:28.577Z"
   },
   {
    "duration": 5,
    "start_time": "2023-11-03T08:54:28.582Z"
   },
   {
    "duration": 4,
    "start_time": "2023-11-03T08:54:28.589Z"
   },
   {
    "duration": 7,
    "start_time": "2023-11-03T08:54:28.594Z"
   },
   {
    "duration": 9,
    "start_time": "2023-11-03T08:54:28.602Z"
   },
   {
    "duration": 7,
    "start_time": "2023-11-03T08:54:28.612Z"
   },
   {
    "duration": 31,
    "start_time": "2023-11-03T08:54:28.620Z"
   },
   {
    "duration": 7,
    "start_time": "2023-11-03T08:54:28.657Z"
   },
   {
    "duration": 6,
    "start_time": "2023-11-03T08:54:28.666Z"
   },
   {
    "duration": 130,
    "start_time": "2023-11-03T08:54:28.674Z"
   },
   {
    "duration": 124,
    "start_time": "2023-11-03T08:54:28.807Z"
   },
   {
    "duration": 143,
    "start_time": "2023-11-03T08:54:28.932Z"
   },
   {
    "duration": 25,
    "start_time": "2023-11-03T08:54:29.077Z"
   },
   {
    "duration": 27,
    "start_time": "2023-11-03T08:54:29.103Z"
   },
   {
    "duration": 4,
    "start_time": "2023-11-03T08:54:29.131Z"
   },
   {
    "duration": 1354,
    "start_time": "2023-11-03T08:54:29.156Z"
   },
   {
    "duration": 1119,
    "start_time": "2023-11-03T08:54:30.511Z"
   },
   {
    "duration": 24,
    "start_time": "2023-11-03T08:54:31.632Z"
   },
   {
    "duration": 284,
    "start_time": "2023-11-03T08:54:31.658Z"
   },
   {
    "duration": 283,
    "start_time": "2023-11-03T08:54:31.943Z"
   },
   {
    "duration": 296,
    "start_time": "2023-11-03T08:54:32.228Z"
   },
   {
    "duration": 326,
    "start_time": "2023-11-03T08:54:32.526Z"
   },
   {
    "duration": 261,
    "start_time": "2023-11-03T08:54:32.853Z"
   },
   {
    "duration": 3,
    "start_time": "2023-11-03T08:54:33.116Z"
   },
   {
    "duration": 177,
    "start_time": "2023-11-03T08:54:33.120Z"
   },
   {
    "duration": 235,
    "start_time": "2023-11-03T08:54:33.298Z"
   },
   {
    "duration": 191,
    "start_time": "2023-11-03T08:54:33.539Z"
   },
   {
    "duration": 153,
    "start_time": "2023-11-03T08:54:33.731Z"
   },
   {
    "duration": 145,
    "start_time": "2023-11-03T08:54:33.885Z"
   },
   {
    "duration": 164,
    "start_time": "2023-11-03T08:54:34.031Z"
   },
   {
    "duration": 169,
    "start_time": "2023-11-03T08:54:34.196Z"
   },
   {
    "duration": 21,
    "start_time": "2023-11-03T08:54:34.366Z"
   },
   {
    "duration": 8,
    "start_time": "2023-11-03T08:54:34.388Z"
   },
   {
    "duration": 9,
    "start_time": "2023-11-03T08:54:34.397Z"
   },
   {
    "duration": 12,
    "start_time": "2023-11-03T08:54:34.407Z"
   },
   {
    "duration": 45,
    "start_time": "2023-11-03T08:54:34.420Z"
   },
   {
    "duration": 13,
    "start_time": "2023-11-03T08:54:34.466Z"
   },
   {
    "duration": 18,
    "start_time": "2023-11-03T08:54:34.481Z"
   },
   {
    "duration": 15,
    "start_time": "2023-11-03T08:54:34.500Z"
   },
   {
    "duration": 20,
    "start_time": "2023-11-03T08:54:34.516Z"
   },
   {
    "duration": 28,
    "start_time": "2023-11-03T08:54:34.537Z"
   },
   {
    "duration": 19,
    "start_time": "2023-11-03T08:54:34.567Z"
   },
   {
    "duration": 36,
    "start_time": "2023-11-03T08:54:34.587Z"
   },
   {
    "duration": 41,
    "start_time": "2023-11-03T08:54:34.624Z"
   },
   {
    "duration": 11,
    "start_time": "2023-11-03T08:54:34.667Z"
   },
   {
    "duration": 21,
    "start_time": "2023-11-03T08:54:34.679Z"
   },
   {
    "duration": 16,
    "start_time": "2023-11-03T08:54:34.701Z"
   },
   {
    "duration": 47,
    "start_time": "2023-11-03T08:54:34.718Z"
   },
   {
    "duration": 12,
    "start_time": "2023-11-03T08:54:34.766Z"
   },
   {
    "duration": 21,
    "start_time": "2023-11-03T08:54:34.779Z"
   },
   {
    "duration": 10,
    "start_time": "2023-11-03T08:54:34.801Z"
   },
   {
    "duration": 19,
    "start_time": "2023-11-03T08:54:34.813Z"
   },
   {
    "duration": 32,
    "start_time": "2023-11-03T08:54:34.833Z"
   },
   {
    "duration": 19,
    "start_time": "2023-11-03T08:54:34.867Z"
   },
   {
    "duration": 13,
    "start_time": "2023-11-03T08:54:34.887Z"
   },
   {
    "duration": 21,
    "start_time": "2023-11-03T08:54:34.901Z"
   },
   {
    "duration": 11,
    "start_time": "2023-11-03T08:54:34.923Z"
   },
   {
    "duration": 23,
    "start_time": "2023-11-03T08:54:34.935Z"
   },
   {
    "duration": 18,
    "start_time": "2023-11-03T08:54:34.960Z"
   },
   {
    "duration": 6,
    "start_time": "2023-11-03T08:54:34.979Z"
   },
   {
    "duration": 6,
    "start_time": "2023-11-03T08:54:34.987Z"
   },
   {
    "duration": 7,
    "start_time": "2023-11-03T08:54:34.994Z"
   },
   {
    "duration": 8,
    "start_time": "2023-11-03T08:54:35.002Z"
   },
   {
    "duration": 5,
    "start_time": "2023-11-03T08:54:35.011Z"
   },
   {
    "duration": 9,
    "start_time": "2023-11-03T08:54:35.052Z"
   },
   {
    "duration": 9,
    "start_time": "2023-11-03T08:54:35.063Z"
   },
   {
    "duration": 17,
    "start_time": "2023-11-03T08:54:35.074Z"
   },
   {
    "duration": 20,
    "start_time": "2023-11-03T08:54:35.093Z"
   },
   {
    "duration": 16,
    "start_time": "2023-11-03T08:54:35.115Z"
   },
   {
    "duration": 22,
    "start_time": "2023-11-03T08:54:35.132Z"
   },
   {
    "duration": 26,
    "start_time": "2023-11-03T08:54:35.156Z"
   },
   {
    "duration": 288,
    "start_time": "2023-11-03T09:05:09.825Z"
   },
   {
    "duration": 286,
    "start_time": "2023-11-03T09:05:27.918Z"
   },
   {
    "duration": 282,
    "start_time": "2023-11-03T09:05:42.978Z"
   },
   {
    "duration": 113,
    "start_time": "2023-11-03T09:12:36.103Z"
   },
   {
    "duration": 4,
    "start_time": "2023-11-03T09:12:45.553Z"
   },
   {
    "duration": 115,
    "start_time": "2023-11-03T09:21:04.393Z"
   },
   {
    "duration": 75,
    "start_time": "2023-11-03T09:22:52.556Z"
   },
   {
    "duration": 46,
    "start_time": "2023-11-03T09:51:06.552Z"
   },
   {
    "duration": 5181,
    "start_time": "2023-11-03T09:51:22.003Z"
   },
   {
    "duration": 171,
    "start_time": "2023-11-03T09:51:27.186Z"
   },
   {
    "duration": 13,
    "start_time": "2023-11-03T09:51:27.358Z"
   },
   {
    "duration": 46,
    "start_time": "2023-11-03T09:51:27.373Z"
   },
   {
    "duration": 7,
    "start_time": "2023-11-03T09:51:27.421Z"
   },
   {
    "duration": 55,
    "start_time": "2023-11-03T09:51:27.429Z"
   },
   {
    "duration": 4,
    "start_time": "2023-11-03T09:51:27.486Z"
   },
   {
    "duration": 44,
    "start_time": "2023-11-03T09:51:27.492Z"
   },
   {
    "duration": 12,
    "start_time": "2023-11-03T09:51:27.538Z"
   },
   {
    "duration": 32,
    "start_time": "2023-11-03T09:51:27.553Z"
   },
   {
    "duration": 21,
    "start_time": "2023-11-03T09:51:27.586Z"
   },
   {
    "duration": 31,
    "start_time": "2023-11-03T09:51:27.609Z"
   },
   {
    "duration": 153,
    "start_time": "2023-11-03T09:51:27.641Z"
   },
   {
    "duration": 85,
    "start_time": "2023-11-03T09:51:27.795Z"
   },
   {
    "duration": 0,
    "start_time": "2023-11-03T09:51:27.882Z"
   },
   {
    "duration": 0,
    "start_time": "2023-11-03T09:51:27.884Z"
   },
   {
    "duration": 0,
    "start_time": "2023-11-03T09:51:27.885Z"
   },
   {
    "duration": 0,
    "start_time": "2023-11-03T09:51:27.885Z"
   },
   {
    "duration": 0,
    "start_time": "2023-11-03T09:51:27.886Z"
   },
   {
    "duration": 0,
    "start_time": "2023-11-03T09:51:27.887Z"
   },
   {
    "duration": 0,
    "start_time": "2023-11-03T09:51:27.888Z"
   },
   {
    "duration": 0,
    "start_time": "2023-11-03T09:51:27.889Z"
   },
   {
    "duration": 0,
    "start_time": "2023-11-03T09:51:27.890Z"
   },
   {
    "duration": 0,
    "start_time": "2023-11-03T09:51:27.891Z"
   },
   {
    "duration": 0,
    "start_time": "2023-11-03T09:51:27.892Z"
   },
   {
    "duration": 0,
    "start_time": "2023-11-03T09:51:27.893Z"
   },
   {
    "duration": 0,
    "start_time": "2023-11-03T09:51:27.894Z"
   },
   {
    "duration": 0,
    "start_time": "2023-11-03T09:51:27.895Z"
   },
   {
    "duration": 0,
    "start_time": "2023-11-03T09:51:27.897Z"
   },
   {
    "duration": 0,
    "start_time": "2023-11-03T09:51:27.897Z"
   },
   {
    "duration": 0,
    "start_time": "2023-11-03T09:51:27.899Z"
   },
   {
    "duration": 0,
    "start_time": "2023-11-03T09:51:27.899Z"
   },
   {
    "duration": 0,
    "start_time": "2023-11-03T09:51:27.900Z"
   },
   {
    "duration": 0,
    "start_time": "2023-11-03T09:51:27.902Z"
   },
   {
    "duration": 0,
    "start_time": "2023-11-03T09:51:27.902Z"
   },
   {
    "duration": 0,
    "start_time": "2023-11-03T09:51:27.903Z"
   },
   {
    "duration": 1,
    "start_time": "2023-11-03T09:51:27.904Z"
   },
   {
    "duration": 0,
    "start_time": "2023-11-03T09:51:27.905Z"
   },
   {
    "duration": 0,
    "start_time": "2023-11-03T09:51:27.906Z"
   },
   {
    "duration": 1,
    "start_time": "2023-11-03T09:51:27.907Z"
   },
   {
    "duration": 0,
    "start_time": "2023-11-03T09:51:27.909Z"
   },
   {
    "duration": 0,
    "start_time": "2023-11-03T09:51:27.910Z"
   },
   {
    "duration": 0,
    "start_time": "2023-11-03T09:51:27.911Z"
   },
   {
    "duration": 0,
    "start_time": "2023-11-03T09:51:27.912Z"
   },
   {
    "duration": 0,
    "start_time": "2023-11-03T09:51:27.913Z"
   },
   {
    "duration": 0,
    "start_time": "2023-11-03T09:51:27.914Z"
   },
   {
    "duration": 0,
    "start_time": "2023-11-03T09:51:27.915Z"
   },
   {
    "duration": 0,
    "start_time": "2023-11-03T09:51:27.916Z"
   },
   {
    "duration": 0,
    "start_time": "2023-11-03T09:51:27.917Z"
   },
   {
    "duration": 0,
    "start_time": "2023-11-03T09:51:27.918Z"
   },
   {
    "duration": 0,
    "start_time": "2023-11-03T09:51:27.920Z"
   },
   {
    "duration": 0,
    "start_time": "2023-11-03T09:51:27.921Z"
   },
   {
    "duration": 0,
    "start_time": "2023-11-03T09:51:27.922Z"
   },
   {
    "duration": 0,
    "start_time": "2023-11-03T09:51:27.923Z"
   },
   {
    "duration": 0,
    "start_time": "2023-11-03T09:51:27.924Z"
   },
   {
    "duration": 0,
    "start_time": "2023-11-03T09:51:27.925Z"
   },
   {
    "duration": 0,
    "start_time": "2023-11-03T09:51:27.926Z"
   },
   {
    "duration": 0,
    "start_time": "2023-11-03T09:51:27.928Z"
   },
   {
    "duration": 0,
    "start_time": "2023-11-03T09:51:27.929Z"
   },
   {
    "duration": 0,
    "start_time": "2023-11-03T09:51:27.932Z"
   },
   {
    "duration": 0,
    "start_time": "2023-11-03T09:51:27.934Z"
   },
   {
    "duration": 0,
    "start_time": "2023-11-03T09:51:27.936Z"
   },
   {
    "duration": 0,
    "start_time": "2023-11-03T09:51:27.937Z"
   },
   {
    "duration": 0,
    "start_time": "2023-11-03T09:51:27.938Z"
   },
   {
    "duration": 0,
    "start_time": "2023-11-03T09:51:27.939Z"
   },
   {
    "duration": 0,
    "start_time": "2023-11-03T09:51:27.940Z"
   },
   {
    "duration": 0,
    "start_time": "2023-11-03T09:51:27.942Z"
   },
   {
    "duration": 0,
    "start_time": "2023-11-03T09:51:27.943Z"
   },
   {
    "duration": 0,
    "start_time": "2023-11-03T09:51:27.943Z"
   },
   {
    "duration": 0,
    "start_time": "2023-11-03T09:51:27.945Z"
   },
   {
    "duration": 0,
    "start_time": "2023-11-03T09:51:28.006Z"
   },
   {
    "duration": 0,
    "start_time": "2023-11-03T09:51:28.007Z"
   },
   {
    "duration": 0,
    "start_time": "2023-11-03T09:51:28.008Z"
   },
   {
    "duration": 0,
    "start_time": "2023-11-03T09:51:28.010Z"
   },
   {
    "duration": 0,
    "start_time": "2023-11-03T09:51:28.010Z"
   },
   {
    "duration": 0,
    "start_time": "2023-11-03T09:51:28.011Z"
   },
   {
    "duration": 0,
    "start_time": "2023-11-03T09:51:28.012Z"
   },
   {
    "duration": 0,
    "start_time": "2023-11-03T09:51:28.013Z"
   },
   {
    "duration": 0,
    "start_time": "2023-11-03T09:51:28.014Z"
   },
   {
    "duration": 0,
    "start_time": "2023-11-03T09:51:28.015Z"
   },
   {
    "duration": 0,
    "start_time": "2023-11-03T09:51:28.016Z"
   },
   {
    "duration": 0,
    "start_time": "2023-11-03T09:51:28.017Z"
   },
   {
    "duration": 0,
    "start_time": "2023-11-03T09:51:28.018Z"
   },
   {
    "duration": 0,
    "start_time": "2023-11-03T09:51:28.019Z"
   },
   {
    "duration": 0,
    "start_time": "2023-11-03T09:51:28.020Z"
   },
   {
    "duration": 0,
    "start_time": "2023-11-03T09:51:28.021Z"
   },
   {
    "duration": 0,
    "start_time": "2023-11-03T09:51:28.022Z"
   },
   {
    "duration": 0,
    "start_time": "2023-11-03T09:51:28.023Z"
   },
   {
    "duration": 21,
    "start_time": "2023-11-03T09:52:06.404Z"
   },
   {
    "duration": 9,
    "start_time": "2023-11-03T09:52:32.625Z"
   },
   {
    "duration": 16,
    "start_time": "2023-11-03T09:52:36.977Z"
   },
   {
    "duration": 6,
    "start_time": "2023-11-03T09:52:44.496Z"
   },
   {
    "duration": 5,
    "start_time": "2023-11-03T09:52:44.875Z"
   },
   {
    "duration": 5,
    "start_time": "2023-11-03T09:52:55.179Z"
   },
   {
    "duration": 5,
    "start_time": "2023-11-03T09:52:55.569Z"
   },
   {
    "duration": 5,
    "start_time": "2023-11-03T09:53:25.836Z"
   },
   {
    "duration": 4,
    "start_time": "2023-11-03T09:53:26.192Z"
   },
   {
    "duration": 5,
    "start_time": "2023-11-03T09:53:26.631Z"
   },
   {
    "duration": 5,
    "start_time": "2023-11-03T09:53:27.050Z"
   },
   {
    "duration": 5,
    "start_time": "2023-11-03T09:54:43.010Z"
   },
   {
    "duration": 4,
    "start_time": "2023-11-03T09:54:43.266Z"
   },
   {
    "duration": 5,
    "start_time": "2023-11-03T09:54:49.709Z"
   },
   {
    "duration": 5,
    "start_time": "2023-11-03T09:54:50.034Z"
   },
   {
    "duration": 7,
    "start_time": "2023-11-03T09:55:36.087Z"
   },
   {
    "duration": 4,
    "start_time": "2023-11-03T09:55:45.900Z"
   },
   {
    "duration": 5,
    "start_time": "2023-11-03T09:56:07.701Z"
   },
   {
    "duration": 4,
    "start_time": "2023-11-03T09:56:09.585Z"
   },
   {
    "duration": 4,
    "start_time": "2023-11-03T09:56:10.010Z"
   },
   {
    "duration": 23,
    "start_time": "2023-11-03T10:09:47.275Z"
   },
   {
    "duration": 8,
    "start_time": "2023-11-03T10:09:56.056Z"
   },
   {
    "duration": 67,
    "start_time": "2023-11-03T10:10:59.930Z"
   },
   {
    "duration": 156,
    "start_time": "2023-11-03T10:46:36.020Z"
   },
   {
    "duration": 127,
    "start_time": "2023-11-03T10:46:39.881Z"
   },
   {
    "duration": 145,
    "start_time": "2023-11-03T10:46:41.163Z"
   },
   {
    "duration": 246,
    "start_time": "2023-11-03T10:53:06.185Z"
   },
   {
    "duration": 148,
    "start_time": "2023-11-03T10:53:35.006Z"
   },
   {
    "duration": 5,
    "start_time": "2023-11-03T10:54:52.113Z"
   },
   {
    "duration": 3,
    "start_time": "2023-11-03T10:55:41.301Z"
   },
   {
    "duration": 3744,
    "start_time": "2023-11-03T10:55:47.750Z"
   },
   {
    "duration": 57,
    "start_time": "2023-11-03T10:55:51.497Z"
   },
   {
    "duration": 12,
    "start_time": "2023-11-03T10:55:51.555Z"
   },
   {
    "duration": 24,
    "start_time": "2023-11-03T10:55:51.568Z"
   },
   {
    "duration": 37,
    "start_time": "2023-11-03T10:55:51.595Z"
   },
   {
    "duration": 55,
    "start_time": "2023-11-03T10:55:51.633Z"
   },
   {
    "duration": 4,
    "start_time": "2023-11-03T10:55:51.689Z"
   },
   {
    "duration": 38,
    "start_time": "2023-11-03T10:55:51.695Z"
   },
   {
    "duration": 28,
    "start_time": "2023-11-03T10:55:51.734Z"
   },
   {
    "duration": 37,
    "start_time": "2023-11-03T10:55:51.763Z"
   },
   {
    "duration": 23,
    "start_time": "2023-11-03T10:55:51.801Z"
   },
   {
    "duration": 52,
    "start_time": "2023-11-03T10:55:51.825Z"
   },
   {
    "duration": 190,
    "start_time": "2023-11-03T10:55:51.878Z"
   },
   {
    "duration": 16,
    "start_time": "2023-11-03T10:55:52.070Z"
   },
   {
    "duration": 34,
    "start_time": "2023-11-03T10:55:52.088Z"
   },
   {
    "duration": 25,
    "start_time": "2023-11-03T10:55:52.123Z"
   },
   {
    "duration": 14,
    "start_time": "2023-11-03T10:55:52.149Z"
   },
   {
    "duration": 30,
    "start_time": "2023-11-03T10:55:52.164Z"
   },
   {
    "duration": 16,
    "start_time": "2023-11-03T10:55:52.195Z"
   },
   {
    "duration": 46,
    "start_time": "2023-11-03T10:55:52.212Z"
   },
   {
    "duration": 28,
    "start_time": "2023-11-03T10:55:52.259Z"
   },
   {
    "duration": 21,
    "start_time": "2023-11-03T10:55:52.288Z"
   },
   {
    "duration": 24,
    "start_time": "2023-11-03T10:55:52.310Z"
   },
   {
    "duration": 16,
    "start_time": "2023-11-03T10:55:52.336Z"
   },
   {
    "duration": 131,
    "start_time": "2023-11-03T10:55:52.354Z"
   },
   {
    "duration": 168,
    "start_time": "2023-11-03T10:55:52.487Z"
   },
   {
    "duration": 152,
    "start_time": "2023-11-03T10:55:52.657Z"
   },
   {
    "duration": 151,
    "start_time": "2023-11-03T10:55:52.811Z"
   },
   {
    "duration": 28,
    "start_time": "2023-11-03T10:55:52.963Z"
   },
   {
    "duration": 42,
    "start_time": "2023-11-03T10:55:52.993Z"
   },
   {
    "duration": 5,
    "start_time": "2023-11-03T10:55:53.037Z"
   },
   {
    "duration": 1627,
    "start_time": "2023-11-03T10:55:53.043Z"
   },
   {
    "duration": 1128,
    "start_time": "2023-11-03T10:55:54.672Z"
   },
   {
    "duration": 5,
    "start_time": "2023-11-03T10:55:55.806Z"
   },
   {
    "duration": 398,
    "start_time": "2023-11-03T10:55:55.812Z"
   },
   {
    "duration": 283,
    "start_time": "2023-11-03T10:55:56.211Z"
   },
   {
    "duration": 274,
    "start_time": "2023-11-03T10:55:56.496Z"
   },
   {
    "duration": 280,
    "start_time": "2023-11-03T10:55:56.772Z"
   },
   {
    "duration": 296,
    "start_time": "2023-11-03T10:55:57.054Z"
   },
   {
    "duration": 4,
    "start_time": "2023-11-03T10:55:57.352Z"
   },
   {
    "duration": 199,
    "start_time": "2023-11-03T10:55:57.361Z"
   },
   {
    "duration": 270,
    "start_time": "2023-11-03T10:55:57.562Z"
   },
   {
    "duration": 198,
    "start_time": "2023-11-03T10:55:57.834Z"
   },
   {
    "duration": 153,
    "start_time": "2023-11-03T10:55:58.034Z"
   },
   {
    "duration": 142,
    "start_time": "2023-11-03T10:55:58.189Z"
   },
   {
    "duration": 171,
    "start_time": "2023-11-03T10:55:58.333Z"
   },
   {
    "duration": 147,
    "start_time": "2023-11-03T10:55:58.507Z"
   },
   {
    "duration": 25,
    "start_time": "2023-11-03T10:55:58.657Z"
   },
   {
    "duration": 29,
    "start_time": "2023-11-03T10:55:58.683Z"
   },
   {
    "duration": 21,
    "start_time": "2023-11-03T10:55:58.714Z"
   },
   {
    "duration": 14,
    "start_time": "2023-11-03T10:55:58.737Z"
   },
   {
    "duration": 38,
    "start_time": "2023-11-03T10:55:58.753Z"
   },
   {
    "duration": 45,
    "start_time": "2023-11-03T10:55:58.793Z"
   },
   {
    "duration": 47,
    "start_time": "2023-11-03T10:55:58.840Z"
   },
   {
    "duration": 46,
    "start_time": "2023-11-03T10:55:58.889Z"
   },
   {
    "duration": 46,
    "start_time": "2023-11-03T10:55:58.937Z"
   },
   {
    "duration": 176,
    "start_time": "2023-11-03T10:55:58.985Z"
   },
   {
    "duration": 64,
    "start_time": "2023-11-03T10:55:59.163Z"
   },
   {
    "duration": 39,
    "start_time": "2023-11-03T10:55:59.230Z"
   },
   {
    "duration": 46,
    "start_time": "2023-11-03T10:55:59.271Z"
   },
   {
    "duration": 15,
    "start_time": "2023-11-03T10:55:59.319Z"
   },
   {
    "duration": 46,
    "start_time": "2023-11-03T10:55:59.336Z"
   },
   {
    "duration": 27,
    "start_time": "2023-11-03T10:55:59.384Z"
   },
   {
    "duration": 32,
    "start_time": "2023-11-03T10:55:59.413Z"
   },
   {
    "duration": 26,
    "start_time": "2023-11-03T10:55:59.447Z"
   },
   {
    "duration": 35,
    "start_time": "2023-11-03T10:55:59.475Z"
   },
   {
    "duration": 12,
    "start_time": "2023-11-03T10:55:59.512Z"
   },
   {
    "duration": 27,
    "start_time": "2023-11-03T10:55:59.526Z"
   },
   {
    "duration": 19,
    "start_time": "2023-11-03T10:55:59.555Z"
   },
   {
    "duration": 52,
    "start_time": "2023-11-03T10:55:59.575Z"
   },
   {
    "duration": 38,
    "start_time": "2023-11-03T10:55:59.629Z"
   },
   {
    "duration": 36,
    "start_time": "2023-11-03T10:55:59.669Z"
   },
   {
    "duration": 6,
    "start_time": "2023-11-03T10:55:59.707Z"
   },
   {
    "duration": 14,
    "start_time": "2023-11-03T10:55:59.715Z"
   },
   {
    "duration": 41,
    "start_time": "2023-11-03T10:55:59.730Z"
   },
   {
    "duration": 12,
    "start_time": "2023-11-03T10:55:59.772Z"
   },
   {
    "duration": 20,
    "start_time": "2023-11-03T10:55:59.785Z"
   },
   {
    "duration": 36,
    "start_time": "2023-11-03T10:55:59.806Z"
   },
   {
    "duration": 65,
    "start_time": "2023-11-03T10:55:59.844Z"
   },
   {
    "duration": 23,
    "start_time": "2023-11-03T10:55:59.910Z"
   },
   {
    "duration": 17,
    "start_time": "2023-11-03T10:55:59.935Z"
   },
   {
    "duration": 8,
    "start_time": "2023-11-03T10:55:59.953Z"
   },
   {
    "duration": 23,
    "start_time": "2023-11-03T10:55:59.962Z"
   },
   {
    "duration": 72,
    "start_time": "2023-11-03T10:55:59.987Z"
   },
   {
    "duration": 76,
    "start_time": "2023-11-03T10:56:00.061Z"
   },
   {
    "duration": 65,
    "start_time": "2023-11-03T10:56:00.139Z"
   },
   {
    "duration": 54,
    "start_time": "2023-11-03T10:56:00.205Z"
   },
   {
    "duration": 6,
    "start_time": "2023-11-03T11:00:46.177Z"
   },
   {
    "duration": 4,
    "start_time": "2023-11-03T11:00:54.353Z"
   },
   {
    "duration": 158,
    "start_time": "2023-11-03T11:04:16.257Z"
   },
   {
    "duration": 159,
    "start_time": "2023-11-03T11:05:06.071Z"
   },
   {
    "duration": 5847,
    "start_time": "2023-11-03T14:34:31.437Z"
   },
   {
    "duration": 176,
    "start_time": "2023-11-03T14:34:37.286Z"
   },
   {
    "duration": 14,
    "start_time": "2023-11-03T14:34:37.464Z"
   },
   {
    "duration": 15,
    "start_time": "2023-11-03T14:34:37.480Z"
   },
   {
    "duration": 27,
    "start_time": "2023-11-03T14:34:37.497Z"
   },
   {
    "duration": 45,
    "start_time": "2023-11-03T14:34:37.525Z"
   },
   {
    "duration": 4,
    "start_time": "2023-11-03T14:34:37.572Z"
   },
   {
    "duration": 27,
    "start_time": "2023-11-03T14:34:37.578Z"
   },
   {
    "duration": 11,
    "start_time": "2023-11-03T14:34:37.607Z"
   },
   {
    "duration": 14,
    "start_time": "2023-11-03T14:34:37.621Z"
   },
   {
    "duration": 36,
    "start_time": "2023-11-03T14:34:37.636Z"
   },
   {
    "duration": 7,
    "start_time": "2023-11-03T14:34:37.673Z"
   },
   {
    "duration": 159,
    "start_time": "2023-11-03T14:34:37.681Z"
   },
   {
    "duration": 17,
    "start_time": "2023-11-03T14:34:37.841Z"
   },
   {
    "duration": 7,
    "start_time": "2023-11-03T14:34:37.859Z"
   },
   {
    "duration": 25,
    "start_time": "2023-11-03T14:34:37.867Z"
   },
   {
    "duration": 19,
    "start_time": "2023-11-03T14:34:37.894Z"
   },
   {
    "duration": 12,
    "start_time": "2023-11-03T14:34:37.914Z"
   },
   {
    "duration": 18,
    "start_time": "2023-11-03T14:34:37.927Z"
   },
   {
    "duration": 18,
    "start_time": "2023-11-03T14:34:37.947Z"
   },
   {
    "duration": 10,
    "start_time": "2023-11-03T14:34:37.967Z"
   },
   {
    "duration": 11,
    "start_time": "2023-11-03T14:34:37.979Z"
   },
   {
    "duration": 12,
    "start_time": "2023-11-03T14:34:37.991Z"
   },
   {
    "duration": 16,
    "start_time": "2023-11-03T14:34:38.005Z"
   },
   {
    "duration": 82,
    "start_time": "2023-11-03T14:34:38.023Z"
   },
   {
    "duration": 129,
    "start_time": "2023-11-03T14:34:38.107Z"
   },
   {
    "duration": 156,
    "start_time": "2023-11-03T14:34:38.238Z"
   },
   {
    "duration": 161,
    "start_time": "2023-11-03T14:34:38.398Z"
   },
   {
    "duration": 27,
    "start_time": "2023-11-03T14:34:38.560Z"
   },
   {
    "duration": 49,
    "start_time": "2023-11-03T14:34:38.589Z"
   },
   {
    "duration": 4,
    "start_time": "2023-11-03T14:34:38.639Z"
   },
   {
    "duration": 1545,
    "start_time": "2023-11-03T14:34:38.645Z"
   },
   {
    "duration": 1215,
    "start_time": "2023-11-03T14:34:40.192Z"
   },
   {
    "duration": 5,
    "start_time": "2023-11-03T14:34:41.409Z"
   },
   {
    "duration": 279,
    "start_time": "2023-11-03T14:34:41.424Z"
   },
   {
    "duration": 292,
    "start_time": "2023-11-03T14:34:41.706Z"
   },
   {
    "duration": 273,
    "start_time": "2023-11-03T14:34:42.000Z"
   },
   {
    "duration": 279,
    "start_time": "2023-11-03T14:34:42.275Z"
   },
   {
    "duration": 277,
    "start_time": "2023-11-03T14:34:42.555Z"
   },
   {
    "duration": 4,
    "start_time": "2023-11-03T14:34:42.834Z"
   },
   {
    "duration": 193,
    "start_time": "2023-11-03T14:34:42.839Z"
   },
   {
    "duration": 272,
    "start_time": "2023-11-03T14:34:43.034Z"
   },
   {
    "duration": 227,
    "start_time": "2023-11-03T14:34:43.308Z"
   },
   {
    "duration": 162,
    "start_time": "2023-11-03T14:34:43.537Z"
   },
   {
    "duration": 159,
    "start_time": "2023-11-03T14:34:43.701Z"
   },
   {
    "duration": 180,
    "start_time": "2023-11-03T14:34:43.862Z"
   },
   {
    "duration": 141,
    "start_time": "2023-11-03T14:34:44.044Z"
   },
   {
    "duration": 22,
    "start_time": "2023-11-03T14:34:44.187Z"
   },
   {
    "duration": 3,
    "start_time": "2023-11-03T14:34:44.224Z"
   },
   {
    "duration": 31,
    "start_time": "2023-11-03T14:34:44.229Z"
   },
   {
    "duration": 19,
    "start_time": "2023-11-03T14:34:44.262Z"
   },
   {
    "duration": 8,
    "start_time": "2023-11-03T14:34:44.282Z"
   },
   {
    "duration": 7,
    "start_time": "2023-11-03T14:34:44.292Z"
   },
   {
    "duration": 8,
    "start_time": "2023-11-03T14:34:44.301Z"
   },
   {
    "duration": 15,
    "start_time": "2023-11-03T14:34:44.310Z"
   },
   {
    "duration": 6,
    "start_time": "2023-11-03T14:34:44.326Z"
   },
   {
    "duration": 17,
    "start_time": "2023-11-03T14:34:44.334Z"
   },
   {
    "duration": 22,
    "start_time": "2023-11-03T14:34:44.353Z"
   },
   {
    "duration": 19,
    "start_time": "2023-11-03T14:34:44.377Z"
   },
   {
    "duration": 12,
    "start_time": "2023-11-03T14:34:44.398Z"
   },
   {
    "duration": 20,
    "start_time": "2023-11-03T14:34:44.411Z"
   },
   {
    "duration": 10,
    "start_time": "2023-11-03T14:34:44.433Z"
   },
   {
    "duration": 14,
    "start_time": "2023-11-03T14:34:44.445Z"
   },
   {
    "duration": 4782,
    "start_time": "2023-11-03T14:41:40.004Z"
   },
   {
    "duration": 57,
    "start_time": "2023-11-03T14:41:44.788Z"
   },
   {
    "duration": 14,
    "start_time": "2023-11-03T14:41:44.847Z"
   },
   {
    "duration": 13,
    "start_time": "2023-11-03T14:41:44.863Z"
   },
   {
    "duration": 17,
    "start_time": "2023-11-03T14:41:44.878Z"
   },
   {
    "duration": 42,
    "start_time": "2023-11-03T14:41:44.898Z"
   },
   {
    "duration": 6,
    "start_time": "2023-11-03T14:41:44.942Z"
   },
   {
    "duration": 15,
    "start_time": "2023-11-03T14:41:44.950Z"
   },
   {
    "duration": 12,
    "start_time": "2023-11-03T14:41:44.966Z"
   },
   {
    "duration": 44,
    "start_time": "2023-11-03T14:41:44.981Z"
   },
   {
    "duration": 25,
    "start_time": "2023-11-03T14:41:45.027Z"
   },
   {
    "duration": 25,
    "start_time": "2023-11-03T14:41:45.053Z"
   },
   {
    "duration": 179,
    "start_time": "2023-11-03T14:41:45.080Z"
   },
   {
    "duration": 16,
    "start_time": "2023-11-03T14:41:45.261Z"
   },
   {
    "duration": 79,
    "start_time": "2023-11-03T14:41:45.278Z"
   },
   {
    "duration": 35,
    "start_time": "2023-11-03T14:41:45.358Z"
   },
   {
    "duration": 13,
    "start_time": "2023-11-03T14:41:45.394Z"
   },
   {
    "duration": 6,
    "start_time": "2023-11-03T14:41:45.408Z"
   },
   {
    "duration": 9,
    "start_time": "2023-11-03T14:41:45.416Z"
   },
   {
    "duration": 26,
    "start_time": "2023-11-03T14:41:45.427Z"
   },
   {
    "duration": 30,
    "start_time": "2023-11-03T14:41:45.455Z"
   },
   {
    "duration": 29,
    "start_time": "2023-11-03T14:41:45.486Z"
   },
   {
    "duration": 18,
    "start_time": "2023-11-03T14:41:45.516Z"
   },
   {
    "duration": 30,
    "start_time": "2023-11-03T14:41:45.536Z"
   },
   {
    "duration": 72,
    "start_time": "2023-11-03T14:41:45.568Z"
   },
   {
    "duration": 136,
    "start_time": "2023-11-03T14:41:45.642Z"
   },
   {
    "duration": 158,
    "start_time": "2023-11-03T14:41:45.779Z"
   },
   {
    "duration": 200,
    "start_time": "2023-11-03T14:41:45.943Z"
   },
   {
    "duration": 35,
    "start_time": "2023-11-03T14:41:46.146Z"
   },
   {
    "duration": 82,
    "start_time": "2023-11-03T14:41:46.183Z"
   },
   {
    "duration": 6,
    "start_time": "2023-11-03T14:41:46.267Z"
   },
   {
    "duration": 1599,
    "start_time": "2023-11-03T14:41:46.275Z"
   },
   {
    "duration": 1249,
    "start_time": "2023-11-03T14:41:47.876Z"
   },
   {
    "duration": 5,
    "start_time": "2023-11-03T14:41:49.128Z"
   },
   {
    "duration": 309,
    "start_time": "2023-11-03T14:41:49.135Z"
   },
   {
    "duration": 294,
    "start_time": "2023-11-03T14:41:49.446Z"
   },
   {
    "duration": 284,
    "start_time": "2023-11-03T14:41:49.742Z"
   },
   {
    "duration": 342,
    "start_time": "2023-11-03T14:41:50.027Z"
   },
   {
    "duration": 295,
    "start_time": "2023-11-03T14:41:50.371Z"
   },
   {
    "duration": 4,
    "start_time": "2023-11-03T14:41:50.667Z"
   },
   {
    "duration": 181,
    "start_time": "2023-11-03T14:41:50.672Z"
   },
   {
    "duration": 268,
    "start_time": "2023-11-03T14:41:50.855Z"
   },
   {
    "duration": 200,
    "start_time": "2023-11-03T14:41:51.125Z"
   },
   {
    "duration": 173,
    "start_time": "2023-11-03T14:41:51.327Z"
   },
   {
    "duration": 152,
    "start_time": "2023-11-03T14:41:51.502Z"
   },
   {
    "duration": 177,
    "start_time": "2023-11-03T14:41:51.656Z"
   },
   {
    "duration": 149,
    "start_time": "2023-11-03T14:41:51.835Z"
   },
   {
    "duration": 24,
    "start_time": "2023-11-03T14:41:51.986Z"
   },
   {
    "duration": 89,
    "start_time": "2023-11-03T14:41:52.025Z"
   },
   {
    "duration": 151,
    "start_time": "2023-11-03T14:41:52.115Z"
   },
   {
    "duration": 171,
    "start_time": "2023-11-03T14:41:52.268Z"
   },
   {
    "duration": 84,
    "start_time": "2023-11-03T14:41:52.441Z"
   },
   {
    "duration": 166,
    "start_time": "2023-11-03T14:41:52.527Z"
   },
   {
    "duration": 45,
    "start_time": "2023-11-03T14:41:52.695Z"
   },
   {
    "duration": 100,
    "start_time": "2023-11-03T14:41:52.741Z"
   },
   {
    "duration": 34,
    "start_time": "2023-11-03T14:41:52.843Z"
   },
   {
    "duration": 24,
    "start_time": "2023-11-03T14:41:52.880Z"
   },
   {
    "duration": 31,
    "start_time": "2023-11-03T14:41:52.906Z"
   },
   {
    "duration": 68,
    "start_time": "2023-11-03T14:41:52.939Z"
   },
   {
    "duration": 31,
    "start_time": "2023-11-03T14:41:53.009Z"
   },
   {
    "duration": 33,
    "start_time": "2023-11-03T14:41:53.042Z"
   },
   {
    "duration": 17,
    "start_time": "2023-11-03T14:41:53.077Z"
   },
   {
    "duration": 19,
    "start_time": "2023-11-03T14:41:53.095Z"
   },
   {
    "duration": 193,
    "start_time": "2023-11-03T14:46:35.821Z"
   },
   {
    "duration": 3,
    "start_time": "2023-11-03T14:46:55.197Z"
   },
   {
    "duration": 155,
    "start_time": "2023-11-03T14:47:05.033Z"
   },
   {
    "duration": 48,
    "start_time": "2023-11-03T15:49:14.775Z"
   },
   {
    "duration": 4849,
    "start_time": "2023-11-03T15:49:19.796Z"
   },
   {
    "duration": 166,
    "start_time": "2023-11-03T15:49:24.647Z"
   },
   {
    "duration": 12,
    "start_time": "2023-11-03T15:49:24.815Z"
   },
   {
    "duration": 9,
    "start_time": "2023-11-03T15:49:24.830Z"
   },
   {
    "duration": 5,
    "start_time": "2023-11-03T15:49:24.840Z"
   },
   {
    "duration": 30,
    "start_time": "2023-11-03T15:49:24.846Z"
   },
   {
    "duration": 4,
    "start_time": "2023-11-03T15:49:24.877Z"
   },
   {
    "duration": 16,
    "start_time": "2023-11-03T15:49:24.883Z"
   },
   {
    "duration": 11,
    "start_time": "2023-11-03T15:49:24.901Z"
   },
   {
    "duration": 27,
    "start_time": "2023-11-03T15:49:24.914Z"
   },
   {
    "duration": 7,
    "start_time": "2023-11-03T15:49:24.942Z"
   },
   {
    "duration": 6,
    "start_time": "2023-11-03T15:49:24.950Z"
   },
   {
    "duration": 152,
    "start_time": "2023-11-03T15:49:24.957Z"
   },
   {
    "duration": 15,
    "start_time": "2023-11-03T15:49:25.110Z"
   },
   {
    "duration": 18,
    "start_time": "2023-11-03T15:49:25.126Z"
   },
   {
    "duration": 6,
    "start_time": "2023-11-03T15:49:25.145Z"
   },
   {
    "duration": 5,
    "start_time": "2023-11-03T15:49:25.153Z"
   },
   {
    "duration": 6,
    "start_time": "2023-11-03T15:49:25.159Z"
   },
   {
    "duration": 5,
    "start_time": "2023-11-03T15:49:25.166Z"
   },
   {
    "duration": 6,
    "start_time": "2023-11-03T15:49:25.172Z"
   },
   {
    "duration": 5,
    "start_time": "2023-11-03T15:49:25.180Z"
   },
   {
    "duration": 7,
    "start_time": "2023-11-03T15:49:25.186Z"
   },
   {
    "duration": 5,
    "start_time": "2023-11-03T15:49:25.194Z"
   },
   {
    "duration": 7,
    "start_time": "2023-11-03T15:49:25.240Z"
   },
   {
    "duration": 61,
    "start_time": "2023-11-03T15:49:25.248Z"
   },
   {
    "duration": 149,
    "start_time": "2023-11-03T15:49:25.311Z"
   },
   {
    "duration": 154,
    "start_time": "2023-11-03T15:49:25.461Z"
   },
   {
    "duration": 142,
    "start_time": "2023-11-03T15:49:25.619Z"
   },
   {
    "duration": 26,
    "start_time": "2023-11-03T15:49:25.763Z"
   },
   {
    "duration": 28,
    "start_time": "2023-11-03T15:49:25.790Z"
   },
   {
    "duration": 21,
    "start_time": "2023-11-03T15:49:25.820Z"
   },
   {
    "duration": 1379,
    "start_time": "2023-11-03T15:49:25.842Z"
   },
   {
    "duration": 1067,
    "start_time": "2023-11-03T15:49:27.223Z"
   },
   {
    "duration": 5,
    "start_time": "2023-11-03T15:49:28.291Z"
   },
   {
    "duration": 258,
    "start_time": "2023-11-03T15:49:28.297Z"
   },
   {
    "duration": 264,
    "start_time": "2023-11-03T15:49:28.556Z"
   },
   {
    "duration": 250,
    "start_time": "2023-11-03T15:49:28.822Z"
   },
   {
    "duration": 258,
    "start_time": "2023-11-03T15:49:29.073Z"
   },
   {
    "duration": 268,
    "start_time": "2023-11-03T15:49:29.332Z"
   },
   {
    "duration": 4,
    "start_time": "2023-11-03T15:49:29.601Z"
   },
   {
    "duration": 175,
    "start_time": "2023-11-03T15:49:29.607Z"
   },
   {
    "duration": 238,
    "start_time": "2023-11-03T15:49:29.783Z"
   },
   {
    "duration": 196,
    "start_time": "2023-11-03T15:49:30.023Z"
   },
   {
    "duration": 143,
    "start_time": "2023-11-03T15:49:30.221Z"
   },
   {
    "duration": 138,
    "start_time": "2023-11-03T15:49:30.366Z"
   },
   {
    "duration": 159,
    "start_time": "2023-11-03T15:49:30.506Z"
   },
   {
    "duration": 133,
    "start_time": "2023-11-03T15:49:30.667Z"
   },
   {
    "duration": 20,
    "start_time": "2023-11-03T15:49:30.801Z"
   },
   {
    "duration": 46,
    "start_time": "2023-11-03T15:49:30.823Z"
   },
   {
    "duration": 166,
    "start_time": "2023-11-03T15:49:30.870Z"
   },
   {
    "duration": 87,
    "start_time": "2023-11-03T15:49:31.037Z"
   },
   {
    "duration": 55,
    "start_time": "2023-11-03T15:49:31.126Z"
   },
   {
    "duration": 39,
    "start_time": "2023-11-03T15:49:31.183Z"
   },
   {
    "duration": 34,
    "start_time": "2023-11-03T15:49:31.223Z"
   },
   {
    "duration": 64,
    "start_time": "2023-11-03T15:49:31.258Z"
   },
   {
    "duration": 41,
    "start_time": "2023-11-03T15:49:31.324Z"
   },
   {
    "duration": 48,
    "start_time": "2023-11-03T15:49:31.367Z"
   },
   {
    "duration": 23,
    "start_time": "2023-11-03T15:49:31.417Z"
   },
   {
    "duration": 40,
    "start_time": "2023-11-03T15:49:31.442Z"
   },
   {
    "duration": 27,
    "start_time": "2023-11-03T15:49:31.483Z"
   },
   {
    "duration": 39,
    "start_time": "2023-11-03T15:49:31.512Z"
   },
   {
    "duration": 17,
    "start_time": "2023-11-03T15:49:31.553Z"
   },
   {
    "duration": 36,
    "start_time": "2023-11-03T15:49:31.571Z"
   },
   {
    "duration": 254,
    "start_time": "2023-11-03T15:49:51.066Z"
   },
   {
    "duration": 258,
    "start_time": "2023-11-03T15:49:56.763Z"
   },
   {
    "duration": 260,
    "start_time": "2023-11-03T15:50:12.709Z"
   },
   {
    "duration": 251,
    "start_time": "2023-11-03T15:50:19.260Z"
   },
   {
    "duration": 314,
    "start_time": "2023-11-03T15:50:36.571Z"
   },
   {
    "duration": 238,
    "start_time": "2023-11-03T15:51:05.801Z"
   },
   {
    "duration": 251,
    "start_time": "2023-11-03T15:51:14.620Z"
   },
   {
    "duration": 154,
    "start_time": "2023-11-03T15:58:21.514Z"
   },
   {
    "duration": 308,
    "start_time": "2023-11-03T15:59:53.312Z"
   },
   {
    "duration": 275,
    "start_time": "2023-11-03T16:04:43.408Z"
   },
   {
    "duration": 266,
    "start_time": "2023-11-03T16:13:56.234Z"
   },
   {
    "duration": 257,
    "start_time": "2023-11-03T16:16:12.911Z"
   },
   {
    "duration": 262,
    "start_time": "2023-11-03T16:17:58.693Z"
   },
   {
    "duration": 260,
    "start_time": "2023-11-03T16:18:46.243Z"
   },
   {
    "duration": 273,
    "start_time": "2023-11-03T16:18:53.310Z"
   },
   {
    "duration": 333,
    "start_time": "2023-11-03T16:19:10.759Z"
   },
   {
    "duration": 265,
    "start_time": "2023-11-03T16:21:03.832Z"
   },
   {
    "duration": 289,
    "start_time": "2023-11-03T16:21:09.101Z"
   },
   {
    "duration": 248,
    "start_time": "2023-11-03T16:21:36.438Z"
   },
   {
    "duration": 244,
    "start_time": "2023-11-03T16:21:52.043Z"
   },
   {
    "duration": 249,
    "start_time": "2023-11-03T16:23:21.021Z"
   },
   {
    "duration": 150,
    "start_time": "2023-11-03T16:48:26.938Z"
   },
   {
    "duration": 260,
    "start_time": "2023-11-03T16:48:31.932Z"
   },
   {
    "duration": 280,
    "start_time": "2023-11-03T16:49:23.975Z"
   },
   {
    "duration": 243,
    "start_time": "2023-11-03T16:50:03.836Z"
   },
   {
    "duration": 2241,
    "start_time": "2023-11-04T08:02:59.032Z"
   },
   {
    "duration": 55,
    "start_time": "2023-11-04T08:03:01.276Z"
   },
   {
    "duration": 15,
    "start_time": "2023-11-04T08:03:01.333Z"
   },
   {
    "duration": 71,
    "start_time": "2023-11-04T08:03:01.350Z"
   },
   {
    "duration": 43,
    "start_time": "2023-11-04T08:03:01.423Z"
   },
   {
    "duration": 138,
    "start_time": "2023-11-04T08:03:01.468Z"
   },
   {
    "duration": 34,
    "start_time": "2023-11-04T08:03:01.608Z"
   },
   {
    "duration": 70,
    "start_time": "2023-11-04T08:03:01.644Z"
   },
   {
    "duration": 87,
    "start_time": "2023-11-04T08:03:01.715Z"
   },
   {
    "duration": 45,
    "start_time": "2023-11-04T08:03:01.804Z"
   },
   {
    "duration": 45,
    "start_time": "2023-11-04T08:03:01.851Z"
   },
   {
    "duration": 49,
    "start_time": "2023-11-04T08:03:01.898Z"
   },
   {
    "duration": 169,
    "start_time": "2023-11-04T08:03:01.949Z"
   },
   {
    "duration": 16,
    "start_time": "2023-11-04T08:03:02.119Z"
   },
   {
    "duration": 20,
    "start_time": "2023-11-04T08:03:02.136Z"
   },
   {
    "duration": 89,
    "start_time": "2023-11-04T08:03:02.158Z"
   },
   {
    "duration": 158,
    "start_time": "2023-11-04T08:03:02.249Z"
   },
   {
    "duration": 143,
    "start_time": "2023-11-04T08:03:02.409Z"
   },
   {
    "duration": 169,
    "start_time": "2023-11-04T08:03:02.553Z"
   },
   {
    "duration": 36,
    "start_time": "2023-11-04T08:03:02.724Z"
   },
   {
    "duration": 52,
    "start_time": "2023-11-04T08:03:02.761Z"
   },
   {
    "duration": 3,
    "start_time": "2023-11-04T08:03:02.815Z"
   },
   {
    "duration": 1591,
    "start_time": "2023-11-04T08:03:02.820Z"
   },
   {
    "duration": 1186,
    "start_time": "2023-11-04T08:03:04.413Z"
   },
   {
    "duration": 4,
    "start_time": "2023-11-04T08:03:05.606Z"
   },
   {
    "duration": 309,
    "start_time": "2023-11-04T08:03:05.611Z"
   },
   {
    "duration": 364,
    "start_time": "2023-11-04T08:03:05.922Z"
   },
   {
    "duration": 261,
    "start_time": "2023-11-04T08:03:06.291Z"
   },
   {
    "duration": 287,
    "start_time": "2023-11-04T08:03:06.553Z"
   },
   {
    "duration": 285,
    "start_time": "2023-11-04T08:03:06.842Z"
   },
   {
    "duration": 3,
    "start_time": "2023-11-04T08:03:07.129Z"
   },
   {
    "duration": 203,
    "start_time": "2023-11-04T08:03:07.134Z"
   },
   {
    "duration": 420,
    "start_time": "2023-11-04T08:03:07.339Z"
   },
   {
    "duration": 328,
    "start_time": "2023-11-04T08:03:07.761Z"
   },
   {
    "duration": 263,
    "start_time": "2023-11-04T08:03:08.091Z"
   },
   {
    "duration": 288,
    "start_time": "2023-11-04T08:03:08.356Z"
   },
   {
    "duration": 272,
    "start_time": "2023-11-04T08:03:08.646Z"
   },
   {
    "duration": 231,
    "start_time": "2023-11-04T08:03:08.920Z"
   },
   {
    "duration": 26,
    "start_time": "2023-11-04T08:03:09.153Z"
   },
   {
    "duration": 3,
    "start_time": "2023-11-04T08:03:09.180Z"
   },
   {
    "duration": 35,
    "start_time": "2023-11-04T08:03:09.184Z"
   },
   {
    "duration": 64,
    "start_time": "2023-11-04T08:03:09.220Z"
   },
   {
    "duration": 48,
    "start_time": "2023-11-04T08:03:09.285Z"
   },
   {
    "duration": 49,
    "start_time": "2023-11-04T08:03:09.335Z"
   },
   {
    "duration": 10,
    "start_time": "2023-11-04T08:03:09.386Z"
   },
   {
    "duration": 8,
    "start_time": "2023-11-04T08:03:09.398Z"
   },
   {
    "duration": 11,
    "start_time": "2023-11-04T08:03:09.408Z"
   },
   {
    "duration": 32,
    "start_time": "2023-11-04T08:03:09.421Z"
   },
   {
    "duration": 40,
    "start_time": "2023-11-04T08:03:09.455Z"
   },
   {
    "duration": 9,
    "start_time": "2023-11-04T08:03:09.496Z"
   },
   {
    "duration": 27,
    "start_time": "2023-11-04T08:03:09.506Z"
   },
   {
    "duration": 32,
    "start_time": "2023-11-04T08:03:09.535Z"
   },
   {
    "duration": 26,
    "start_time": "2023-11-04T08:03:09.570Z"
   },
   {
    "duration": 14,
    "start_time": "2023-11-04T08:03:09.597Z"
   },
   {
    "duration": 47,
    "start_time": "2023-11-04T10:23:19.622Z"
   },
   {
    "duration": 5241,
    "start_time": "2023-11-04T10:23:25.315Z"
   },
   {
    "duration": 171,
    "start_time": "2023-11-04T10:23:30.558Z"
   },
   {
    "duration": 12,
    "start_time": "2023-11-04T10:23:30.730Z"
   },
   {
    "duration": 104,
    "start_time": "2023-11-04T10:23:30.744Z"
   },
   {
    "duration": 86,
    "start_time": "2023-11-04T10:23:30.850Z"
   },
   {
    "duration": 144,
    "start_time": "2023-11-04T10:23:30.938Z"
   },
   {
    "duration": 127,
    "start_time": "2023-11-04T10:23:31.084Z"
   },
   {
    "duration": 255,
    "start_time": "2023-11-04T10:23:31.213Z"
   },
   {
    "duration": 257,
    "start_time": "2023-11-04T10:23:31.470Z"
   },
   {
    "duration": 48,
    "start_time": "2023-11-04T10:23:31.730Z"
   },
   {
    "duration": 37,
    "start_time": "2023-11-04T10:23:31.780Z"
   },
   {
    "duration": 30,
    "start_time": "2023-11-04T10:23:31.819Z"
   },
   {
    "duration": 182,
    "start_time": "2023-11-04T10:23:31.850Z"
   },
   {
    "duration": 17,
    "start_time": "2023-11-04T10:23:32.033Z"
   },
   {
    "duration": 53,
    "start_time": "2023-11-04T10:23:32.052Z"
   },
   {
    "duration": 202,
    "start_time": "2023-11-04T10:23:32.107Z"
   },
   {
    "duration": 140,
    "start_time": "2023-11-04T10:23:32.311Z"
   },
   {
    "duration": 433,
    "start_time": "2023-11-04T10:23:32.452Z"
   },
   {
    "duration": 176,
    "start_time": "2023-11-04T10:23:32.887Z"
   },
   {
    "duration": 33,
    "start_time": "2023-11-04T10:23:33.065Z"
   },
   {
    "duration": 104,
    "start_time": "2023-11-04T10:23:33.100Z"
   },
   {
    "duration": 60,
    "start_time": "2023-11-04T10:23:33.205Z"
   },
   {
    "duration": 1650,
    "start_time": "2023-11-04T10:23:33.268Z"
   },
   {
    "duration": 1248,
    "start_time": "2023-11-04T10:23:34.920Z"
   },
   {
    "duration": 5,
    "start_time": "2023-11-04T10:23:36.169Z"
   },
   {
    "duration": 286,
    "start_time": "2023-11-04T10:23:36.175Z"
   },
   {
    "duration": 315,
    "start_time": "2023-11-04T10:23:36.462Z"
   },
   {
    "duration": 310,
    "start_time": "2023-11-04T10:23:36.782Z"
   },
   {
    "duration": 284,
    "start_time": "2023-11-04T10:23:37.094Z"
   },
   {
    "duration": 287,
    "start_time": "2023-11-04T10:23:37.379Z"
   },
   {
    "duration": 3,
    "start_time": "2023-11-04T10:23:37.668Z"
   },
   {
    "duration": 271,
    "start_time": "2023-11-04T10:23:37.673Z"
   },
   {
    "duration": 260,
    "start_time": "2023-11-04T10:23:37.946Z"
   },
   {
    "duration": 324,
    "start_time": "2023-11-04T10:23:38.208Z"
   },
   {
    "duration": 275,
    "start_time": "2023-11-04T10:23:38.533Z"
   },
   {
    "duration": 293,
    "start_time": "2023-11-04T10:23:38.809Z"
   },
   {
    "duration": 300,
    "start_time": "2023-11-04T10:23:39.103Z"
   },
   {
    "duration": 256,
    "start_time": "2023-11-04T10:23:39.405Z"
   },
   {
    "duration": 23,
    "start_time": "2023-11-04T10:23:39.662Z"
   },
   {
    "duration": 3,
    "start_time": "2023-11-04T10:23:39.687Z"
   },
   {
    "duration": 33,
    "start_time": "2023-11-04T10:23:39.691Z"
   },
   {
    "duration": 15,
    "start_time": "2023-11-04T10:23:39.726Z"
   },
   {
    "duration": 9,
    "start_time": "2023-11-04T10:23:39.743Z"
   },
   {
    "duration": 8,
    "start_time": "2023-11-04T10:23:39.754Z"
   },
   {
    "duration": 23,
    "start_time": "2023-11-04T10:23:39.764Z"
   },
   {
    "duration": 21,
    "start_time": "2023-11-04T10:23:39.789Z"
   },
   {
    "duration": 14,
    "start_time": "2023-11-04T10:23:39.812Z"
   },
   {
    "duration": 27,
    "start_time": "2023-11-04T10:23:39.827Z"
   },
   {
    "duration": 17,
    "start_time": "2023-11-04T10:23:39.855Z"
   },
   {
    "duration": 11,
    "start_time": "2023-11-04T10:23:39.874Z"
   },
   {
    "duration": 47,
    "start_time": "2023-11-04T10:23:39.887Z"
   },
   {
    "duration": 21,
    "start_time": "2023-11-04T10:23:39.935Z"
   },
   {
    "duration": 19,
    "start_time": "2023-11-04T10:23:39.957Z"
   },
   {
    "duration": 20,
    "start_time": "2023-11-04T10:23:39.978Z"
   },
   {
    "duration": 218,
    "start_time": "2023-11-04T10:23:39.999Z"
   },
   {
    "duration": 216,
    "start_time": "2023-11-04T10:24:27.205Z"
   }
  ],
  "kernelspec": {
   "display_name": "Python 3 (ipykernel)",
   "language": "python",
   "name": "python3"
  },
  "language_info": {
   "codemirror_mode": {
    "name": "ipython",
    "version": 3
   },
   "file_extension": ".py",
   "mimetype": "text/x-python",
   "name": "python",
   "nbconvert_exporter": "python",
   "pygments_lexer": "ipython3",
   "version": "3.9.13"
  },
  "toc": {
   "base_numbering": 1,
   "nav_menu": {},
   "number_sections": true,
   "sideBar": true,
   "skip_h1_title": true,
   "title_cell": "Table of Contents",
   "title_sidebar": "Contents",
   "toc_cell": false,
   "toc_position": {},
   "toc_section_display": true,
   "toc_window_display": false
  }
 },
 "nbformat": 4,
 "nbformat_minor": 2
}
